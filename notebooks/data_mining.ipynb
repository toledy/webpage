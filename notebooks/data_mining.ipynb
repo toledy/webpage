{
 "cells": [
  {
   "cell_type": "markdown",
   "metadata": {},
   "source": [
    "# Data Mining & Wrangling\n",
    "### Using The Spotify Developer API"
   ]
  },
  {
   "cell_type": "code",
   "execution_count": 3,
   "metadata": {
    "collapsed": true,
    "hide": true
   },
   "outputs": [],
   "source": [
    "# Import Packages\n",
    "import spotipy\n",
    "import requests\n",
    "import sys\n",
    "import spotipy.util as util\n",
    "from spotipy.oauth2 import SpotifyClientCredentials\n",
    "import numpy as np\n",
    "import random\n",
    "import pandas as pd\n",
    "import matplotlib\n",
    "import matplotlib.pyplot as plt\n",
    "import json\n",
    "import time\n",
    "import sys\n",
    "import urllib\n",
    "from sklearn.preprocessing import MultiLabelBinarizer"
   ]
  },
  {
   "cell_type": "markdown",
   "metadata": {},
   "source": [
    "## Data Mining\n",
    "\n",
    "### Connect With The Spotify API"
   ]
  },
  {
   "cell_type": "markdown",
   "metadata": {},
   "source": [
    "To begin pulling playlist data from the Spotify API, first a connection with the API needs to be made. For this, both a so-called \"client id\" and \"client secret id\" are required. Once these \"id's\" are obtained, we follow the below outlined steps to set up the API connection:"
   ]
  },
  {
   "cell_type": "code",
   "execution_count": 3,
   "metadata": {
    "collapsed": true
   },
   "outputs": [],
   "source": [
    "# ID and Password for accessing Spotify API\n",
    "client_id = \"client_id\"\n",
    "client_secret = \"client_secret_id\"\n",
    "\n",
    "# Setup the credentials\n",
    "client_credentials_manager = SpotifyClientCredentials(client_id=client_id, client_secret=client_secret)\n",
    "\n",
    "# Make the connection\n",
    "sp = spotipy.Spotify(client_credentials_manager=client_credentials_manager)"
   ]
  },
  {
   "cell_type": "markdown",
   "metadata": {},
   "source": [
    "### Collect Spotify's Featured Playlist Data"
   ]
  },
  {
   "cell_type": "markdown",
   "metadata": {},
   "source": [
    "The main idea of this project is twofold: (i) to infer about key predictors (whether track features or artist features) which are statistically significant in determining a playlist's success in terms of number of followers; and (ii) to create a custom playlist that is deemed to be succesful (i.e., would obtain many followers).\n",
    "\n",
    "To this extent, the first step in doing any further analysis is to obtain the playlists we want to run our predictions on. We decide to focus on Spotify's own \"featured\" playlists - i.e., those produced by Spotify itself given specific genres / moods / artists etc.. \n",
    "\n",
    "The initial step is to pull Spotify's featured playlists and obtain a number of base playlist features."
   ]
  },
  {
   "cell_type": "code",
   "execution_count": null,
   "metadata": {
    "collapsed": true
   },
   "outputs": [],
   "source": [
    "# Get all spotify playlists\n",
    "playlists = sp.user_playlists('spotify')\n",
    "\n",
    "# Empty list to hold playlist information\n",
    "spotify_playlists = []\n",
    "\n",
    "# Loop to get data for each playlist\n",
    "while playlists:\n",
    "    \n",
    "    for i, playlist in enumerate(playlists['items']):\n",
    "        names = playlist['name']\n",
    "        track_count = playlist['tracks']['total']\n",
    "        ids = playlist['id']\n",
    "        uri = playlist['uri']\n",
    "        href = playlist['href']\n",
    "        public = playlist['public']\n",
    "        data_aggregation = names, track_count, ids, uri, href, public\n",
    "        spotify_playlists.append(data_aggregation)\n",
    "        \n",
    "    if playlists['next']:\n",
    "        playlists = sp.next(playlists)\n",
    "    \n",
    "    else:\n",
    "        playlists = None"
   ]
  },
  {
   "cell_type": "markdown",
   "metadata": {},
   "source": [
    "The obtained baseline playlist features are converted into a large dataframe next."
   ]
  },
  {
   "cell_type": "code",
   "execution_count": 4,
   "metadata": {},
   "outputs": [
    {
     "data": {
      "text/html": [
       "<div>\n",
       "<style>\n",
       "    .dataframe thead tr:only-child th {\n",
       "        text-align: right;\n",
       "    }\n",
       "\n",
       "    .dataframe thead th {\n",
       "        text-align: left;\n",
       "    }\n",
       "\n",
       "    .dataframe tbody tr th {\n",
       "        vertical-align: top;\n",
       "    }\n",
       "</style>\n",
       "<table border=\"1\" class=\"dataframe\">\n",
       "  <thead>\n",
       "    <tr style=\"text-align: right;\">\n",
       "      <th></th>\n",
       "      <th>Name</th>\n",
       "      <th>No. of Tracks</th>\n",
       "      <th>ID</th>\n",
       "      <th>URI</th>\n",
       "      <th>HREF</th>\n",
       "      <th>Public</th>\n",
       "    </tr>\n",
       "  </thead>\n",
       "  <tbody>\n",
       "    <tr>\n",
       "      <th>0</th>\n",
       "      <td>Today's Top Hits</td>\n",
       "      <td>50</td>\n",
       "      <td>37i9dQZF1DXcBWIGoYBM5M</td>\n",
       "      <td>spotify:user:spotify:playlist:37i9dQZF1DXcBWIG...</td>\n",
       "      <td>https://api.spotify.com/v1/users/spotify/playl...</td>\n",
       "      <td>True</td>\n",
       "    </tr>\n",
       "    <tr>\n",
       "      <th>1</th>\n",
       "      <td>RapCaviar</td>\n",
       "      <td>63</td>\n",
       "      <td>37i9dQZF1DX0XUsuxWHRQd</td>\n",
       "      <td>spotify:user:spotify:playlist:37i9dQZF1DX0XUsu...</td>\n",
       "      <td>https://api.spotify.com/v1/users/spotify/playl...</td>\n",
       "      <td>True</td>\n",
       "    </tr>\n",
       "    <tr>\n",
       "      <th>2</th>\n",
       "      <td>mint</td>\n",
       "      <td>61</td>\n",
       "      <td>37i9dQZF1DX4dyzvuaRJ0n</td>\n",
       "      <td>spotify:user:spotify:playlist:37i9dQZF1DX4dyzv...</td>\n",
       "      <td>https://api.spotify.com/v1/users/spotify/playl...</td>\n",
       "      <td>True</td>\n",
       "    </tr>\n",
       "    <tr>\n",
       "      <th>3</th>\n",
       "      <td>Are &amp; Be</td>\n",
       "      <td>51</td>\n",
       "      <td>37i9dQZF1DX4SBhb3fqCJd</td>\n",
       "      <td>spotify:user:spotify:playlist:37i9dQZF1DX4SBhb...</td>\n",
       "      <td>https://api.spotify.com/v1/users/spotify/playl...</td>\n",
       "      <td>True</td>\n",
       "    </tr>\n",
       "    <tr>\n",
       "      <th>4</th>\n",
       "      <td>Rock This</td>\n",
       "      <td>64</td>\n",
       "      <td>37i9dQZF1DXcF6B6QPhFDv</td>\n",
       "      <td>spotify:user:spotify:playlist:37i9dQZF1DXcF6B6...</td>\n",
       "      <td>https://api.spotify.com/v1/users/spotify/playl...</td>\n",
       "      <td>True</td>\n",
       "    </tr>\n",
       "  </tbody>\n",
       "</table>\n",
       "</div>"
      ],
      "text/plain": [
       "               Name No. of Tracks                      ID  \\\n",
       "0  Today's Top Hits            50  37i9dQZF1DXcBWIGoYBM5M   \n",
       "1         RapCaviar            63  37i9dQZF1DX0XUsuxWHRQd   \n",
       "2              mint            61  37i9dQZF1DX4dyzvuaRJ0n   \n",
       "3          Are & Be            51  37i9dQZF1DX4SBhb3fqCJd   \n",
       "4         Rock This            64  37i9dQZF1DXcF6B6QPhFDv   \n",
       "\n",
       "                                                 URI  \\\n",
       "0  spotify:user:spotify:playlist:37i9dQZF1DXcBWIG...   \n",
       "1  spotify:user:spotify:playlist:37i9dQZF1DX0XUsu...   \n",
       "2  spotify:user:spotify:playlist:37i9dQZF1DX4dyzv...   \n",
       "3  spotify:user:spotify:playlist:37i9dQZF1DX4SBhb...   \n",
       "4  spotify:user:spotify:playlist:37i9dQZF1DXcF6B6...   \n",
       "\n",
       "                                                HREF Public  \n",
       "0  https://api.spotify.com/v1/users/spotify/playl...   True  \n",
       "1  https://api.spotify.com/v1/users/spotify/playl...   True  \n",
       "2  https://api.spotify.com/v1/users/spotify/playl...   True  \n",
       "3  https://api.spotify.com/v1/users/spotify/playl...   True  \n",
       "4  https://api.spotify.com/v1/users/spotify/playl...   True  "
      ]
     },
     "execution_count": 4,
     "metadata": {},
     "output_type": "execute_result"
    }
   ],
   "source": [
    "# Convert list into a dataframe\n",
    "data = pd.DataFrame(np.array(spotify_playlists).reshape(len(spotify_playlists),6), \n",
    "                    columns=['Name', 'No. of Tracks', 'ID', 'URI', 'HREF', 'Public'])\n",
    "data.head()"
   ]
  },
  {
   "cell_type": "markdown",
   "metadata": {},
   "source": [
    "For each playlist, the number of followers is obtained - this number will be the response variable for our regression based models."
   ]
  },
  {
   "cell_type": "code",
   "execution_count": 8,
   "metadata": {
    "collapsed": true
   },
   "outputs": [],
   "source": [
    "# Pull the number of followers per playlist\n",
    "playlist_follower = []\n",
    "\n",
    "# Loop over playlists and get followers\n",
    "for i in range(0, len(data['URI'])-1): \n",
    "    \n",
    "    # If number of followers is greater than 0\n",
    "    if data['No. of Tracks'][i] > 0:\n",
    "        uri = data['URI'][i]\n",
    "        username = uri.split(':')[2]\n",
    "        playlist_id = uri.split(':')[4]\n",
    "        results = sp.user_playlist(username, playlist_id)\n",
    "        followers = results['followers']['total']\n",
    "        playlist_follower.append(followers)\n",
    "    \n",
    "    # If follower count is 0, append 0   \n",
    "    else: \n",
    "        followers = 0\n",
    "        playlist_follower.append(followers)"
   ]
  },
  {
   "cell_type": "markdown",
   "metadata": {},
   "source": [
    "Finally - the number of followers is concatenated to the playlist dataframe."
   ]
  },
  {
   "cell_type": "code",
   "execution_count": 9,
   "metadata": {},
   "outputs": [
    {
     "data": {
      "text/html": [
       "<div>\n",
       "<style>\n",
       "    .dataframe thead tr:only-child th {\n",
       "        text-align: right;\n",
       "    }\n",
       "\n",
       "    .dataframe thead th {\n",
       "        text-align: left;\n",
       "    }\n",
       "\n",
       "    .dataframe tbody tr th {\n",
       "        vertical-align: top;\n",
       "    }\n",
       "</style>\n",
       "<table border=\"1\" class=\"dataframe\">\n",
       "  <thead>\n",
       "    <tr style=\"text-align: right;\">\n",
       "      <th></th>\n",
       "      <th>Name</th>\n",
       "      <th>No. of Tracks</th>\n",
       "      <th>ID</th>\n",
       "      <th>URI</th>\n",
       "      <th>HREF</th>\n",
       "      <th>Public</th>\n",
       "      <th>Followers</th>\n",
       "    </tr>\n",
       "  </thead>\n",
       "  <tbody>\n",
       "    <tr>\n",
       "      <th>0</th>\n",
       "      <td>Today's Top Hits</td>\n",
       "      <td>50</td>\n",
       "      <td>37i9dQZF1DXcBWIGoYBM5M</td>\n",
       "      <td>spotify:user:spotify:playlist:37i9dQZF1DXcBWIG...</td>\n",
       "      <td>https://api.spotify.com/v1/users/spotify/playl...</td>\n",
       "      <td>True</td>\n",
       "      <td>18247159.0</td>\n",
       "    </tr>\n",
       "    <tr>\n",
       "      <th>1</th>\n",
       "      <td>RapCaviar</td>\n",
       "      <td>63</td>\n",
       "      <td>37i9dQZF1DX0XUsuxWHRQd</td>\n",
       "      <td>spotify:user:spotify:playlist:37i9dQZF1DX0XUsu...</td>\n",
       "      <td>https://api.spotify.com/v1/users/spotify/playl...</td>\n",
       "      <td>True</td>\n",
       "      <td>8375355.0</td>\n",
       "    </tr>\n",
       "    <tr>\n",
       "      <th>2</th>\n",
       "      <td>mint</td>\n",
       "      <td>61</td>\n",
       "      <td>37i9dQZF1DX4dyzvuaRJ0n</td>\n",
       "      <td>spotify:user:spotify:playlist:37i9dQZF1DX4dyzv...</td>\n",
       "      <td>https://api.spotify.com/v1/users/spotify/playl...</td>\n",
       "      <td>True</td>\n",
       "      <td>4616753.0</td>\n",
       "    </tr>\n",
       "    <tr>\n",
       "      <th>3</th>\n",
       "      <td>Are &amp; Be</td>\n",
       "      <td>51</td>\n",
       "      <td>37i9dQZF1DX4SBhb3fqCJd</td>\n",
       "      <td>spotify:user:spotify:playlist:37i9dQZF1DX4SBhb...</td>\n",
       "      <td>https://api.spotify.com/v1/users/spotify/playl...</td>\n",
       "      <td>True</td>\n",
       "      <td>3806312.0</td>\n",
       "    </tr>\n",
       "    <tr>\n",
       "      <th>4</th>\n",
       "      <td>Rock This</td>\n",
       "      <td>64</td>\n",
       "      <td>37i9dQZF1DXcF6B6QPhFDv</td>\n",
       "      <td>spotify:user:spotify:playlist:37i9dQZF1DXcF6B6...</td>\n",
       "      <td>https://api.spotify.com/v1/users/spotify/playl...</td>\n",
       "      <td>True</td>\n",
       "      <td>4004115.0</td>\n",
       "    </tr>\n",
       "  </tbody>\n",
       "</table>\n",
       "</div>"
      ],
      "text/plain": [
       "               Name No. of Tracks                      ID  \\\n",
       "0  Today's Top Hits            50  37i9dQZF1DXcBWIGoYBM5M   \n",
       "1         RapCaviar            63  37i9dQZF1DX0XUsuxWHRQd   \n",
       "2              mint            61  37i9dQZF1DX4dyzvuaRJ0n   \n",
       "3          Are & Be            51  37i9dQZF1DX4SBhb3fqCJd   \n",
       "4         Rock This            64  37i9dQZF1DXcF6B6QPhFDv   \n",
       "\n",
       "                                                 URI  \\\n",
       "0  spotify:user:spotify:playlist:37i9dQZF1DXcBWIG...   \n",
       "1  spotify:user:spotify:playlist:37i9dQZF1DX0XUsu...   \n",
       "2  spotify:user:spotify:playlist:37i9dQZF1DX4dyzv...   \n",
       "3  spotify:user:spotify:playlist:37i9dQZF1DX4SBhb...   \n",
       "4  spotify:user:spotify:playlist:37i9dQZF1DXcF6B6...   \n",
       "\n",
       "                                                HREF Public   Followers  \n",
       "0  https://api.spotify.com/v1/users/spotify/playl...   True  18247159.0  \n",
       "1  https://api.spotify.com/v1/users/spotify/playl...   True   8375355.0  \n",
       "2  https://api.spotify.com/v1/users/spotify/playl...   True   4616753.0  \n",
       "3  https://api.spotify.com/v1/users/spotify/playl...   True   3806312.0  \n",
       "4  https://api.spotify.com/v1/users/spotify/playl...   True   4004115.0  "
      ]
     },
     "execution_count": 9,
     "metadata": {},
     "output_type": "execute_result"
    }
   ],
   "source": [
    "# Add a new column for followers \n",
    "data['Followers'] = pd.DataFrame({'Followers': playlist_follower})\n",
    "data.head()"
   ]
  },
  {
   "cell_type": "markdown",
   "metadata": {},
   "source": [
    "Following the above outlined steps, we are able to produce a dataframe consisting of, in excess 1400, playlists with  relevant information such as playlist id, number of playlist tracks, and number of playlist followers."
   ]
  },
  {
   "cell_type": "markdown",
   "metadata": {},
   "source": [
    "### Collect Spotify Audio Features Per Track in Playlist"
   ]
  },
  {
   "cell_type": "markdown",
   "metadata": {},
   "source": [
    "Using the dataframe of playlists - and specifically the playlist id column - we iterate over all tracks in every playlist and pull relevant audio features which could potentially be helpful in predicting the success of a playlist.\n",
    "Audio features refers to acousticness, energy, key, valence and etc.\n",
    "\n",
    "To this extent, we defin a function to pull all playlists' tracks."
   ]
  },
  {
   "cell_type": "code",
   "execution_count": 10,
   "metadata": {
    "collapsed": true
   },
   "outputs": [],
   "source": [
    "# New function to get tracks in playlist\n",
    "def get_playlist_tracks(username, playlist_id):\n",
    "    results = sp.user_playlist_tracks(username, playlist_id)\n",
    "    tracks = results['items']\n",
    "    while results['next']:\n",
    "        results = sp.next(results)\n",
    "        tracks.extend(results['items'])\n",
    "    return tracks"
   ]
  },
  {
   "cell_type": "markdown",
   "metadata": {},
   "source": [
    "Running the feature extraction from Spotify could take a significant amount of time and also tend to raise errors in the process. To avoid losing information when such error occurs, a dictionary is used in cache memory."
   ]
  },
  {
   "cell_type": "code",
   "execution_count": 11,
   "metadata": {
    "collapsed": true
   },
   "outputs": [],
   "source": [
    "# Subsample of data to pull\n",
    "Spotify_playlists = data.iloc[0:10]\n",
    "\n",
    "# Create playlist cache in memory\n",
    "playlist_tracks = dict()"
   ]
  },
  {
   "cell_type": "markdown",
   "metadata": {},
   "source": [
    "The playlists are prepped for audio feature extraction."
   ]
  },
  {
   "cell_type": "code",
   "execution_count": 12,
   "metadata": {
    "collapsed": true
   },
   "outputs": [],
   "source": [
    "# Collect audio features per track per playlist\n",
    "for playlist in Spotify_playlists[\"ID\"]:\n",
    "    if Spotify_playlists.loc[Spotify_playlists['ID'] == playlist, 'No. of Tracks'].item() > 0:\n",
    "        try:\n",
    "            playlist_tracks[playlist] = get_playlist_tracks('spotify', playlist)\n",
    "            time.sleep(random.randint(1, 3))\n",
    "        except:\n",
    "            pass"
   ]
  },
  {
   "cell_type": "code",
   "execution_count": 14,
   "metadata": {},
   "outputs": [
    {
     "name": "stdout",
     "output_type": "stream",
     "text": [
      "Number of Songs in Playlists: 663\n"
     ]
    }
   ],
   "source": [
    "# Define an example list of songs for the first 10 playlists\n",
    "songs_playlist = []\n",
    "\n",
    "for item,playlist in enumerate(playlist_tracks):\n",
    "    track_len = len(playlist_tracks[playlist])\n",
    "    for song_item,song in enumerate(playlist_tracks[playlist]):\n",
    "        songs_playlist.append((playlist,playlist_tracks[playlist][song_item]['track']['id']))\n",
    "        \n",
    "print(\"Number of Songs in Playlists: {}\".format(len(songs_playlist)))"
   ]
  },
  {
   "cell_type": "markdown",
   "metadata": {},
   "source": [
    "Again, a dictionary in cache memory is set up for the main audio feature extraction loop."
   ]
  },
  {
   "cell_type": "code",
   "execution_count": 15,
   "metadata": {
    "collapsed": true
   },
   "outputs": [],
   "source": [
    "# Create audio feature dictionary and set sleeping time thresholds\n",
    "songs = [item[1] for item in songs_playlist]\n",
    "\n",
    "audio_feat = dict()\n",
    "limit_songs_small = 10\n",
    "limit_songs_medium = 200"
   ]
  },
  {
   "cell_type": "markdown",
   "metadata": {},
   "source": [
    "Audio features are extracted using the below code - note running this code on all playlists takes a significant amount of time (measured in hours)."
   ]
  },
  {
   "cell_type": "code",
   "execution_count": 16,
   "metadata": {},
   "outputs": [
    {
     "name": "stdout",
     "output_type": "stream",
     "text": [
      "100%"
     ]
    }
   ],
   "source": [
    "# Audio feature extraction - saves information in cache\n",
    "for item,song in enumerate(songs):\n",
    "    if song not in audio_feat:\n",
    "        try:\n",
    "            audio_feat[song] = sp.audio_features(song)\n",
    "        except:\n",
    "            pass\n",
    "\n",
    "        if item % limit_songs_small == 0:\n",
    "            time.sleep(random.randint(0, 1))\n",
    "\n",
    "        if item % limit_songs_medium == 0:\n",
    "            time.sleep(random.randint(0, 1))\n",
    "\n",
    "        out = np.floor(item * 1. / len(songs_playlist) * 100)\n",
    "        sys.stdout.write(\"\\r%d%%\" % out)\n",
    "        sys.stdout.flush()\n",
    "\n",
    "sys.stdout.write(\"\\r%d%%\" % 100)"
   ]
  },
  {
   "cell_type": "markdown",
   "metadata": {},
   "source": [
    "Once all the audio features are extracted, they are converted into the main audio feature dataframe and saved as a large csv file."
   ]
  },
  {
   "cell_type": "code",
   "execution_count": 17,
   "metadata": {
    "collapsed": true
   },
   "outputs": [],
   "source": [
    "# Convert raw data into dictionaries\n",
    "acousticness = dict()\n",
    "danceability = dict()\n",
    "duration_ms = dict()\n",
    "energy = dict()\n",
    "instrumentalness = dict()\n",
    "key = dict()\n",
    "liveness = dict()\n",
    "loudness = dict()\n",
    "mode = dict()\n",
    "speechiness = dict()\n",
    "tempo = dict()\n",
    "time_signature = dict()\n",
    "valence = dict()\n",
    "\n",
    "for item,song in enumerate(audio_feat):\n",
    "    try:\n",
    "        acousticness[song] = audio_feat[song][0]['acousticness']\n",
    "        danceability[song] = audio_feat[song][0]['danceability']\n",
    "        duration_ms[song] = audio_feat[song][0]['duration_ms']\n",
    "        energy[song] = audio_feat[song][0]['energy']\n",
    "        instrumentalness[song] = audio_feat[song][0]['instrumentalness']\n",
    "        key[song] = audio_feat[song][0]['key']\n",
    "        liveness[song] = audio_feat[song][0]['liveness']\n",
    "        loudness[song] = audio_feat[song][0]['loudness']\n",
    "        mode[song] = audio_feat[song][0]['mode']\n",
    "        speechiness[song] = audio_feat[song][0]['speechiness']\n",
    "        tempo[song] = audio_feat[song][0]['tempo']\n",
    "        time_signature[song] = audio_feat[song][0]['time_signature']\n",
    "        valence[song] = audio_feat[song][0]['valence']\n",
    "    except TypeError:\n",
    "        pass"
   ]
  },
  {
   "cell_type": "code",
   "execution_count": 18,
   "metadata": {
    "collapsed": true
   },
   "outputs": [],
   "source": [
    "# Creation of audio feature dataframes from dictionaries\n",
    "acc_df = pd.DataFrame(pd.Series(acousticness)).reset_index().rename(columns={'index': 'song', 0: 'acousticness'})\n",
    "dan_df = pd.DataFrame(pd.Series(danceability)).reset_index().rename(columns={'index': 'song', 0: 'dance'})\n",
    "dur_df = pd.DataFrame(pd.Series(duration_ms)).reset_index().rename(columns={'index': 'song', 0: 'duration'})\n",
    "ene_df = pd.DataFrame(pd.Series(energy)).reset_index().rename(columns={'index': 'song', 0: 'energy'})\n",
    "inst_df = pd.DataFrame(pd.Series(instrumentalness)).reset_index().rename(columns={'index': 'song', 0: 'instrumentalness'})\n",
    "key_df = pd.DataFrame(pd.Series(key)).reset_index().rename(columns={'index': 'song', 0: 'key'})\n",
    "live_df = pd.DataFrame(pd.Series(liveness)).reset_index().rename(columns={'index': 'song', 0: 'liveness'})\n",
    "loud_df = pd.DataFrame(pd.Series(loudness)).reset_index().rename(columns={'index': 'song', 0: 'loudness'})\n",
    "mode_df = pd.DataFrame(pd.Series(mode)).reset_index().rename(columns={'index': 'song', 0: 'mode'})\n",
    "spee_df = pd.DataFrame(pd.Series(speechiness)).reset_index().rename(columns={'index': 'song', 0: 'speech'})\n",
    "temp_df = pd.DataFrame(pd.Series(tempo)).reset_index().rename(columns={'index': 'song', 0: 'tempo'})\n",
    "time_df = pd.DataFrame(pd.Series(time_signature)).reset_index().rename(columns={'index': 'song', 0: 'time'})\n",
    "vale_df = pd.DataFrame(pd.Series(valence)).reset_index().rename(columns={'index': 'song', 0: 'valence'})"
   ]
  },
  {
   "cell_type": "code",
   "execution_count": 19,
   "metadata": {},
   "outputs": [
    {
     "data": {
      "text/html": [
       "<div>\n",
       "<style>\n",
       "    .dataframe thead tr:only-child th {\n",
       "        text-align: right;\n",
       "    }\n",
       "\n",
       "    .dataframe thead th {\n",
       "        text-align: left;\n",
       "    }\n",
       "\n",
       "    .dataframe tbody tr th {\n",
       "        vertical-align: top;\n",
       "    }\n",
       "</style>\n",
       "<table border=\"1\" class=\"dataframe\">\n",
       "  <thead>\n",
       "    <tr style=\"text-align: right;\">\n",
       "      <th></th>\n",
       "      <th>acousticness</th>\n",
       "      <th>dance</th>\n",
       "      <th>duration</th>\n",
       "      <th>energy</th>\n",
       "      <th>instrumentalness</th>\n",
       "      <th>key</th>\n",
       "      <th>liveness</th>\n",
       "      <th>loudness</th>\n",
       "      <th>mode</th>\n",
       "      <th>playlist</th>\n",
       "      <th>song</th>\n",
       "      <th>speech</th>\n",
       "      <th>tempo</th>\n",
       "      <th>time</th>\n",
       "      <th>valence</th>\n",
       "    </tr>\n",
       "  </thead>\n",
       "  <tbody>\n",
       "    <tr>\n",
       "      <th>0</th>\n",
       "      <td>0.365</td>\n",
       "      <td>0.307</td>\n",
       "      <td>258933</td>\n",
       "      <td>0.481</td>\n",
       "      <td>0</td>\n",
       "      <td>3</td>\n",
       "      <td>0.207</td>\n",
       "      <td>-8.442</td>\n",
       "      <td>0</td>\n",
       "      <td>37i9dQZF1DXcBWIGoYBM5M</td>\n",
       "      <td>00kkWwGsR9HblTUHb3BmdX</td>\n",
       "      <td>0.128</td>\n",
       "      <td>68.894</td>\n",
       "      <td>3</td>\n",
       "      <td>0.329</td>\n",
       "    </tr>\n",
       "    <tr>\n",
       "      <th>1</th>\n",
       "      <td>0.993</td>\n",
       "      <td>0.322</td>\n",
       "      <td>160897</td>\n",
       "      <td>0.0121</td>\n",
       "      <td>0.927</td>\n",
       "      <td>5</td>\n",
       "      <td>0.127</td>\n",
       "      <td>-31.994</td>\n",
       "      <td>1</td>\n",
       "      <td>37i9dQZF1DXcBWIGoYBM5M</td>\n",
       "      <td>01T3AjynqSMVfiAQCAfrKJ</td>\n",
       "      <td>0.0491</td>\n",
       "      <td>112.464</td>\n",
       "      <td>4</td>\n",
       "      <td>0.118</td>\n",
       "    </tr>\n",
       "    <tr>\n",
       "      <th>2</th>\n",
       "      <td>0.994</td>\n",
       "      <td>0.375</td>\n",
       "      <td>58387</td>\n",
       "      <td>0.00406</td>\n",
       "      <td>0.908</td>\n",
       "      <td>7</td>\n",
       "      <td>0.0842</td>\n",
       "      <td>-31.824</td>\n",
       "      <td>0</td>\n",
       "      <td>37i9dQZF1DXcBWIGoYBM5M</td>\n",
       "      <td>02BumRY2OTFMkMxrXSVMat</td>\n",
       "      <td>0.0671</td>\n",
       "      <td>139.682</td>\n",
       "      <td>1</td>\n",
       "      <td>0.358</td>\n",
       "    </tr>\n",
       "    <tr>\n",
       "      <th>3</th>\n",
       "      <td>0.992</td>\n",
       "      <td>0.393</td>\n",
       "      <td>288280</td>\n",
       "      <td>0.0429</td>\n",
       "      <td>0.925</td>\n",
       "      <td>9</td>\n",
       "      <td>0.0821</td>\n",
       "      <td>-25.727</td>\n",
       "      <td>0</td>\n",
       "      <td>37i9dQZF1DXcBWIGoYBM5M</td>\n",
       "      <td>02mkkozonPEDCenOhuWwLc</td>\n",
       "      <td>0.0341</td>\n",
       "      <td>135.405</td>\n",
       "      <td>4</td>\n",
       "      <td>0.0394</td>\n",
       "    </tr>\n",
       "    <tr>\n",
       "      <th>4</th>\n",
       "      <td>0.992</td>\n",
       "      <td>0.373</td>\n",
       "      <td>99867</td>\n",
       "      <td>0.117</td>\n",
       "      <td>0.909</td>\n",
       "      <td>10</td>\n",
       "      <td>0.111</td>\n",
       "      <td>-25.222</td>\n",
       "      <td>0</td>\n",
       "      <td>37i9dQZF1DXcBWIGoYBM5M</td>\n",
       "      <td>02xmGU9unopKjpblPRC67j</td>\n",
       "      <td>0.0511</td>\n",
       "      <td>125.288</td>\n",
       "      <td>3</td>\n",
       "      <td>0.189</td>\n",
       "    </tr>\n",
       "  </tbody>\n",
       "</table>\n",
       "</div>"
      ],
      "text/plain": [
       "  acousticness  dance duration   energy instrumentalness key liveness  \\\n",
       "0        0.365  0.307   258933    0.481                0   3    0.207   \n",
       "1        0.993  0.322   160897   0.0121            0.927   5    0.127   \n",
       "2        0.994  0.375    58387  0.00406            0.908   7   0.0842   \n",
       "3        0.992  0.393   288280   0.0429            0.925   9   0.0821   \n",
       "4        0.992  0.373    99867    0.117            0.909  10    0.111   \n",
       "\n",
       "  loudness mode                playlist                    song  speech  \\\n",
       "0   -8.442    0  37i9dQZF1DXcBWIGoYBM5M  00kkWwGsR9HblTUHb3BmdX   0.128   \n",
       "1  -31.994    1  37i9dQZF1DXcBWIGoYBM5M  01T3AjynqSMVfiAQCAfrKJ  0.0491   \n",
       "2  -31.824    0  37i9dQZF1DXcBWIGoYBM5M  02BumRY2OTFMkMxrXSVMat  0.0671   \n",
       "3  -25.727    0  37i9dQZF1DXcBWIGoYBM5M  02mkkozonPEDCenOhuWwLc  0.0341   \n",
       "4  -25.222    0  37i9dQZF1DXcBWIGoYBM5M  02xmGU9unopKjpblPRC67j  0.0511   \n",
       "\n",
       "     tempo time valence  \n",
       "0   68.894    3   0.329  \n",
       "1  112.464    4   0.118  \n",
       "2  139.682    1   0.358  \n",
       "3  135.405    4  0.0394  \n",
       "4  125.288    3   0.189  "
      ]
     },
     "execution_count": 19,
     "metadata": {},
     "output_type": "execute_result"
    }
   ],
   "source": [
    "# Merge individual dataframes into one features dataframe\n",
    "playlist_df = pd.DataFrame(songs_playlist,columns=['playlist','song'])\n",
    "\n",
    "frame_V1 = [acc_df,dan_df,dur_df,ene_df,inst_df,key_df,live_df,loud_df,mode_df,spee_df,temp_df,time_df,vale_df]\n",
    "features = pd.concat(frame_V1,axis=1).T.groupby(level=0).first().T\n",
    "\n",
    "frame_V2 = [features,playlist_df]\n",
    "features_df = pd.concat(frame_V2,axis=1).T.groupby(level=0).first().T.dropna()\n",
    "\n",
    "features_df.head()"
   ]
  },
  {
   "cell_type": "code",
   "execution_count": 20,
   "metadata": {
    "collapsed": true
   },
   "outputs": [],
   "source": [
    "# Save as csv file\n",
    "features_df.to_csv('track_features(track_indices).csv', sep=',')"
   ]
  },
  {
   "cell_type": "markdown",
   "metadata": {},
   "source": [
    "### Collect Spotify Artist Information Per Track in Playlist"
   ]
  },
  {
   "cell_type": "markdown",
   "metadata": {},
   "source": [
    "Following a similar procedure as the audio feature extraction, artist information for every track in every playlist is extracted next.\n",
    "\n",
    "First, a function is defined to retrieve artist information given an artist name."
   ]
  },
  {
   "cell_type": "code",
   "execution_count": 21,
   "metadata": {
    "collapsed": true
   },
   "outputs": [],
   "source": [
    "# Subsample of data to pull\n",
    "Spotify_playlists = data.iloc[0:10]\n",
    "\n",
    "# Collect artist information per track found in Step II\n",
    "playlist_tracks = dict()"
   ]
  },
  {
   "cell_type": "code",
   "execution_count": 22,
   "metadata": {
    "collapsed": true
   },
   "outputs": [],
   "source": [
    "# New function to get artists in playlist\n",
    "def get_artist(name):\n",
    "    results = sp.search(q='artist:' + name, type='artist')\n",
    "    items = results['artists']['items']\n",
    "    if len(items) > 0:\n",
    "        return items[0]\n",
    "    else:\n",
    "        return None"
   ]
  },
  {
   "cell_type": "markdown",
   "metadata": {},
   "source": [
    "The playlists are prepped for audio feature extraction."
   ]
  },
  {
   "cell_type": "code",
   "execution_count": 23,
   "metadata": {
    "collapsed": true
   },
   "outputs": [],
   "source": [
    "# Collect tracks per playlist\n",
    "for playlist in Spotify_playlists[\"ID\"]:\n",
    "    if Spotify_playlists.loc[Spotify_playlists['ID'] == playlist, 'No. of Tracks'].item() > 0:\n",
    "        try:\n",
    "            playlist_tracks[playlist] = get_playlist_tracks('spotify', playlist)\n",
    "            time.sleep(random.randint(1, 3))\n",
    "        except:\n",
    "            pass"
   ]
  },
  {
   "cell_type": "code",
   "execution_count": 24,
   "metadata": {
    "collapsed": true
   },
   "outputs": [],
   "source": [
    "# Define an example list of songs for the first 10 playlists\n",
    "artist_list = []\n",
    "song_dict = dict()\n",
    "playlist_dict = dict()\n",
    "\n",
    "for play_index,playlist in enumerate(playlist_tracks):\n",
    "    songs = playlist_tracks[playlist]\n",
    "    for song_index,song in enumerate(songs):\n",
    "        no_artists = len(song['track']['artists'])\n",
    "        for number in range(no_artists):\n",
    "            name = song['track']['artists'][number]['name']\n",
    "            song_id = song['track']['id']\n",
    "            artist_list.append((playlist,song_id,name))\n",
    "            song_dict[name] = song_id\n",
    "            playlist_dict[name] = playlist"
   ]
  },
  {
   "cell_type": "markdown",
   "metadata": {},
   "source": [
    "Again, a dictionary in cache memory is setup for the main artist feature extraction loop."
   ]
  },
  {
   "cell_type": "code",
   "execution_count": 25,
   "metadata": {
    "collapsed": true
   },
   "outputs": [],
   "source": [
    "# Create artist feature dictionary and set sleeping time thresholds\n",
    "artists = list(set([item[2] for item in artist_list]))\n",
    "\n",
    "artist_info = dict()\n",
    "limit_artist_small = 10\n",
    "limit_artist_medium = 200"
   ]
  },
  {
   "cell_type": "markdown",
   "metadata": {},
   "source": [
    "Artist features are extracted using the code below - note running this code on all playlists takes a significant amount of time (measured in hours)."
   ]
  },
  {
   "cell_type": "code",
   "execution_count": 26,
   "metadata": {},
   "outputs": [
    {
     "name": "stdout",
     "output_type": "stream",
     "text": [
      "100%"
     ]
    }
   ],
   "source": [
    "# Artist feature extraction - saves information in cache\n",
    "for item,artist in enumerate(artists):\n",
    "    if artist not in artist_info:\n",
    "        try:\n",
    "            artist_info[artist] = get_artist(artist)\n",
    "        except:\n",
    "            pass\n",
    "    \n",
    "    if item % limit_artist_small == 0:\n",
    "        time.sleep(random.randint(0, 1))\n",
    "    \n",
    "    if item % limit_artist_medium == 0:\n",
    "        time.sleep(random.randint(0, 1))\n",
    "        \n",
    "    out = np.floor(item * 1. / len(artists) * 100)\n",
    "    sys.stdout.write(\"\\r%d%%\" % out)\n",
    "    sys.stdout.flush()\n",
    "\n",
    "sys.stdout.write(\"\\r%d%%\" % 100)"
   ]
  },
  {
   "cell_type": "markdown",
   "metadata": {},
   "source": [
    "Once all the artist features are extracted, they are converted into the main artist feature dataframe and saved as a large csv file."
   ]
  },
  {
   "cell_type": "code",
   "execution_count": 27,
   "metadata": {
    "collapsed": true
   },
   "outputs": [],
   "source": [
    "# Convert raw data into dictionaries\n",
    "followers = dict()\n",
    "genres = dict()\n",
    "popularity = dict()\n",
    "\n",
    "for item,artist in enumerate(artist_info):\n",
    "    try:\n",
    "        followers[artist] = artist_info[artist]['followers']['total']\n",
    "        genres[artist] = artist_info[artist]['genres']\n",
    "        popularity[artist] = artist_info[artist]['popularity']\n",
    "    except TypeError:\n",
    "        pass"
   ]
  },
  {
   "cell_type": "code",
   "execution_count": 28,
   "metadata": {
    "collapsed": true
   },
   "outputs": [],
   "source": [
    "# Creation of artist feature dataframes from dictionaries\n",
    "follow_df = pd.DataFrame(pd.Series(followers)).reset_index().rename(columns={'index': 'artist', 0: 'followers'})\n",
    "genres_df = pd.DataFrame(pd.Series(genres)).reset_index().rename(columns={'index': 'artist', 0: 'genres'})\n",
    "popularity_df = pd.DataFrame(pd.Series(popularity)).reset_index().rename(columns={'index': 'artist', 0: 'popularity'})\n",
    "song_df = pd.DataFrame(pd.Series(song_dict)).reset_index().rename(columns={'index': 'artist', 0: 'song'})\n",
    "playlist_df = pd.DataFrame(pd.Series(playlist_dict)).reset_index().rename(columns={'index': 'artist', 0: 'playlist'})"
   ]
  },
  {
   "cell_type": "code",
   "execution_count": 29,
   "metadata": {},
   "outputs": [
    {
     "data": {
      "text/html": [
       "<div>\n",
       "<style>\n",
       "    .dataframe thead tr:only-child th {\n",
       "        text-align: right;\n",
       "    }\n",
       "\n",
       "    .dataframe thead th {\n",
       "        text-align: left;\n",
       "    }\n",
       "\n",
       "    .dataframe tbody tr th {\n",
       "        vertical-align: top;\n",
       "    }\n",
       "</style>\n",
       "<table border=\"1\" class=\"dataframe\">\n",
       "  <thead>\n",
       "    <tr style=\"text-align: right;\">\n",
       "      <th></th>\n",
       "      <th>artist</th>\n",
       "      <th>followers</th>\n",
       "      <th>genres</th>\n",
       "      <th>playlist</th>\n",
       "      <th>popularity</th>\n",
       "      <th>song</th>\n",
       "    </tr>\n",
       "  </thead>\n",
       "  <tbody>\n",
       "    <tr>\n",
       "      <th>0</th>\n",
       "      <td>10 Years</td>\n",
       "      <td>157035</td>\n",
       "      <td>[alternative metal, nu metal, post-grunge, rap...</td>\n",
       "      <td>37i9dQZF1DXcF6B6QPhFDv</td>\n",
       "      <td>63</td>\n",
       "      <td>0uyDAijTR0tOuH24hxDhE5</td>\n",
       "    </tr>\n",
       "    <tr>\n",
       "      <th>1</th>\n",
       "      <td>21 Savage</td>\n",
       "      <td>2323273</td>\n",
       "      <td>[dwn trap, rap, trap music]</td>\n",
       "      <td>37i9dQZF1DX0XUsuxWHRQd</td>\n",
       "      <td>98</td>\n",
       "      <td>2vaMWMPMgsWX4fwJiKmdWm</td>\n",
       "    </tr>\n",
       "    <tr>\n",
       "      <th>2</th>\n",
       "      <td>24hrs</td>\n",
       "      <td>28839</td>\n",
       "      <td>[dwn trap, trap music, underground hip hop]</td>\n",
       "      <td>37i9dQZF1DX0XUsuxWHRQd</td>\n",
       "      <td>73</td>\n",
       "      <td>2c5D6B8oXAwc6easamdgVA</td>\n",
       "    </tr>\n",
       "    <tr>\n",
       "      <th>3</th>\n",
       "      <td>3LAU</td>\n",
       "      <td>175224</td>\n",
       "      <td>[big room, brostep, deep big room, edm, electr...</td>\n",
       "      <td>37i9dQZF1DX4JAvHpjipBk</td>\n",
       "      <td>67</td>\n",
       "      <td>6yxobtnNHKRAA0cvoNxJhe</td>\n",
       "    </tr>\n",
       "    <tr>\n",
       "      <th>4</th>\n",
       "      <td>50 Cent</td>\n",
       "      <td>2686486</td>\n",
       "      <td>[east coast hip hop, gangster rap, hip hop, po...</td>\n",
       "      <td>37i9dQZF1DX0XUsuxWHRQd</td>\n",
       "      <td>85</td>\n",
       "      <td>32aYDW8Qdnv1ur89TUlDnm</td>\n",
       "    </tr>\n",
       "  </tbody>\n",
       "</table>\n",
       "</div>"
      ],
      "text/plain": [
       "      artist followers                                             genres  \\\n",
       "0   10 Years    157035  [alternative metal, nu metal, post-grunge, rap...   \n",
       "1  21 Savage   2323273                        [dwn trap, rap, trap music]   \n",
       "2      24hrs     28839        [dwn trap, trap music, underground hip hop]   \n",
       "3       3LAU    175224  [big room, brostep, deep big room, edm, electr...   \n",
       "4    50 Cent   2686486  [east coast hip hop, gangster rap, hip hop, po...   \n",
       "\n",
       "                 playlist popularity                    song  \n",
       "0  37i9dQZF1DXcF6B6QPhFDv         63  0uyDAijTR0tOuH24hxDhE5  \n",
       "1  37i9dQZF1DX0XUsuxWHRQd         98  2vaMWMPMgsWX4fwJiKmdWm  \n",
       "2  37i9dQZF1DX0XUsuxWHRQd         73  2c5D6B8oXAwc6easamdgVA  \n",
       "3  37i9dQZF1DX4JAvHpjipBk         67  6yxobtnNHKRAA0cvoNxJhe  \n",
       "4  37i9dQZF1DX0XUsuxWHRQd         85  32aYDW8Qdnv1ur89TUlDnm  "
      ]
     },
     "execution_count": 29,
     "metadata": {},
     "output_type": "execute_result"
    }
   ],
   "source": [
    "# Merge individual dataframes into one features dataframe\n",
    "frame_V1 = [follow_df,genres_df,popularity_df,song_df, playlist_df]\n",
    "artist_information = pd.concat(frame_V1,axis=1).T.groupby(level=0).first().T\n",
    "artist_information.head()"
   ]
  },
  {
   "cell_type": "code",
   "execution_count": 30,
   "metadata": {
    "collapsed": true
   },
   "outputs": [],
   "source": [
    "# Save as csv file\n",
    "artist_information.to_csv('artists(track_indices).csv', sep=',')"
   ]
  },
  {
   "cell_type": "markdown",
   "metadata": {},
   "source": [
    "## Data Wrangling\n",
    "\n",
    "### Loading Data Frames"
   ]
  },
  {
   "cell_type": "markdown",
   "metadata": {},
   "source": [
    "Once all data is extracted from Spotify, the next step is to combine the separate dataframes (i.e., for playlists, audio features and artists) and to perform some initial feature engineering in the hope of creating useful data for inference and prediction of playlist success.\n",
    "\n",
    "The first step is to load all the dataframes separately."
   ]
  },
  {
   "cell_type": "code",
   "execution_count": 48,
   "metadata": {},
   "outputs": [
    {
     "data": {
      "text/html": [
       "<div>\n",
       "<style>\n",
       "    .dataframe thead tr:only-child th {\n",
       "        text-align: right;\n",
       "    }\n",
       "\n",
       "    .dataframe thead th {\n",
       "        text-align: left;\n",
       "    }\n",
       "\n",
       "    .dataframe tbody tr th {\n",
       "        vertical-align: top;\n",
       "    }\n",
       "</style>\n",
       "<table border=\"1\" class=\"dataframe\">\n",
       "  <thead>\n",
       "    <tr style=\"text-align: right;\">\n",
       "      <th></th>\n",
       "      <th>Unnamed: 0</th>\n",
       "      <th>Name</th>\n",
       "      <th>No. of Tracks</th>\n",
       "      <th>ID</th>\n",
       "      <th>URI</th>\n",
       "      <th>HREF</th>\n",
       "      <th>Public</th>\n",
       "      <th>Followers</th>\n",
       "    </tr>\n",
       "  </thead>\n",
       "  <tbody>\n",
       "    <tr>\n",
       "      <th>0</th>\n",
       "      <td>0</td>\n",
       "      <td>Today's Top Hits</td>\n",
       "      <td>50</td>\n",
       "      <td>37i9dQZF1DXcBWIGoYBM5M</td>\n",
       "      <td>spotify:user:spotify:playlist:37i9dQZF1DXcBWIG...</td>\n",
       "      <td>https://api.spotify.com/v1/users/spotify/playl...</td>\n",
       "      <td>True</td>\n",
       "      <td>18079985.0</td>\n",
       "    </tr>\n",
       "    <tr>\n",
       "      <th>1</th>\n",
       "      <td>1</td>\n",
       "      <td>RapCaviar</td>\n",
       "      <td>61</td>\n",
       "      <td>37i9dQZF1DX0XUsuxWHRQd</td>\n",
       "      <td>spotify:user:spotify:playlist:37i9dQZF1DX0XUsu...</td>\n",
       "      <td>https://api.spotify.com/v1/users/spotify/playl...</td>\n",
       "      <td>True</td>\n",
       "      <td>8283836.0</td>\n",
       "    </tr>\n",
       "    <tr>\n",
       "      <th>2</th>\n",
       "      <td>2</td>\n",
       "      <td>mint</td>\n",
       "      <td>61</td>\n",
       "      <td>37i9dQZF1DX4dyzvuaRJ0n</td>\n",
       "      <td>spotify:user:spotify:playlist:37i9dQZF1DX4dyzv...</td>\n",
       "      <td>https://api.spotify.com/v1/users/spotify/playl...</td>\n",
       "      <td>True</td>\n",
       "      <td>4593498.0</td>\n",
       "    </tr>\n",
       "    <tr>\n",
       "      <th>3</th>\n",
       "      <td>3</td>\n",
       "      <td>Are &amp; Be</td>\n",
       "      <td>51</td>\n",
       "      <td>37i9dQZF1DX4SBhb3fqCJd</td>\n",
       "      <td>spotify:user:spotify:playlist:37i9dQZF1DX4SBhb...</td>\n",
       "      <td>https://api.spotify.com/v1/users/spotify/playl...</td>\n",
       "      <td>True</td>\n",
       "      <td>3773823.0</td>\n",
       "    </tr>\n",
       "    <tr>\n",
       "      <th>4</th>\n",
       "      <td>4</td>\n",
       "      <td>Rock This</td>\n",
       "      <td>60</td>\n",
       "      <td>37i9dQZF1DXcF6B6QPhFDv</td>\n",
       "      <td>spotify:user:spotify:playlist:37i9dQZF1DXcF6B6...</td>\n",
       "      <td>https://api.spotify.com/v1/users/spotify/playl...</td>\n",
       "      <td>True</td>\n",
       "      <td>3989695.0</td>\n",
       "    </tr>\n",
       "  </tbody>\n",
       "</table>\n",
       "</div>"
      ],
      "text/plain": [
       "   Unnamed: 0              Name  No. of Tracks                      ID  \\\n",
       "0           0  Today's Top Hits             50  37i9dQZF1DXcBWIGoYBM5M   \n",
       "1           1         RapCaviar             61  37i9dQZF1DX0XUsuxWHRQd   \n",
       "2           2              mint             61  37i9dQZF1DX4dyzvuaRJ0n   \n",
       "3           3          Are & Be             51  37i9dQZF1DX4SBhb3fqCJd   \n",
       "4           4         Rock This             60  37i9dQZF1DXcF6B6QPhFDv   \n",
       "\n",
       "                                                 URI  \\\n",
       "0  spotify:user:spotify:playlist:37i9dQZF1DXcBWIG...   \n",
       "1  spotify:user:spotify:playlist:37i9dQZF1DX0XUsu...   \n",
       "2  spotify:user:spotify:playlist:37i9dQZF1DX4dyzv...   \n",
       "3  spotify:user:spotify:playlist:37i9dQZF1DX4SBhb...   \n",
       "4  spotify:user:spotify:playlist:37i9dQZF1DXcF6B6...   \n",
       "\n",
       "                                                HREF  Public   Followers  \n",
       "0  https://api.spotify.com/v1/users/spotify/playl...    True  18079985.0  \n",
       "1  https://api.spotify.com/v1/users/spotify/playl...    True   8283836.0  \n",
       "2  https://api.spotify.com/v1/users/spotify/playl...    True   4593498.0  \n",
       "3  https://api.spotify.com/v1/users/spotify/playl...    True   3773823.0  \n",
       "4  https://api.spotify.com/v1/users/spotify/playl...    True   3989695.0  "
      ]
     },
     "execution_count": 48,
     "metadata": {},
     "output_type": "execute_result"
    }
   ],
   "source": [
    "# Load playlist dataframe\n",
    "playlist_df = pd.read_csv('Playlist.csv')\n",
    "playlist_df.head()"
   ]
  },
  {
   "cell_type": "code",
   "execution_count": 42,
   "metadata": {},
   "outputs": [
    {
     "data": {
      "text/html": [
       "<div>\n",
       "<style>\n",
       "    .dataframe thead tr:only-child th {\n",
       "        text-align: right;\n",
       "    }\n",
       "\n",
       "    .dataframe thead th {\n",
       "        text-align: left;\n",
       "    }\n",
       "\n",
       "    .dataframe tbody tr th {\n",
       "        vertical-align: top;\n",
       "    }\n",
       "</style>\n",
       "<table border=\"1\" class=\"dataframe\">\n",
       "  <thead>\n",
       "    <tr style=\"text-align: right;\">\n",
       "      <th></th>\n",
       "      <th>acousticness</th>\n",
       "      <th>dance</th>\n",
       "      <th>duration</th>\n",
       "      <th>energy</th>\n",
       "      <th>instrumentalness</th>\n",
       "      <th>key</th>\n",
       "      <th>liveness</th>\n",
       "      <th>loudness</th>\n",
       "      <th>mode</th>\n",
       "      <th>playlist</th>\n",
       "      <th>song</th>\n",
       "      <th>speech</th>\n",
       "      <th>tempo</th>\n",
       "      <th>time</th>\n",
       "      <th>valence</th>\n",
       "    </tr>\n",
       "  </thead>\n",
       "  <tbody>\n",
       "    <tr>\n",
       "      <th>0</th>\n",
       "      <td>0.039500</td>\n",
       "      <td>0.299</td>\n",
       "      <td>214973</td>\n",
       "      <td>0.9210</td>\n",
       "      <td>0.737000</td>\n",
       "      <td>4</td>\n",
       "      <td>0.5890</td>\n",
       "      <td>-6.254</td>\n",
       "      <td>1</td>\n",
       "      <td>37i9dQZF1DXcBWIGoYBM5M</td>\n",
       "      <td>0076oEQq8IToGfnzU3bTHY</td>\n",
       "      <td>0.1930</td>\n",
       "      <td>174.982</td>\n",
       "      <td>4</td>\n",
       "      <td>0.0532</td>\n",
       "    </tr>\n",
       "    <tr>\n",
       "      <th>1</th>\n",
       "      <td>0.365000</td>\n",
       "      <td>0.307</td>\n",
       "      <td>258933</td>\n",
       "      <td>0.4810</td>\n",
       "      <td>0.000000</td>\n",
       "      <td>3</td>\n",
       "      <td>0.2070</td>\n",
       "      <td>-8.442</td>\n",
       "      <td>0</td>\n",
       "      <td>37i9dQZF1DXcBWIGoYBM5M</td>\n",
       "      <td>00kkWwGsR9HblTUHb3BmdX</td>\n",
       "      <td>0.1280</td>\n",
       "      <td>68.894</td>\n",
       "      <td>3</td>\n",
       "      <td>0.3290</td>\n",
       "    </tr>\n",
       "    <tr>\n",
       "      <th>2</th>\n",
       "      <td>0.078700</td>\n",
       "      <td>0.630</td>\n",
       "      <td>261731</td>\n",
       "      <td>0.6560</td>\n",
       "      <td>0.000906</td>\n",
       "      <td>0</td>\n",
       "      <td>0.0953</td>\n",
       "      <td>-6.423</td>\n",
       "      <td>0</td>\n",
       "      <td>37i9dQZF1DXcBWIGoYBM5M</td>\n",
       "      <td>01JkrDSrakX5UO5knhpKNA</td>\n",
       "      <td>0.0276</td>\n",
       "      <td>133.012</td>\n",
       "      <td>4</td>\n",
       "      <td>0.4320</td>\n",
       "    </tr>\n",
       "    <tr>\n",
       "      <th>3</th>\n",
       "      <td>0.000192</td>\n",
       "      <td>0.521</td>\n",
       "      <td>188834</td>\n",
       "      <td>0.8370</td>\n",
       "      <td>0.051000</td>\n",
       "      <td>5</td>\n",
       "      <td>0.0929</td>\n",
       "      <td>-4.581</td>\n",
       "      <td>1</td>\n",
       "      <td>37i9dQZF1DXcBWIGoYBM5M</td>\n",
       "      <td>01KsbekyuQQXpVnxIfNRaC</td>\n",
       "      <td>0.1220</td>\n",
       "      <td>80.027</td>\n",
       "      <td>4</td>\n",
       "      <td>0.6230</td>\n",
       "    </tr>\n",
       "    <tr>\n",
       "      <th>4</th>\n",
       "      <td>0.993000</td>\n",
       "      <td>0.322</td>\n",
       "      <td>160897</td>\n",
       "      <td>0.0121</td>\n",
       "      <td>0.927000</td>\n",
       "      <td>5</td>\n",
       "      <td>0.1270</td>\n",
       "      <td>-31.994</td>\n",
       "      <td>1</td>\n",
       "      <td>37i9dQZF1DXcBWIGoYBM5M</td>\n",
       "      <td>01T3AjynqSMVfiAQCAfrKJ</td>\n",
       "      <td>0.0491</td>\n",
       "      <td>112.464</td>\n",
       "      <td>4</td>\n",
       "      <td>0.1180</td>\n",
       "    </tr>\n",
       "  </tbody>\n",
       "</table>\n",
       "</div>"
      ],
      "text/plain": [
       "   acousticness  dance  duration  energy  instrumentalness  key  liveness  \\\n",
       "0      0.039500  0.299    214973  0.9210          0.737000    4    0.5890   \n",
       "1      0.365000  0.307    258933  0.4810          0.000000    3    0.2070   \n",
       "2      0.078700  0.630    261731  0.6560          0.000906    0    0.0953   \n",
       "3      0.000192  0.521    188834  0.8370          0.051000    5    0.0929   \n",
       "4      0.993000  0.322    160897  0.0121          0.927000    5    0.1270   \n",
       "\n",
       "   loudness  mode                playlist                    song  speech  \\\n",
       "0    -6.254     1  37i9dQZF1DXcBWIGoYBM5M  0076oEQq8IToGfnzU3bTHY  0.1930   \n",
       "1    -8.442     0  37i9dQZF1DXcBWIGoYBM5M  00kkWwGsR9HblTUHb3BmdX  0.1280   \n",
       "2    -6.423     0  37i9dQZF1DXcBWIGoYBM5M  01JkrDSrakX5UO5knhpKNA  0.0276   \n",
       "3    -4.581     1  37i9dQZF1DXcBWIGoYBM5M  01KsbekyuQQXpVnxIfNRaC  0.1220   \n",
       "4   -31.994     1  37i9dQZF1DXcBWIGoYBM5M  01T3AjynqSMVfiAQCAfrKJ  0.0491   \n",
       "\n",
       "     tempo  time  valence  \n",
       "0  174.982     4   0.0532  \n",
       "1   68.894     3   0.3290  \n",
       "2  133.012     4   0.4320  \n",
       "3   80.027     4   0.6230  \n",
       "4  112.464     4   0.1180  "
      ]
     },
     "execution_count": 42,
     "metadata": {},
     "output_type": "execute_result"
    }
   ],
   "source": [
    "# Load track features dataframe\n",
    "tracks_df = pd.read_csv('tracks_df_sub.csv').drop(['Unnamed: 0','Unnamed: 0.1'],axis=1)\n",
    "tracks_df.head()"
   ]
  },
  {
   "cell_type": "code",
   "execution_count": 38,
   "metadata": {},
   "outputs": [
    {
     "data": {
      "text/html": [
       "<div>\n",
       "<style>\n",
       "    .dataframe thead tr:only-child th {\n",
       "        text-align: right;\n",
       "    }\n",
       "\n",
       "    .dataframe thead th {\n",
       "        text-align: left;\n",
       "    }\n",
       "\n",
       "    .dataframe tbody tr th {\n",
       "        vertical-align: top;\n",
       "    }\n",
       "</style>\n",
       "<table border=\"1\" class=\"dataframe\">\n",
       "  <thead>\n",
       "    <tr style=\"text-align: right;\">\n",
       "      <th></th>\n",
       "      <th>artist</th>\n",
       "      <th>followers</th>\n",
       "      <th>genres</th>\n",
       "      <th>playlist</th>\n",
       "      <th>popularity</th>\n",
       "      <th>song</th>\n",
       "    </tr>\n",
       "  </thead>\n",
       "  <tbody>\n",
       "    <tr>\n",
       "      <th>0</th>\n",
       "      <td>*NSYNC</td>\n",
       "      <td>498511.0</td>\n",
       "      <td>['boy band', 'dance pop', 'europop', 'pop', 'p...</td>\n",
       "      <td>37i9dQZF1DWXDAhqlN7e6W</td>\n",
       "      <td>75.0</td>\n",
       "      <td>35zGjsxI020C2NPKp2fzS7</td>\n",
       "    </tr>\n",
       "    <tr>\n",
       "      <th>1</th>\n",
       "      <td>10 Years</td>\n",
       "      <td>154800.0</td>\n",
       "      <td>['alternative metal', 'nu metal', 'post-grunge...</td>\n",
       "      <td>37i9dQZF1DWWJOmJ7nRx0C</td>\n",
       "      <td>63.0</td>\n",
       "      <td>4qmoz9OUEBaXUzlWQX4ZU4</td>\n",
       "    </tr>\n",
       "    <tr>\n",
       "      <th>2</th>\n",
       "      <td>2 Chainz</td>\n",
       "      <td>1926728.0</td>\n",
       "      <td>['dwn trap', 'pop rap', 'rap', 'southern hip h...</td>\n",
       "      <td>37i9dQZF1DX7QOv5kjbU68</td>\n",
       "      <td>91.0</td>\n",
       "      <td>4XoP1AkbOurU9CeZ2rMEz2</td>\n",
       "    </tr>\n",
       "    <tr>\n",
       "      <th>3</th>\n",
       "      <td>21 Savage</td>\n",
       "      <td>2224587.0</td>\n",
       "      <td>['dwn trap', 'rap', 'trap music']</td>\n",
       "      <td>37i9dQZF1DX7QOv5kjbU68</td>\n",
       "      <td>98.0</td>\n",
       "      <td>4ckuS4Nj4FZ7i3Def3Br8W</td>\n",
       "    </tr>\n",
       "    <tr>\n",
       "      <th>4</th>\n",
       "      <td>24hrs</td>\n",
       "      <td>27817.0</td>\n",
       "      <td>['dwn trap', 'trap music', 'underground hip hop']</td>\n",
       "      <td>37i9dQZF1DX0XUsuxWHRQd</td>\n",
       "      <td>74.0</td>\n",
       "      <td>2c5D6B8oXAwc6easamdgVA</td>\n",
       "    </tr>\n",
       "  </tbody>\n",
       "</table>\n",
       "</div>"
      ],
      "text/plain": [
       "      artist  followers                                             genres  \\\n",
       "0     *NSYNC   498511.0  ['boy band', 'dance pop', 'europop', 'pop', 'p...   \n",
       "1   10 Years   154800.0  ['alternative metal', 'nu metal', 'post-grunge...   \n",
       "2   2 Chainz  1926728.0  ['dwn trap', 'pop rap', 'rap', 'southern hip h...   \n",
       "3  21 Savage  2224587.0                  ['dwn trap', 'rap', 'trap music']   \n",
       "4      24hrs    27817.0  ['dwn trap', 'trap music', 'underground hip hop']   \n",
       "\n",
       "                 playlist  popularity                    song  \n",
       "0  37i9dQZF1DWXDAhqlN7e6W        75.0  35zGjsxI020C2NPKp2fzS7  \n",
       "1  37i9dQZF1DWWJOmJ7nRx0C        63.0  4qmoz9OUEBaXUzlWQX4ZU4  \n",
       "2  37i9dQZF1DX7QOv5kjbU68        91.0  4XoP1AkbOurU9CeZ2rMEz2  \n",
       "3  37i9dQZF1DX7QOv5kjbU68        98.0  4ckuS4Nj4FZ7i3Def3Br8W  \n",
       "4  37i9dQZF1DX0XUsuxWHRQd        74.0  2c5D6B8oXAwc6easamdgVA  "
      ]
     },
     "execution_count": 38,
     "metadata": {},
     "output_type": "execute_result"
    }
   ],
   "source": [
    "# Load artist information dataframe\n",
    "artist_df_sub = pd.read_csv('artist_df_sub.csv').drop(['Unnamed: 0','Unnamed: 0.1'],axis=1)\n",
    "artist_df_sub.head()"
   ]
  },
  {
   "cell_type": "markdown",
   "metadata": {},
   "source": [
    "As we can see from the above - artists are grouped by a list of genres by Spotify. Therefore,genres are one-hot encoded in order to make these genre lists predictors that we can run models on."
   ]
  },
  {
   "cell_type": "code",
   "execution_count": 40,
   "metadata": {
    "collapsed": true
   },
   "outputs": [],
   "source": [
    "# One-hot encode genre labels\n",
    "mlb = MultiLabelBinarizer(sparse_output=True)\n",
    "pre_data = mlb.fit_transform(artist_df_sub['genres'].str.split(','))\n",
    "classes = [i.strip('[]') for i in mlb.classes_]\n",
    "genre_sub = pd.DataFrame(pre_data.toarray(),columns=classes)\n",
    "_, i = np.unique(genre_sub.columns, return_index=True)\n",
    "genre_sub = genre_sub.iloc[:, i]\n",
    "\n",
    "# Drop genre column from artist sub dataframe\n",
    "artist_df_sub_mid = artist_df_sub.drop('genres', axis=1)\n",
    "\n",
    "# Concatenate artist sub dataframe and genre dataframe\n",
    "artist_sub_frames = [artist_df_sub_mid,genre_sub]\n",
    "artist_df = pd.concat(artist_sub_frames,axis=1,join='inner')"
   ]
  },
  {
   "cell_type": "markdown",
   "metadata": {},
   "source": [
    "Once all the genres are one-hot encoded, the dataframes are grouped by playlist to enable the following feature engineering."
   ]
  },
  {
   "cell_type": "code",
   "execution_count": 43,
   "metadata": {},
   "outputs": [
    {
     "name": "stdout",
     "output_type": "stream",
     "text": [
      "Number of playlists:  1546\n",
      "Number of playlists:  1465\n"
     ]
    }
   ],
   "source": [
    "# Group-by function on artists\n",
    "group_artists_by_playlist = artist_df.groupby('playlist') \n",
    "print(\"Number of playlists: \", len(group_artists_by_playlist))\n",
    "\n",
    "# Group-by function on tracks\n",
    "group_tracks_by_playlist = tracks_df.groupby('playlist')\n",
    "print(\"Number of playlists: \", len(group_tracks_by_playlist))"
   ]
  },
  {
   "cell_type": "markdown",
   "metadata": {},
   "source": [
    "### Feature Engineering"
   ]
  },
  {
   "cell_type": "markdown",
   "metadata": {},
   "source": [
    "In terms of artists, feature engineering led to the following predictors:\n",
    "\n",
    "* Thirty columns represent the names of top 30 artists (in terms of appearing most often in popular playlists). They are categorical variables indicating whether a playlist has a specific artist.\n",
    "* Five columns represent the number of times top 50 artists (in terms of artist followers in aggregate) appear in the playlists (bucketed in 10 artists each)\n",
    "* Two columns represent the mean and standard deviation of artists followers per playlist\n",
    "* Two columns represent the mean and standard deviation of artists popularity per playlist\n",
    "* Artist genres are one-hot encoded"
   ]
  },
  {
   "cell_type": "markdown",
   "metadata": {},
   "source": [
    "First, the top 50 artists (in terms of number of Spotify followers) are extracted. Then, we count the amount of times these artists show up in a given playlist and record the counts as predictors in the final dataframe."
   ]
  },
  {
   "cell_type": "code",
   "execution_count": 44,
   "metadata": {
    "collapsed": true
   },
   "outputs": [],
   "source": [
    "top_10_followers = list(artist_df.sort_values('followers',ascending=False)['artist'].unique()[:10])\n",
    "top_10_20_followers = list(artist_df.sort_values('followers',ascending=False)['artist'].unique()[10:20])\n",
    "top_20_30_followers = list(artist_df.sort_values('followers',ascending=False)['artist'].unique()[20:30])\n",
    "top_30_40_followers = list(artist_df.sort_values('followers',ascending=False)['artist'].unique()[30:40])\n",
    "top_40_50_followers = list(artist_df.sort_values('followers',ascending=False)['artist'].unique()[40:50])\n",
    "\n",
    "artist_df['top_0_10'] = np.where(artist_df['artist'].isin(top_10_followers), 1, 0)\n",
    "artist_df['top_10_20'] = np.where(artist_df['artist'].isin(top_10_20_followers), 1, 0)\n",
    "artist_df['top_20_30'] = np.where(artist_df['artist'].isin(top_20_30_followers), 1, 0)\n",
    "artist_df['top_30_40'] = np.where(artist_df['artist'].isin(top_30_40_followers), 1, 0)\n",
    "artist_df['top_40_50'] = np.where(artist_df['artist'].isin(top_40_50_followers), 1, 0)"
   ]
  },
  {
   "cell_type": "markdown",
   "metadata": {},
   "source": [
    "Second, we obtain the list of 30 artists who appear most often in playlists with 35,000+ followers. By looping over the playlists, the additional predictors are created as below."
   ]
  },
  {
   "cell_type": "code",
   "execution_count": 5,
   "metadata": {
    "collapsed": true,
    "hide": true
   },
   "outputs": [],
   "source": [
    "popular_artists=['Post Malone', 'JAY Z', 'Lil Wayne', 'Rihanna', '21 Savage',\n",
    "       'Young Thug', 'A$AP Rocky', 'Galantis', 'Van Morrison',\n",
    "       'Chance The Rapper', 'Led Zeppelin', 'Otis Redding',\n",
    "       'Axwell /\\\\ Ingrosso', 'Wiz Khalifa', 'Yo Gotti', 'Ryan Adams',\n",
    "       'Miguel', 'Birdy', 'John Mayer', 'Kanye West', 'First Aid Kit',\n",
    "       'Deorro', 'Ellie Goulding', 'Radiohead', 'Commodores', 'Diddy',\n",
    "       'SZA', 'Nicki Minaj', 'SYML']"
   ]
  },
  {
   "cell_type": "code",
   "execution_count": 45,
   "metadata": {
    "collapsed": true
   },
   "outputs": [],
   "source": [
    "# Artist feature engineering\n",
    "artist_feature_list=[]\n",
    "\n",
    "for key, item in group_artists_by_playlist:\n",
    "    \n",
    "    #add in top 30 artists\n",
    "    category_artist_count=[]\n",
    "    for ele in popular_artists:\n",
    "        present=False\n",
    "        for artist in item['artist']:\n",
    "            if ele==artist:\n",
    "                present=True\n",
    "        category_artist_count.append(present*1)\n",
    "    \n",
    "    followers_mean=item['followers'].mean()\n",
    "    followers_std=item['followers'].std()\n",
    "    \n",
    "    popularity_mean=item['popularity'].mean()\n",
    "    popularity_std=item['popularity'].std()\n",
    "    \n",
    "    top_10 = item['top_0_10'].sum()\n",
    "    top_10_20 = item['top_10_20'].sum()\n",
    "    top_20_30 = item['top_20_30'].sum()\n",
    "    top_30_40 = item['top_30_40'].sum()\n",
    "    top_40_50 = item['top_40_50'].sum()\n",
    "    \n",
    "    tmp=[key, followers_mean,followers_std,popularity_mean,popularity_std,\\\n",
    "         top_10,top_10_20,top_20_30,top_30_40,top_40_50]\n",
    "    for i in range(len(popular_artists)):\n",
    "        tmp.append(category_artist_count[i])\n",
    "    artist_feature_list.append(tuple(tmp))\n",
    "    \n",
    "# Save feature names\n",
    "artist_feature_names = ['followers_mean','followers_std','popularity_mean','popularity_std',\n",
    "                       'top_0_10','top_10_20','top_20_30','top_30_40','top_40_50']\n",
    "for i in range(len(popular_artists)):\n",
    "        artist_feature_names.append(popular_artists[i])"
   ]
  },
  {
   "cell_type": "markdown",
   "metadata": {},
   "source": [
    "All the genres in a playlist are encoded to ones in the one-hot encoded genre columns."
   ]
  },
  {
   "cell_type": "code",
   "execution_count": 46,
   "metadata": {
    "collapsed": true
   },
   "outputs": [],
   "source": [
    "# Splitting of genres and enumeration per playlist\n",
    "genre_list = []\n",
    "\n",
    "for key, item in group_artists_by_playlist:\n",
    "    for genre in classes:\n",
    "        genre_list.append(item[genre].max())"
   ]
  },
  {
   "cell_type": "markdown",
   "metadata": {},
   "source": [
    "Finally, the main artist data frame is created below:"
   ]
  },
  {
   "cell_type": "code",
   "execution_count": 49,
   "metadata": {},
   "outputs": [
    {
     "data": {
      "text/html": [
       "<div>\n",
       "<style>\n",
       "    .dataframe thead tr:only-child th {\n",
       "        text-align: right;\n",
       "    }\n",
       "\n",
       "    .dataframe thead th {\n",
       "        text-align: left;\n",
       "    }\n",
       "\n",
       "    .dataframe tbody tr th {\n",
       "        vertical-align: top;\n",
       "    }\n",
       "</style>\n",
       "<table border=\"1\" class=\"dataframe\">\n",
       "  <thead>\n",
       "    <tr style=\"text-align: right;\">\n",
       "      <th></th>\n",
       "      <th>followers_mean</th>\n",
       "      <th>followers_std</th>\n",
       "      <th>popularity_mean</th>\n",
       "      <th>popularity_std</th>\n",
       "      <th>top_0_10</th>\n",
       "      <th>top_10_20</th>\n",
       "      <th>top_20_30</th>\n",
       "      <th>top_30_40</th>\n",
       "      <th>top_40_50</th>\n",
       "      <th>Playlist_Followers</th>\n",
       "      <th>ID</th>\n",
       "    </tr>\n",
       "  </thead>\n",
       "  <tbody>\n",
       "    <tr>\n",
       "      <th>0</th>\n",
       "      <td>134413.666667</td>\n",
       "      <td>3.654590e+05</td>\n",
       "      <td>42.833333</td>\n",
       "      <td>19.575645</td>\n",
       "      <td>0</td>\n",
       "      <td>0</td>\n",
       "      <td>0</td>\n",
       "      <td>0</td>\n",
       "      <td>0</td>\n",
       "      <td>24.0</td>\n",
       "      <td>01WIu4Rst0xeZnTunWxUL7</td>\n",
       "    </tr>\n",
       "    <tr>\n",
       "      <th>1</th>\n",
       "      <td>103320.580645</td>\n",
       "      <td>3.320150e+05</td>\n",
       "      <td>48.903226</td>\n",
       "      <td>15.029648</td>\n",
       "      <td>0</td>\n",
       "      <td>0</td>\n",
       "      <td>0</td>\n",
       "      <td>0</td>\n",
       "      <td>0</td>\n",
       "      <td>330.0</td>\n",
       "      <td>05dTMGk8MjnpQg3bKuoXcc</td>\n",
       "    </tr>\n",
       "    <tr>\n",
       "      <th>2</th>\n",
       "      <td>566814.560000</td>\n",
       "      <td>1.427308e+06</td>\n",
       "      <td>60.280000</td>\n",
       "      <td>15.512146</td>\n",
       "      <td>0</td>\n",
       "      <td>0</td>\n",
       "      <td>0</td>\n",
       "      <td>1</td>\n",
       "      <td>0</td>\n",
       "      <td>73.0</td>\n",
       "      <td>070FVPBKvfu6M5tf4I9rt2</td>\n",
       "    </tr>\n",
       "    <tr>\n",
       "      <th>3</th>\n",
       "      <td>199831.484848</td>\n",
       "      <td>2.953859e+05</td>\n",
       "      <td>58.696970</td>\n",
       "      <td>15.627470</td>\n",
       "      <td>0</td>\n",
       "      <td>0</td>\n",
       "      <td>0</td>\n",
       "      <td>0</td>\n",
       "      <td>0</td>\n",
       "      <td>6173.0</td>\n",
       "      <td>08vPKM3pmoyF6crB2EtASQ</td>\n",
       "    </tr>\n",
       "    <tr>\n",
       "      <th>4</th>\n",
       "      <td>223253.774194</td>\n",
       "      <td>4.918438e+05</td>\n",
       "      <td>49.516129</td>\n",
       "      <td>19.489948</td>\n",
       "      <td>0</td>\n",
       "      <td>0</td>\n",
       "      <td>0</td>\n",
       "      <td>0</td>\n",
       "      <td>0</td>\n",
       "      <td>145.0</td>\n",
       "      <td>08ySLuUm0jMf7lJmFwqRMu</td>\n",
       "    </tr>\n",
       "  </tbody>\n",
       "</table>\n",
       "</div>"
      ],
      "text/plain": [
       "   followers_mean  followers_std  popularity_mean  popularity_std  top_0_10  \\\n",
       "0   134413.666667   3.654590e+05        42.833333       19.575645         0   \n",
       "1   103320.580645   3.320150e+05        48.903226       15.029648         0   \n",
       "2   566814.560000   1.427308e+06        60.280000       15.512146         0   \n",
       "3   199831.484848   2.953859e+05        58.696970       15.627470         0   \n",
       "4   223253.774194   4.918438e+05        49.516129       19.489948         0   \n",
       "\n",
       "   top_10_20  top_20_30  top_30_40  top_40_50  Playlist_Followers  \\\n",
       "0          0          0          0          0                24.0   \n",
       "1          0          0          0          0               330.0   \n",
       "2          0          0          1          0                73.0   \n",
       "3          0          0          0          0              6173.0   \n",
       "4          0          0          0          0               145.0   \n",
       "\n",
       "                       ID  \n",
       "0  01WIu4Rst0xeZnTunWxUL7  \n",
       "1  05dTMGk8MjnpQg3bKuoXcc  \n",
       "2  070FVPBKvfu6M5tf4I9rt2  \n",
       "3  08vPKM3pmoyF6crB2EtASQ  \n",
       "4  08ySLuUm0jMf7lJmFwqRMu  "
      ]
     },
     "execution_count": 49,
     "metadata": {},
     "output_type": "execute_result"
    }
   ],
   "source": [
    "# Reshape genres into array of proper dimensions\n",
    "genre_arr = np.array(genre_list).reshape(len(artist_feature_list),len(classes))\n",
    "\n",
    "# Create genre sub dataframe per playlist\n",
    "artist_genres_df = pd.DataFrame(genre_arr)\n",
    "artist_genres_df.columns = classes\n",
    "\n",
    "#dataframe for artist grouped by playlist\n",
    "artist_features_df = pd.DataFrame(artist_feature_list).set_index(0)\n",
    "artist_features_df.columns = artist_feature_names\n",
    "\n",
    "# column for number of followers\n",
    "artist_features_df['Playlist_Followers'] = playlist_df[['Followers']].groupby(playlist_df['ID']).first()\n",
    "artist_features_df['ID']=artist_features_df.index\n",
    "\n",
    "artist_main_df = artist_features_df.reset_index().drop(0, axis=1)\n",
    "artist_main_df.head()"
   ]
  },
  {
   "cell_type": "code",
   "execution_count": 50,
   "metadata": {
    "collapsed": true
   },
   "outputs": [],
   "source": [
    "# Concatenate grouped artist sub dataframe and genre dataframe\n",
    "artist_sub_groups = [artist_main_df,artist_genres_df]\n",
    "artist_df_groups = pd.concat(artist_sub_groups,axis=1,join='inner')\n",
    "artist_df_groups = artist_df_groups.rename(columns={'': \"'no_genre'\"})"
   ]
  },
  {
   "cell_type": "markdown",
   "metadata": {},
   "source": [
    "Similar to the artist feature engineering, the playlists' audio features are engineered next. Specifically, for each audio feature (such as acousticness, duraition, energy) mined from Spotify, the mean and standard deviation across all playlist tracks is computed."
   ]
  },
  {
   "cell_type": "code",
   "execution_count": 51,
   "metadata": {
    "collapsed": true
   },
   "outputs": [],
   "source": [
    "# Feature Engineering for track df: save to feature_list \n",
    "feature_list = []\n",
    "\n",
    "for key, item in group_tracks_by_playlist:\n",
    "\n",
    "    acousticness_mean =item['acousticness'].mean()\n",
    "    acousticness_std = item['acousticness'].std()\n",
    "    \n",
    "    dance_mean =item['dance'].mean()\n",
    "    dance_std = item['dance'].std()\n",
    "    \n",
    "    duration_mean =item['dance'].mean()\n",
    "    duration_std = item['dance'].std()\n",
    "    \n",
    "    energy_mean =item['energy'].mean()\n",
    "    energy_std = item['energy'].std()\n",
    "    \n",
    "    instrumentalness_mean =item['instrumentalness'].mean()\n",
    "    instrumentalness_std = item['instrumentalness'].std()\n",
    "    \n",
    "    key_mean =item['energy'].mean()\n",
    "    key_std = item['energy'].std()\n",
    "    \n",
    "    liveness_mean =item['liveness'].mean()\n",
    "    liveness_std = item['liveness'].std()\n",
    "    \n",
    "    loudness_mean =item['loudness'].mean()\n",
    "    loudness_std = item['loudness'].std()\n",
    "    \n",
    "    mode_mean =item['mode'].mean()\n",
    "    mode_std = item['mode'].std()\n",
    "    \n",
    "    speech_mean =item['speech'].mean()\n",
    "    speech_std = item['speech'].std()\n",
    "    \n",
    "    tempo_mean =item['tempo'].mean()\n",
    "    tempo_std = item['tempo'].std()\n",
    "    \n",
    "    time_mean =item['time'].mean()\n",
    "    time_std = item['time'].std()\n",
    "    \n",
    "    valence_mean =item['valence'].mean()\n",
    "    valence_std = item['valence'].std()\n",
    "        \n",
    "    feature_list.append((key, acousticness_mean, acousticness_std, dance_mean, dance_std, energy_mean, energy_std, \n",
    "                        instrumentalness_mean, instrumentalness_std, key_mean, key_std, liveness_mean, liveness_std,\n",
    "                        loudness_mean, loudness_std, mode_mean, mode_std, speech_mean, speech_std, tempo_mean, tempo_std,\n",
    "                        time_mean, time_std, valence_mean, valence_std))\n",
    "# Save feature names\n",
    "feature_names =  ['acousticness_mean','acousticness_std','dance_mean', 'dance_std', 'energy_mean', 'energy_std', \n",
    "                        'instrumentalness_mean', 'instrumentalness_std', 'key_mean', 'key_std', 'liveness_mean', \n",
    "                        'liveness_std','loudness_mean', 'loudness_std', 'mode_mean', 'mode_std', 'speech_mean', \n",
    "                        'speech_std','tempo_mean', 'tempo_std','time_mean', 'time_std', 'valence_mean', 'valence_std',\n",
    "                  ]"
   ]
  },
  {
   "cell_type": "markdown",
   "metadata": {},
   "source": [
    "The engineered audio features are converted into a dataframe as follows:"
   ]
  },
  {
   "cell_type": "code",
   "execution_count": 52,
   "metadata": {},
   "outputs": [
    {
     "data": {
      "text/html": [
       "<div>\n",
       "<style>\n",
       "    .dataframe thead tr:only-child th {\n",
       "        text-align: right;\n",
       "    }\n",
       "\n",
       "    .dataframe thead th {\n",
       "        text-align: left;\n",
       "    }\n",
       "\n",
       "    .dataframe tbody tr th {\n",
       "        vertical-align: top;\n",
       "    }\n",
       "</style>\n",
       "<table border=\"1\" class=\"dataframe\">\n",
       "  <thead>\n",
       "    <tr style=\"text-align: right;\">\n",
       "      <th></th>\n",
       "      <th>acousticness_mean</th>\n",
       "      <th>acousticness_std</th>\n",
       "      <th>dance_mean</th>\n",
       "      <th>dance_std</th>\n",
       "      <th>energy_mean</th>\n",
       "      <th>energy_std</th>\n",
       "      <th>instrumentalness_mean</th>\n",
       "      <th>instrumentalness_std</th>\n",
       "      <th>key_mean</th>\n",
       "      <th>key_std</th>\n",
       "      <th>...</th>\n",
       "      <th>speech_mean</th>\n",
       "      <th>speech_std</th>\n",
       "      <th>tempo_mean</th>\n",
       "      <th>tempo_std</th>\n",
       "      <th>time_mean</th>\n",
       "      <th>time_std</th>\n",
       "      <th>valence_mean</th>\n",
       "      <th>valence_std</th>\n",
       "      <th>Followers</th>\n",
       "      <th>ID</th>\n",
       "    </tr>\n",
       "  </thead>\n",
       "  <tbody>\n",
       "    <tr>\n",
       "      <th>0</th>\n",
       "      <td>0.641282</td>\n",
       "      <td>0.326942</td>\n",
       "      <td>0.467911</td>\n",
       "      <td>0.241057</td>\n",
       "      <td>0.275940</td>\n",
       "      <td>0.225821</td>\n",
       "      <td>0.119650</td>\n",
       "      <td>0.277109</td>\n",
       "      <td>0.275940</td>\n",
       "      <td>0.225821</td>\n",
       "      <td>...</td>\n",
       "      <td>0.383051</td>\n",
       "      <td>0.403365</td>\n",
       "      <td>101.045969</td>\n",
       "      <td>51.857504</td>\n",
       "      <td>3.338462</td>\n",
       "      <td>1.553996</td>\n",
       "      <td>0.319263</td>\n",
       "      <td>0.246235</td>\n",
       "      <td>24.0</td>\n",
       "      <td>01WIu4Rst0xeZnTunWxUL7</td>\n",
       "    </tr>\n",
       "    <tr>\n",
       "      <th>1</th>\n",
       "      <td>0.249844</td>\n",
       "      <td>0.321182</td>\n",
       "      <td>0.555140</td>\n",
       "      <td>0.172088</td>\n",
       "      <td>0.666567</td>\n",
       "      <td>0.230578</td>\n",
       "      <td>0.077776</td>\n",
       "      <td>0.240452</td>\n",
       "      <td>0.666567</td>\n",
       "      <td>0.230578</td>\n",
       "      <td>...</td>\n",
       "      <td>0.137260</td>\n",
       "      <td>0.226812</td>\n",
       "      <td>130.850167</td>\n",
       "      <td>30.525135</td>\n",
       "      <td>4.000000</td>\n",
       "      <td>0.454859</td>\n",
       "      <td>0.496127</td>\n",
       "      <td>0.256787</td>\n",
       "      <td>6198.0</td>\n",
       "      <td>056jpfChuMP5D1NMMaDXRR</td>\n",
       "    </tr>\n",
       "    <tr>\n",
       "      <th>2</th>\n",
       "      <td>0.278816</td>\n",
       "      <td>0.262749</td>\n",
       "      <td>0.634392</td>\n",
       "      <td>0.140270</td>\n",
       "      <td>0.596000</td>\n",
       "      <td>0.166902</td>\n",
       "      <td>0.192559</td>\n",
       "      <td>0.341460</td>\n",
       "      <td>0.596000</td>\n",
       "      <td>0.166902</td>\n",
       "      <td>...</td>\n",
       "      <td>0.082210</td>\n",
       "      <td>0.131105</td>\n",
       "      <td>122.768255</td>\n",
       "      <td>28.215783</td>\n",
       "      <td>4.000000</td>\n",
       "      <td>0.200000</td>\n",
       "      <td>0.656235</td>\n",
       "      <td>0.245299</td>\n",
       "      <td>330.0</td>\n",
       "      <td>05dTMGk8MjnpQg3bKuoXcc</td>\n",
       "    </tr>\n",
       "    <tr>\n",
       "      <th>3</th>\n",
       "      <td>0.228810</td>\n",
       "      <td>0.251421</td>\n",
       "      <td>0.600400</td>\n",
       "      <td>0.178801</td>\n",
       "      <td>0.612200</td>\n",
       "      <td>0.192433</td>\n",
       "      <td>0.179571</td>\n",
       "      <td>0.336604</td>\n",
       "      <td>0.612200</td>\n",
       "      <td>0.192433</td>\n",
       "      <td>...</td>\n",
       "      <td>0.052150</td>\n",
       "      <td>0.025935</td>\n",
       "      <td>114.439167</td>\n",
       "      <td>21.997673</td>\n",
       "      <td>4.000000</td>\n",
       "      <td>0.262613</td>\n",
       "      <td>0.481787</td>\n",
       "      <td>0.251199</td>\n",
       "      <td>73.0</td>\n",
       "      <td>070FVPBKvfu6M5tf4I9rt2</td>\n",
       "    </tr>\n",
       "    <tr>\n",
       "      <th>4</th>\n",
       "      <td>0.394114</td>\n",
       "      <td>0.362573</td>\n",
       "      <td>0.599424</td>\n",
       "      <td>0.151256</td>\n",
       "      <td>0.541097</td>\n",
       "      <td>0.289705</td>\n",
       "      <td>0.203059</td>\n",
       "      <td>0.332371</td>\n",
       "      <td>0.541097</td>\n",
       "      <td>0.289705</td>\n",
       "      <td>...</td>\n",
       "      <td>0.106724</td>\n",
       "      <td>0.112448</td>\n",
       "      <td>110.134788</td>\n",
       "      <td>25.125111</td>\n",
       "      <td>4.000000</td>\n",
       "      <td>0.353553</td>\n",
       "      <td>0.511997</td>\n",
       "      <td>0.243171</td>\n",
       "      <td>6173.0</td>\n",
       "      <td>08vPKM3pmoyF6crB2EtASQ</td>\n",
       "    </tr>\n",
       "  </tbody>\n",
       "</table>\n",
       "<p>5 rows × 26 columns</p>\n",
       "</div>"
      ],
      "text/plain": [
       "   acousticness_mean  acousticness_std  dance_mean  dance_std  energy_mean  \\\n",
       "0           0.641282          0.326942    0.467911   0.241057     0.275940   \n",
       "1           0.249844          0.321182    0.555140   0.172088     0.666567   \n",
       "2           0.278816          0.262749    0.634392   0.140270     0.596000   \n",
       "3           0.228810          0.251421    0.600400   0.178801     0.612200   \n",
       "4           0.394114          0.362573    0.599424   0.151256     0.541097   \n",
       "\n",
       "   energy_std  instrumentalness_mean  instrumentalness_std  key_mean  \\\n",
       "0    0.225821               0.119650              0.277109  0.275940   \n",
       "1    0.230578               0.077776              0.240452  0.666567   \n",
       "2    0.166902               0.192559              0.341460  0.596000   \n",
       "3    0.192433               0.179571              0.336604  0.612200   \n",
       "4    0.289705               0.203059              0.332371  0.541097   \n",
       "\n",
       "    key_std           ...            speech_mean  speech_std  tempo_mean  \\\n",
       "0  0.225821           ...               0.383051    0.403365  101.045969   \n",
       "1  0.230578           ...               0.137260    0.226812  130.850167   \n",
       "2  0.166902           ...               0.082210    0.131105  122.768255   \n",
       "3  0.192433           ...               0.052150    0.025935  114.439167   \n",
       "4  0.289705           ...               0.106724    0.112448  110.134788   \n",
       "\n",
       "   tempo_std  time_mean  time_std  valence_mean  valence_std  Followers  \\\n",
       "0  51.857504   3.338462  1.553996      0.319263     0.246235       24.0   \n",
       "1  30.525135   4.000000  0.454859      0.496127     0.256787     6198.0   \n",
       "2  28.215783   4.000000  0.200000      0.656235     0.245299      330.0   \n",
       "3  21.997673   4.000000  0.262613      0.481787     0.251199       73.0   \n",
       "4  25.125111   4.000000  0.353553      0.511997     0.243171     6173.0   \n",
       "\n",
       "                       ID  \n",
       "0  01WIu4Rst0xeZnTunWxUL7  \n",
       "1  056jpfChuMP5D1NMMaDXRR  \n",
       "2  05dTMGk8MjnpQg3bKuoXcc  \n",
       "3  070FVPBKvfu6M5tf4I9rt2  \n",
       "4  08vPKM3pmoyF6crB2EtASQ  \n",
       "\n",
       "[5 rows x 26 columns]"
      ]
     },
     "execution_count": 52,
     "metadata": {},
     "output_type": "execute_result"
    }
   ],
   "source": [
    "features_df = pd.DataFrame(feature_list).set_index(0)\n",
    "features_df.columns = feature_names\n",
    "\n",
    "# Column for number of followers\n",
    "features_df['Followers'] = playlist_df[['Followers']].groupby(playlist_df['ID']).first()\n",
    "features_df['ID'] = features_df.index\n",
    "\n",
    "features_main_df = features_df.reset_index().drop(0, axis=1)\n",
    "features_main_df.head()"
   ]
  },
  {
   "cell_type": "markdown",
   "metadata": {},
   "source": [
    "Finally, the last step is to create the main dataframe using an inner merge on both the audio feature dataframe and artist dataframe. This inner merge leads to a loss of 126 playlists in total (i.e., there was no overlap between the two dataframes across these playlists)."
   ]
  },
  {
   "cell_type": "code",
   "execution_count": 53,
   "metadata": {},
   "outputs": [
    {
     "data": {
      "text/html": [
       "<div>\n",
       "<style>\n",
       "    .dataframe thead tr:only-child th {\n",
       "        text-align: right;\n",
       "    }\n",
       "\n",
       "    .dataframe thead th {\n",
       "        text-align: left;\n",
       "    }\n",
       "\n",
       "    .dataframe tbody tr th {\n",
       "        vertical-align: top;\n",
       "    }\n",
       "</style>\n",
       "<table border=\"1\" class=\"dataframe\">\n",
       "  <thead>\n",
       "    <tr style=\"text-align: right;\">\n",
       "      <th></th>\n",
       "      <th>acousticness_mean</th>\n",
       "      <th>acousticness_std</th>\n",
       "      <th>dance_mean</th>\n",
       "      <th>dance_std</th>\n",
       "      <th>energy_mean</th>\n",
       "      <th>energy_std</th>\n",
       "      <th>instrumentalness_mean</th>\n",
       "      <th>instrumentalness_std</th>\n",
       "      <th>key_mean</th>\n",
       "      <th>key_std</th>\n",
       "      <th>...</th>\n",
       "      <th>'wrestling'</th>\n",
       "      <th>'wrock'</th>\n",
       "      <th>'ye ye'</th>\n",
       "      <th>'yoik'</th>\n",
       "      <th>'zapstep'</th>\n",
       "      <th>'zeuhl'</th>\n",
       "      <th>'zim'</th>\n",
       "      <th>'zolo'</th>\n",
       "      <th>'zydeco'</th>\n",
       "      <th>'no_genre'</th>\n",
       "    </tr>\n",
       "  </thead>\n",
       "  <tbody>\n",
       "    <tr>\n",
       "      <th>0</th>\n",
       "      <td>0.641282</td>\n",
       "      <td>0.326942</td>\n",
       "      <td>0.467911</td>\n",
       "      <td>0.241057</td>\n",
       "      <td>0.275940</td>\n",
       "      <td>0.225821</td>\n",
       "      <td>0.119650</td>\n",
       "      <td>0.277109</td>\n",
       "      <td>0.275940</td>\n",
       "      <td>0.225821</td>\n",
       "      <td>...</td>\n",
       "      <td>0</td>\n",
       "      <td>0</td>\n",
       "      <td>0</td>\n",
       "      <td>0</td>\n",
       "      <td>0</td>\n",
       "      <td>0</td>\n",
       "      <td>0</td>\n",
       "      <td>0</td>\n",
       "      <td>0</td>\n",
       "      <td>1</td>\n",
       "    </tr>\n",
       "    <tr>\n",
       "      <th>1</th>\n",
       "      <td>0.278816</td>\n",
       "      <td>0.262749</td>\n",
       "      <td>0.634392</td>\n",
       "      <td>0.140270</td>\n",
       "      <td>0.596000</td>\n",
       "      <td>0.166902</td>\n",
       "      <td>0.192559</td>\n",
       "      <td>0.341460</td>\n",
       "      <td>0.596000</td>\n",
       "      <td>0.166902</td>\n",
       "      <td>...</td>\n",
       "      <td>0</td>\n",
       "      <td>0</td>\n",
       "      <td>0</td>\n",
       "      <td>0</td>\n",
       "      <td>0</td>\n",
       "      <td>0</td>\n",
       "      <td>0</td>\n",
       "      <td>0</td>\n",
       "      <td>0</td>\n",
       "      <td>1</td>\n",
       "    </tr>\n",
       "    <tr>\n",
       "      <th>2</th>\n",
       "      <td>0.228810</td>\n",
       "      <td>0.251421</td>\n",
       "      <td>0.600400</td>\n",
       "      <td>0.178801</td>\n",
       "      <td>0.612200</td>\n",
       "      <td>0.192433</td>\n",
       "      <td>0.179571</td>\n",
       "      <td>0.336604</td>\n",
       "      <td>0.612200</td>\n",
       "      <td>0.192433</td>\n",
       "      <td>...</td>\n",
       "      <td>0</td>\n",
       "      <td>0</td>\n",
       "      <td>0</td>\n",
       "      <td>0</td>\n",
       "      <td>0</td>\n",
       "      <td>0</td>\n",
       "      <td>0</td>\n",
       "      <td>0</td>\n",
       "      <td>0</td>\n",
       "      <td>1</td>\n",
       "    </tr>\n",
       "    <tr>\n",
       "      <th>3</th>\n",
       "      <td>0.394114</td>\n",
       "      <td>0.362573</td>\n",
       "      <td>0.599424</td>\n",
       "      <td>0.151256</td>\n",
       "      <td>0.541097</td>\n",
       "      <td>0.289705</td>\n",
       "      <td>0.203059</td>\n",
       "      <td>0.332371</td>\n",
       "      <td>0.541097</td>\n",
       "      <td>0.289705</td>\n",
       "      <td>...</td>\n",
       "      <td>0</td>\n",
       "      <td>0</td>\n",
       "      <td>0</td>\n",
       "      <td>0</td>\n",
       "      <td>0</td>\n",
       "      <td>0</td>\n",
       "      <td>0</td>\n",
       "      <td>0</td>\n",
       "      <td>0</td>\n",
       "      <td>1</td>\n",
       "    </tr>\n",
       "    <tr>\n",
       "      <th>4</th>\n",
       "      <td>0.194509</td>\n",
       "      <td>0.278470</td>\n",
       "      <td>0.531067</td>\n",
       "      <td>0.150001</td>\n",
       "      <td>0.759400</td>\n",
       "      <td>0.249805</td>\n",
       "      <td>0.115499</td>\n",
       "      <td>0.258020</td>\n",
       "      <td>0.759400</td>\n",
       "      <td>0.249805</td>\n",
       "      <td>...</td>\n",
       "      <td>0</td>\n",
       "      <td>0</td>\n",
       "      <td>0</td>\n",
       "      <td>0</td>\n",
       "      <td>0</td>\n",
       "      <td>0</td>\n",
       "      <td>0</td>\n",
       "      <td>0</td>\n",
       "      <td>0</td>\n",
       "      <td>1</td>\n",
       "    </tr>\n",
       "  </tbody>\n",
       "</table>\n",
       "<p>5 rows × 3245 columns</p>\n",
       "</div>"
      ],
      "text/plain": [
       "   acousticness_mean  acousticness_std  dance_mean  dance_std  energy_mean  \\\n",
       "0           0.641282          0.326942    0.467911   0.241057     0.275940   \n",
       "1           0.278816          0.262749    0.634392   0.140270     0.596000   \n",
       "2           0.228810          0.251421    0.600400   0.178801     0.612200   \n",
       "3           0.394114          0.362573    0.599424   0.151256     0.541097   \n",
       "4           0.194509          0.278470    0.531067   0.150001     0.759400   \n",
       "\n",
       "   energy_std  instrumentalness_mean  instrumentalness_std  key_mean  \\\n",
       "0    0.225821               0.119650              0.277109  0.275940   \n",
       "1    0.166902               0.192559              0.341460  0.596000   \n",
       "2    0.192433               0.179571              0.336604  0.612200   \n",
       "3    0.289705               0.203059              0.332371  0.541097   \n",
       "4    0.249805               0.115499              0.258020  0.759400   \n",
       "\n",
       "    key_std     ...      'wrestling'  'wrock'  'ye ye'  'yoik'  'zapstep'  \\\n",
       "0  0.225821     ...                0        0        0       0          0   \n",
       "1  0.166902     ...                0        0        0       0          0   \n",
       "2  0.192433     ...                0        0        0       0          0   \n",
       "3  0.289705     ...                0        0        0       0          0   \n",
       "4  0.249805     ...                0        0        0       0          0   \n",
       "\n",
       "   'zeuhl'  'zim'  'zolo'  'zydeco'  'no_genre'  \n",
       "0        0      0       0         0           1  \n",
       "1        0      0       0         0           1  \n",
       "2        0      0       0         0           1  \n",
       "3        0      0       0         0           1  \n",
       "4        0      0       0         0           1  \n",
       "\n",
       "[5 rows x 3245 columns]"
      ]
     },
     "execution_count": 53,
     "metadata": {},
     "output_type": "execute_result"
    }
   ],
   "source": [
    "# Concatenate the two dataframes\n",
    "master_df = pd.merge(features_main_df, artist_df_groups, how='inner', on='ID')\n",
    "master_df.head()"
   ]
  },
  {
   "cell_type": "markdown",
   "metadata": {},
   "source": [
    "The master dataframe is saved for both EDA and modelling purposes next and final dataframe size is presented."
   ]
  },
  {
   "cell_type": "code",
   "execution_count": 54,
   "metadata": {
    "collapsed": true
   },
   "outputs": [],
   "source": [
    "master_df.to_csv('spotify_data_master.csv', sep=',')"
   ]
  },
  {
   "cell_type": "code",
   "execution_count": 56,
   "metadata": {
    "scrolled": true
   },
   "outputs": [
    {
     "name": "stdout",
     "output_type": "stream",
     "text": [
      "Number of Playlists: 1420\n",
      "Number of Predictors: 3245\n"
     ]
    }
   ],
   "source": [
    "print(\"Number of Playlists: {}\".format(master_df.shape[0]))\n",
    "print(\"Number of Predictors: {}\".format(master_df.shape[1]))"
   ]
  },
  {
   "cell_type": "markdown",
   "metadata": {},
   "source": [
    "### String Parsing / Natural Language Processing"
   ]
  },
  {
   "cell_type": "markdown",
   "metadata": {},
   "source": [
    "Here, we further analyze the names of the playlist based on the rationale that listeners usually search for key terms like 'Best', 'Hit', 'Workout' when they look for certain type of playlists. Due to the small size of our data, we adopt the string parsing approach for our model (which could be easily scaled with Python's NLTK package in larger models) as we do not the number of predictors to exceed the dimensions of our model. \n",
    "\n",
    "- After reading in the full dataset and the playlist dataset, we perform a left join based on playlist ID and add the playlist name to the full dataset\n",
    "- We search for 12 categories of specific strings that cover 'Best', 'Workout', 'Party', 'Chill', 'Acoustic', '2000s', '1990s', '1980s', '1970s', '1960s', and '1950s' using the str.contain function\n",
    "- After creating these 12 boolean variables, we transform them to binary ones (0 or 1) by multiplying 1\n",
    "- Lastly, we include those binary variables in the dataframe as predictor variables"
   ]
  },
  {
   "cell_type": "code",
   "execution_count": 5,
   "metadata": {
    "collapsed": true,
    "hide": true
   },
   "outputs": [],
   "source": [
    "# Read-in the full data set\n",
    "full_df = pd.read_csv('data/spotify_data_master_V3.csv')\n",
    "\n",
    "# Drop the first index column as it is a duplicate\n",
    "full_df = full_df.drop(\"Unnamed: 0\", axis=1)\n",
    "\n",
    "# Filter non-zero genre columns only\n",
    "full_df = full_df.loc[:, (full_df != 0).any(axis=0)]"
   ]
  },
  {
   "cell_type": "code",
   "execution_count": 6,
   "metadata": {
    "collapsed": true,
    "hide": true
   },
   "outputs": [],
   "source": [
    "# Read in playlist df for merging\n",
    "playlist_df = pd.read_csv('data/Playlist.csv')\n",
    "\n",
    "# Drop the first index column as it is a duplicate\n",
    "playlist_df = playlist_df.drop(\"Unnamed: 0\", axis=1)"
   ]
  },
  {
   "cell_type": "code",
   "execution_count": 7,
   "metadata": {},
   "outputs": [
    {
     "data": {
      "text/plain": [
       "(1420, 1494)"
      ]
     },
     "execution_count": 7,
     "metadata": {},
     "output_type": "execute_result"
    }
   ],
   "source": [
    "# Left Join by Playlist ID\n",
    "new_df = pd.merge(full_df, playlist_df[['Name', 'ID']], on='ID', how='left')\n",
    "new_df.shape"
   ]
  },
  {
   "cell_type": "code",
   "execution_count": 8,
   "metadata": {
    "collapsed": true,
    "hide": true
   },
   "outputs": [],
   "source": [
    "# Make list of duplicate columns to drop\n",
    "duplicate_columns = []\n",
    "for i in full_df.columns:\n",
    "    if i[-1] == '1': \n",
    "        duplicate_columns.append(i)"
   ]
  },
  {
   "cell_type": "code",
   "execution_count": 9,
   "metadata": {
    "collapsed": true,
    "hide": true
   },
   "outputs": [],
   "source": [
    "# Drop columns not to be used in analysis\n",
    "full_df_concise = new_df.drop(duplicate_columns, inplace=False, axis=1)\n",
    "full_df_concise = full_df_concise.drop(['Playlist_Followers','ID'], inplace=False, axis=1)"
   ]
  },
  {
   "cell_type": "code",
   "execution_count": 10,
   "metadata": {
    "collapsed": true
   },
   "outputs": [],
   "source": [
    "# Search For Sub Strings\n",
    "Str_Best = full_df_concise.Name.str.contains('Best|Top|Hit|best|top|hit|Hot|hot|Pick|pick')\n",
    "Str_Workout = full_df_concise.Name.str.contains('Workout|workout|Motivation|motivation|Power|power|Cardio|')\n",
    "Str_Party = full_df_concise.Name.str.contains('Party|party')\n",
    "Str_Chill = full_df_concise.Name.str.contains('Chill|chill|Relax|relax')\n",
    "Str_Acoustic = full_df_concise.Name.str.contains('Acoustic|acoustic')\n",
    "Str_2000s = full_df_concise.Name.str.contains('20')\n",
    "Str_1990s = full_df_concise.Name.str.contains('90|91|92|93|94|95|96|97|98|99')\n",
    "Str_1980s = full_df_concise.Name.str.contains('80|81|82|83|84|85|86|87|88|89')\n",
    "Str_1970s = full_df_concise.Name.str.contains('70|71|72|73|74|75|76|77|78|79')\n",
    "Str_1960s = full_df_concise.Name.str.contains('60|61|62|63|64|65|66|67|68|69')\n",
    "Str_1950s = full_df_concise.Name.str.contains('50s')\n",
    "\n",
    "# Convert Boolean into Integers\n",
    "Str_Best = Str_Best*1\n",
    "Str_Workout = Str_Workout*1 \n",
    "Str_Party = Str_Party*1\n",
    "Str_Chill = Str_Chill*1\n",
    "Str_Acoustic = Str_Acoustic*1\n",
    "Str_2000s = Str_2000s*1\n",
    "Str_1990s = Str_1990s*1\n",
    "Str_1980s = Str_1980s*1\n",
    "Str_1970s = Str_1970s*1\n",
    "Str_1960s = Str_1960s*1\n",
    "Str_1950s = Str_1950s*1\n",
    "\n",
    "# Add to Dataframe\n",
    "full_df_concise['Str_Best'] = Str_Best\n",
    "full_df_concise['Str_Workout'] = Str_Workout\n",
    "full_df_concise['Str_Party'] = Str_Party\n",
    "full_df_concise['Str_Chill'] = Str_Chill\n",
    "full_df_concise['Str_Acoustic'] = Str_Acoustic\n",
    "full_df_concise['Str_2000s'] = Str_2000s\n",
    "full_df_concise['Str_1990s'] = Str_1990s\n",
    "full_df_concise['Str_1980s'] = Str_1980s\n",
    "full_df_concise['Str_1970s'] = Str_1970s\n",
    "full_df_concise['Str_1960s'] = Str_1960s\n",
    "full_df_concise['Str_1950s'] = Str_1950s"
   ]
  },
  {
   "cell_type": "code",
   "execution_count": 11,
   "metadata": {},
   "outputs": [
    {
     "data": {
      "text/plain": [
       "Index(['Str_Best', 'Str_Workout', 'Str_Party', 'Str_Chill', 'Str_Acoustic',\n",
       "       'Str_2000s', 'Str_1990s', 'Str_1980s', 'Str_1970s', 'Str_1960s'],\n",
       "      dtype='object')"
      ]
     },
     "execution_count": 11,
     "metadata": {},
     "output_type": "execute_result"
    }
   ],
   "source": [
    "# Check New Column\n",
    "full_df_concise.columns[-11:-1]"
   ]
  },
  {
   "cell_type": "markdown",
   "metadata": {},
   "source": [
    "## Interaction Terms with Audio Features and Genre"
   ]
  },
  {
   "cell_type": "markdown",
   "metadata": {},
   "source": [
    "The following section describes the process of creating interaction terms between genres and audio features. Interaction terms are considered because genre may have an effect on the relationships between audio features and the number of playlist followers. For example, different levels of energy may be more popular for rap music than for acoustic music.\n",
    "\n",
    "The first step is to bucket the genres (with a total of more than 100 specific genres) into broader categories. As listed below, some of the most common broad genres includ: house, hip hop, pop, dance, r&b, acoustic, and soul. "
   ]
  },
  {
   "cell_type": "code",
   "execution_count": 12,
   "metadata": {
    "collapsed": true
   },
   "outputs": [],
   "source": [
    "broad_genres = ['house','hip hop','pop','dance','r&b','rap','acoustic','soul']\n",
    "\n",
    "broad_genres = pd.DataFrame(np.zeros((full_df_concise.shape[0], len(broad_genres))), columns = broad_genres)"
   ]
  },
  {
   "cell_type": "code",
   "execution_count": 13,
   "metadata": {
    "collapsed": true
   },
   "outputs": [],
   "source": [
    "for genre in broad_genres:  \n",
    "    for data_col in full_df_concise.columns:\n",
    "        if genre in data_col:\n",
    "            indices = full_df_concise[(full_df_concise[data_col]==1)].index\n",
    "            broad_genres[genre][indices] = 1"
   ]
  },
  {
   "cell_type": "markdown",
   "metadata": {},
   "source": [
    "Next, interaction terms are generated between genre categories and certain audio features. Below are the interaction terms that are created. These features are selected through a separate analysis in which all of the genres, audio features, and all possible interactions are used as predictors to model the number of playlist followers. We find that the interaction terms listed below are significant. "
   ]
  },
  {
   "cell_type": "code",
   "execution_count": 15,
   "metadata": {
    "collapsed": true
   },
   "outputs": [],
   "source": [
    "# Adding significant interaction terms from previous model\n",
    "interaction_columns = ['house_acousticness_mean','hip hop_acousticness_std','pop_liveness_std','dance_liveness_std',\n",
    "                      'r&b_acousticness_std','rap_energy_std','rap_key_std','acoustic_acousticness_std','acoustic_acousticness_mean',\n",
    "                      'acoustic_energy_std','acoustic_key_std','soul_acousticness_std']\n",
    "\n",
    "\n",
    "full_df_concise['house_acousticness_mean'] = broad_genres['house']*full_df_concise['acousticness_mean']\n",
    "full_df_concise['hip hop_acousticness_std'] = broad_genres['hip hop']*full_df_concise['acousticness_std']\n",
    "full_df_concise['pop_liveness_std'] = broad_genres['pop']*full_df_concise['liveness_std']\n",
    "full_df_concise['dance_liveness_std'] = broad_genres['dance']*full_df_concise['liveness_std']\n",
    "full_df_concise['r&b_acousticness_std'] = broad_genres['r&b']*full_df_concise['acousticness_std']\n",
    "full_df_concise['rap_energy_std'] = broad_genres['rap']*full_df_concise['energy_std']\n",
    "full_df_concise['rap_key_std'] = broad_genres['rap']*full_df_concise['key_std']\n",
    "full_df_concise['acoustic_acousticness_std'] = broad_genres['acoustic']*full_df_concise['acousticness_std']\n",
    "full_df_concise['acoustic_acousticness_mean'] = broad_genres['acoustic']*full_df_concise['acousticness_mean']\n",
    "full_df_concise['acoustic_energy_std'] = broad_genres['acoustic']*full_df_concise['energy_std']\n",
    "full_df_concise['acoustic_key_std'] = broad_genres['acoustic']*full_df_concise['key_std']\n",
    "full_df_concise['soul_acousticness_std'] = broad_genres['soul']*full_df_concise['acousticness_std']"
   ]
  },
  {
   "cell_type": "code",
   "execution_count": 16,
   "metadata": {},
   "outputs": [
    {
     "data": {
      "text/html": [
       "<div>\n",
       "<style>\n",
       "    .dataframe thead tr:only-child th {\n",
       "        text-align: right;\n",
       "    }\n",
       "\n",
       "    .dataframe thead th {\n",
       "        text-align: left;\n",
       "    }\n",
       "\n",
       "    .dataframe tbody tr th {\n",
       "        vertical-align: top;\n",
       "    }\n",
       "</style>\n",
       "<table border=\"1\" class=\"dataframe\">\n",
       "  <thead>\n",
       "    <tr style=\"text-align: right;\">\n",
       "      <th></th>\n",
       "      <th>house_acousticness_mean</th>\n",
       "      <th>hip hop_acousticness_std</th>\n",
       "      <th>pop_liveness_std</th>\n",
       "      <th>dance_liveness_std</th>\n",
       "      <th>r&amp;b_acousticness_std</th>\n",
       "      <th>rap_energy_std</th>\n",
       "      <th>rap_key_std</th>\n",
       "      <th>acoustic_acousticness_std</th>\n",
       "      <th>acoustic_acousticness_mean</th>\n",
       "      <th>acoustic_energy_std</th>\n",
       "      <th>acoustic_key_std</th>\n",
       "      <th>soul_acousticness_std</th>\n",
       "    </tr>\n",
       "  </thead>\n",
       "  <tbody>\n",
       "    <tr>\n",
       "      <th>count</th>\n",
       "      <td>1420.000000</td>\n",
       "      <td>1418.000000</td>\n",
       "      <td>1418.000000</td>\n",
       "      <td>1418.000000</td>\n",
       "      <td>1418.000000</td>\n",
       "      <td>1418.000000</td>\n",
       "      <td>1418.000000</td>\n",
       "      <td>1418.000000</td>\n",
       "      <td>1420.000000</td>\n",
       "      <td>1418.000000</td>\n",
       "      <td>1418.000000</td>\n",
       "      <td>1418.000000</td>\n",
       "    </tr>\n",
       "    <tr>\n",
       "      <th>mean</th>\n",
       "      <td>0.224109</td>\n",
       "      <td>0.235339</td>\n",
       "      <td>0.156279</td>\n",
       "      <td>0.137165</td>\n",
       "      <td>0.239961</td>\n",
       "      <td>0.210305</td>\n",
       "      <td>0.210305</td>\n",
       "      <td>0.102606</td>\n",
       "      <td>0.115892</td>\n",
       "      <td>0.080324</td>\n",
       "      <td>0.080324</td>\n",
       "      <td>0.173310</td>\n",
       "    </tr>\n",
       "    <tr>\n",
       "      <th>std</th>\n",
       "      <td>0.212280</td>\n",
       "      <td>0.144852</td>\n",
       "      <td>0.056181</td>\n",
       "      <td>0.073726</td>\n",
       "      <td>0.143718</td>\n",
       "      <td>0.094412</td>\n",
       "      <td>0.094412</td>\n",
       "      <td>0.150939</td>\n",
       "      <td>0.190786</td>\n",
       "      <td>0.117964</td>\n",
       "      <td>0.117964</td>\n",
       "      <td>0.162756</td>\n",
       "    </tr>\n",
       "    <tr>\n",
       "      <th>min</th>\n",
       "      <td>0.000000</td>\n",
       "      <td>0.000000</td>\n",
       "      <td>0.000000</td>\n",
       "      <td>0.000000</td>\n",
       "      <td>0.000000</td>\n",
       "      <td>0.000000</td>\n",
       "      <td>0.000000</td>\n",
       "      <td>0.000000</td>\n",
       "      <td>0.000000</td>\n",
       "      <td>0.000000</td>\n",
       "      <td>0.000000</td>\n",
       "      <td>0.000000</td>\n",
       "    </tr>\n",
       "    <tr>\n",
       "      <th>25%</th>\n",
       "      <td>0.000000</td>\n",
       "      <td>0.000000</td>\n",
       "      <td>0.129984</td>\n",
       "      <td>0.111896</td>\n",
       "      <td>0.160846</td>\n",
       "      <td>0.204460</td>\n",
       "      <td>0.204460</td>\n",
       "      <td>0.000000</td>\n",
       "      <td>0.000000</td>\n",
       "      <td>0.000000</td>\n",
       "      <td>0.000000</td>\n",
       "      <td>0.000000</td>\n",
       "    </tr>\n",
       "    <tr>\n",
       "      <th>50%</th>\n",
       "      <td>0.221718</td>\n",
       "      <td>0.302918</td>\n",
       "      <td>0.155873</td>\n",
       "      <td>0.149616</td>\n",
       "      <td>0.306497</td>\n",
       "      <td>0.238572</td>\n",
       "      <td>0.238572</td>\n",
       "      <td>0.000000</td>\n",
       "      <td>0.000000</td>\n",
       "      <td>0.000000</td>\n",
       "      <td>0.000000</td>\n",
       "      <td>0.240984</td>\n",
       "    </tr>\n",
       "    <tr>\n",
       "      <th>75%</th>\n",
       "      <td>0.366849</td>\n",
       "      <td>0.341949</td>\n",
       "      <td>0.185451</td>\n",
       "      <td>0.180391</td>\n",
       "      <td>0.344083</td>\n",
       "      <td>0.267752</td>\n",
       "      <td>0.267752</td>\n",
       "      <td>0.285148</td>\n",
       "      <td>0.228570</td>\n",
       "      <td>0.220703</td>\n",
       "      <td>0.220703</td>\n",
       "      <td>0.332228</td>\n",
       "    </tr>\n",
       "    <tr>\n",
       "      <th>max</th>\n",
       "      <td>0.961000</td>\n",
       "      <td>0.428986</td>\n",
       "      <td>0.351859</td>\n",
       "      <td>0.351859</td>\n",
       "      <td>0.444861</td>\n",
       "      <td>0.371096</td>\n",
       "      <td>0.371096</td>\n",
       "      <td>0.444861</td>\n",
       "      <td>0.961000</td>\n",
       "      <td>0.347747</td>\n",
       "      <td>0.347747</td>\n",
       "      <td>0.420705</td>\n",
       "    </tr>\n",
       "  </tbody>\n",
       "</table>\n",
       "</div>"
      ],
      "text/plain": [
       "       house_acousticness_mean  hip hop_acousticness_std  pop_liveness_std  \\\n",
       "count              1420.000000               1418.000000       1418.000000   \n",
       "mean                  0.224109                  0.235339          0.156279   \n",
       "std                   0.212280                  0.144852          0.056181   \n",
       "min                   0.000000                  0.000000          0.000000   \n",
       "25%                   0.000000                  0.000000          0.129984   \n",
       "50%                   0.221718                  0.302918          0.155873   \n",
       "75%                   0.366849                  0.341949          0.185451   \n",
       "max                   0.961000                  0.428986          0.351859   \n",
       "\n",
       "       dance_liveness_std  r&b_acousticness_std  rap_energy_std  rap_key_std  \\\n",
       "count         1418.000000           1418.000000     1418.000000  1418.000000   \n",
       "mean             0.137165              0.239961        0.210305     0.210305   \n",
       "std              0.073726              0.143718        0.094412     0.094412   \n",
       "min              0.000000              0.000000        0.000000     0.000000   \n",
       "25%              0.111896              0.160846        0.204460     0.204460   \n",
       "50%              0.149616              0.306497        0.238572     0.238572   \n",
       "75%              0.180391              0.344083        0.267752     0.267752   \n",
       "max              0.351859              0.444861        0.371096     0.371096   \n",
       "\n",
       "       acoustic_acousticness_std  acoustic_acousticness_mean  \\\n",
       "count                1418.000000                 1420.000000   \n",
       "mean                    0.102606                    0.115892   \n",
       "std                     0.150939                    0.190786   \n",
       "min                     0.000000                    0.000000   \n",
       "25%                     0.000000                    0.000000   \n",
       "50%                     0.000000                    0.000000   \n",
       "75%                     0.285148                    0.228570   \n",
       "max                     0.444861                    0.961000   \n",
       "\n",
       "       acoustic_energy_std  acoustic_key_std  soul_acousticness_std  \n",
       "count          1418.000000       1418.000000            1418.000000  \n",
       "mean              0.080324          0.080324               0.173310  \n",
       "std               0.117964          0.117964               0.162756  \n",
       "min               0.000000          0.000000               0.000000  \n",
       "25%               0.000000          0.000000               0.000000  \n",
       "50%               0.000000          0.000000               0.240984  \n",
       "75%               0.220703          0.220703               0.332228  \n",
       "max               0.347747          0.347747               0.420705  "
      ]
     },
     "execution_count": 16,
     "metadata": {},
     "output_type": "execute_result"
    }
   ],
   "source": [
    "full_df_concise[interaction_columns].describe()"
   ]
  },
  {
   "cell_type": "markdown",
   "metadata": {},
   "source": [
    "By now, the final dataframe has been created. We will leverage this dataframe and its features to conduct EDA and to construct models in the following sections. "
   ]
  }
 ],
 "metadata": {
  "celltoolbar": "Edit Metadata",
  "kernelspec": {
   "display_name": "Python 3",
   "language": "python",
   "name": "python3"
  },
  "language_info": {
   "codemirror_mode": {
    "name": "ipython",
    "version": 3
   },
   "file_extension": ".py",
   "mimetype": "text/x-python",
   "name": "python",
   "nbconvert_exporter": "python",
   "pygments_lexer": "ipython3",
   "version": "3.6.1"
  }
 },
 "nbformat": 4,
 "nbformat_minor": 2
}
