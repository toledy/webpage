{
 "cells": [
  {
   "cell_type": "markdown",
   "metadata": {},
   "source": [
    "# Best Model Inference"
   ]
  },
  {
   "cell_type": "markdown",
   "metadata": {},
   "source": [
    "## Predictor Importance"
   ]
  },
  {
   "cell_type": "markdown",
   "metadata": {},
   "source": [
    "We choose Gradient Boosting Regression as the best model to predict playlist popularity. This model has high interpretablilty, enabling us to analyze the most important features and qualities of popular playlists. To evaluate the importance of predictors for the gradient boosting tree, we use scores determined by the usefulness of the certain predictor during the construction of trees. \n",
    "\n",
    "Breiman et al. (1984) proposed that the following formula can be used to find the importance of a predictor variable for one given tree. [1]"
   ]
  },
  {
   "cell_type": "code",
   "execution_count": 1,
   "metadata": {
    "collapsed": true,
    "hide": true
   },
   "outputs": [],
   "source": [
    "from IPython.display import display, Math, Latex"
   ]
  },
  {
   "cell_type": "markdown",
   "metadata": {},
   "source": [
    "$$I_l^2(T) = \\sum_{t=1}^{J-1} \\hat{i_t}^2 I(v(t)=l)$$"
   ]
  },
  {
   "cell_type": "markdown",
   "metadata": {},
   "source": [
    "For a tree $T$, the importance of variable $X_l$ is summed over $J-1$ nodes of the tree. $I(v(t)=l)$ indicates whether predictor $X_{v(t)}$ was used to split the node, $\\hat{i_t}^2$ is the estimated improvement in squared error risk. Because the method used is an ensemble of trees, the total importance of predictors is given by the sum of this value over all (M) trees, given below.  "
   ]
  },
  {
   "cell_type": "markdown",
   "metadata": {},
   "source": [
    "$$I_l^2 = \\frac{1}{M} \\sum_{m=1}^M I_l^2(T_m)$$"
   ]
  },
  {
   "cell_type": "markdown",
   "metadata": {},
   "source": [
    "The predictors are evaluated in importance for each broad category (artist/genre/audio feature) of predictors considered. The top 50 were chosen out of the total 949 predictors. "
   ]
  },
  {
   "cell_type": "code",
   "execution_count": 2,
   "metadata": {
    "collapsed": true,
    "hide": true
   },
   "outputs": [],
   "source": [
    "# Import Basic Packages\n",
    "import numpy as np\n",
    "import pandas as pd\n",
    "import matplotlib.pyplot as plt\n",
    "import seaborn as sns\n",
    "from sklearn.preprocessing import Imputer\n",
    "from sklearn.preprocessing import PolynomialFeatures\n",
    "%matplotlib inline\n",
    "import warnings\n",
    "warnings.filterwarnings(\"ignore\")\n",
    "pd.set_option('display.max_columns', 200)\n",
    "import plotly\n",
    "import plotly.plotly as py\n",
    "import plotly.graph_objs as go\n",
    "plotly.__version__\n",
    "plotly.tools.set_credentials_file(username='tingnoble', api_key='4zOe1ds7duZr15VxaRBp')\n",
    "\n",
    "# Import Regression Packages\n",
    "from sklearn.ensemble import GradientBoostingRegressor,AdaBoostRegressor,RandomForestRegressor,ExtraTreesRegressor,BaggingRegressor"
   ]
  },
  {
   "cell_type": "code",
   "execution_count": 3,
   "metadata": {
    "collapsed": true,
    "hide": true
   },
   "outputs": [],
   "source": [
    "green_col = np.divide([30, 215, 96],255)\n",
    "black_col = [0,0,0]\n",
    "gray_col = np.divide([150,150,150],255)\n",
    "light_gray_col = np.divide([236, 235, 232],255)\n",
    "white_col =  np.divide([255, 255, 255],255)\n",
    "med_gray_col = np.divide([80,80,80], 255)\n",
    "\n",
    "colors = [green_col, black_col, gray_col, light_gray_col, white_col]\n",
    "\n",
    "afont = {'fontname':'AppleGothic'}\n",
    "hfont = {'fontname':'Helvetica'}\n",
    "ifont = {'fontname': 'Impact'}\n",
    "arfont = {'fontname': 'Arial'}\n",
    "ofont = {'fontname': 'Osaka'}\n",
    "sfont = {'fontname': 'STHeiti'}\n",
    "hirafont = {'fontname': 'Hiragino Kaku Gothic ProN'}"
   ]
  },
  {
   "cell_type": "code",
   "execution_count": 4,
   "metadata": {
    "collapsed": true,
    "hide": true
   },
   "outputs": [],
   "source": [
    "# Read-in the full data set\n",
    "data = pd.read_csv('Final_Dataframe.csv')"
   ]
  },
  {
   "cell_type": "code",
   "execution_count": 5,
   "metadata": {
    "collapsed": true,
    "hide": true
   },
   "outputs": [],
   "source": [
    "# Drop name column\n",
    "data = data.drop(\"Unnamed: 0\", axis=1)"
   ]
  },
  {
   "cell_type": "code",
   "execution_count": 6,
   "metadata": {
    "collapsed": true,
    "hide": true
   },
   "outputs": [],
   "source": [
    "# A train/test split is constructed where 90% of the subsample is \n",
    "# the train data set and 10% the test data set.\n",
    "\n",
    "# Set train and test sizes\n",
    "train_size = 0.9\n",
    "test_size = 1-train_size\n",
    "\n",
    "# Function to return random train and test sets\n",
    "def data_splitter(df, train, validate=False, seed=9001):\n",
    "    \n",
    "    if validate:\n",
    "        np.random.seed(seed)\n",
    "        perm = np.random.permutation(df.index)\n",
    "        m = len(df)\n",
    "        train_end = int(train * m)\n",
    "        validate_end = int(validate * m) + train_end\n",
    "        train = df.ix[perm[:train_end]]\n",
    "        validate = df.ix[perm[train_end:validate_end]]\n",
    "        test = df.ix[perm[validate_end:]]\n",
    "        return train, validate, test\n",
    "    else:\n",
    "        np.random.seed(seed)\n",
    "        perm = np.random.permutation(df.index)\n",
    "        m = len(df)\n",
    "        train_end = int(train * m)\n",
    "        train = df.ix[perm[:train_end]]\n",
    "        test = df.ix[perm[train_end:]]\n",
    "        return train, test"
   ]
  },
  {
   "cell_type": "code",
   "execution_count": 7,
   "metadata": {
    "collapsed": true,
    "hide": true
   },
   "outputs": [],
   "source": [
    "# Create train and test dataframes from subsample\n",
    "train_df, test_df = data_splitter(data, train_size)"
   ]
  },
  {
   "cell_type": "code",
   "execution_count": 8,
   "metadata": {
    "collapsed": true,
    "hide": true
   },
   "outputs": [],
   "source": [
    "numerical_columns = [x for x in train_df.columns if 'std' in x or 'mean' in x]"
   ]
  },
  {
   "cell_type": "code",
   "execution_count": 9,
   "metadata": {
    "collapsed": true,
    "hide": true
   },
   "outputs": [],
   "source": [
    "# The numerical columns are standardized next\n",
    "mean = train_df[numerical_columns].mean()\n",
    "std = train_df[numerical_columns].std()\n",
    "\n",
    "train_df[numerical_columns] = (train_df[numerical_columns] - mean)/std\n",
    "test_df[numerical_columns] = (test_df[numerical_columns] - mean)/std"
   ]
  },
  {
   "cell_type": "code",
   "execution_count": 10,
   "metadata": {
    "collapsed": true,
    "hide": true
   },
   "outputs": [],
   "source": [
    "# Median imputation of missing values\n",
    "imp = Imputer(missing_values='NaN', strategy='median', axis=1)\n",
    "train_df = pd.DataFrame(imp.fit_transform(train_df), columns=data.columns)\n",
    "test_df = pd.DataFrame(imp.transform(test_df), columns=data.columns)"
   ]
  },
  {
   "cell_type": "code",
   "execution_count": 11,
   "metadata": {
    "collapsed": true,
    "hide": true
   },
   "outputs": [],
   "source": [
    "# Split training and test data\n",
    "train_df = train_df[train_df['Followers'] != 0]\n",
    "test_df = test_df[test_df['Followers'] != 0]"
   ]
  },
  {
   "cell_type": "code",
   "execution_count": 12,
   "metadata": {
    "collapsed": true,
    "hide": true
   },
   "outputs": [],
   "source": [
    "# Final step: create y_train/x_train and y_test/x_test dataframes\n",
    "\n",
    "# Initialize the training data\n",
    "y_train = np.log(train_df['Followers'])\n",
    "x_train = train_df.drop('Followers', axis=1)\n",
    "\n",
    "# Initialize the testing data\n",
    "y_test = np.log(test_df['Followers'])\n",
    "x_test = test_df.drop('Followers', axis=1)"
   ]
  },
  {
   "cell_type": "code",
   "execution_count": 13,
   "metadata": {
    "hide": true
   },
   "outputs": [
    {
     "data": {
      "text/plain": [
       "GradientBoostingRegressor(alpha=0.99, criterion='friedman_mse', init=None,\n",
       "             learning_rate=0.03, loss='huber', max_depth=5,\n",
       "             max_features='auto', max_leaf_nodes=None,\n",
       "             min_impurity_split=1e-07, min_samples_leaf=1,\n",
       "             min_samples_split=2, min_weight_fraction_leaf=0.0,\n",
       "             n_estimators=200, presort='auto', random_state=None,\n",
       "             subsample=1.0, verbose=0, warm_start=False)"
      ]
     },
     "execution_count": 13,
     "metadata": {},
     "output_type": "execute_result"
    }
   ],
   "source": [
    "# GradientBoostingRegressor\n",
    "estgb = GradientBoostingRegressor(alpha=0.99, loss='huber', max_depth=5, learning_rate=0.03, \n",
    "                                  n_estimators=200, max_features='auto')\n",
    "estgb.fit(x_train, y_train)"
   ]
  },
  {
   "cell_type": "code",
   "execution_count": 14,
   "metadata": {
    "collapsed": true,
    "hide": true
   },
   "outputs": [],
   "source": [
    "numerical_columns = []\n",
    "top_artist_count_columns = []\n",
    "genre_columns = []\n",
    "\n",
    "for i in data.columns:\n",
    "    \n",
    "    if 'mean' in i or 'std' in i:\n",
    "        numerical_columns.append(i)\n",
    "    elif i[:2]=='to':\n",
    "        top_artist_count_columns.append(i)\n",
    "    elif (i[0].isalpha()==False and i[0]!=2):\n",
    "        genre_columns.append(i)\n",
    "        \n",
    "\n",
    "title_columns = ['Str_Best','Str_Workout','Str_Party','Str_Chill','Str_Acoustic','Str_2000s','Str_1990s','Str_1980s',\n",
    "                'Str_1970s','Str_1960s']\n",
    "\n",
    "interaction_columns = ['house_acousticness_mean','hip hop_acousticness_std','pop_liveness_std','dance_liveness_std',\n",
    "                      'r&b_acousticness_std','rap_energy_std','rap_key_std','acoustic_acousticness_std','acoustic_acousticness_mean',\n",
    "                      'acoustic_energy_std','acoustic_key_std','soul_acousticness_std']\n",
    "\n",
    "numerical_columns = list(set(numerical_columns) - set(interaction_columns)-set(['popularity_mean', 'popularity_std']))\n",
    "\n",
    "                                                                            \n",
    "artist_columns = list(set(data.columns)-set(numerical_columns)-set(title_columns)-set(interaction_columns)-\n",
    "                      set(top_artist_count_columns)-set(genre_columns))"
   ]
  },
  {
   "cell_type": "code",
   "execution_count": 15,
   "metadata": {
    "collapsed": true,
    "hide": true
   },
   "outputs": [],
   "source": [
    "feature_importance = estgb.feature_importances_\n",
    "feature_importance = 100.0 * (feature_importance / feature_importance.max())\n",
    "sorted_idx = np.argsort(feature_importance)[::-1]\n",
    "pos = np.arange(sorted_idx.shape[0]) + .5\n",
    "\n",
    "numerical_important = []\n",
    "top_artist_count_important = []\n",
    "genre_important = []\n",
    "title_important = []\n",
    "interaction_important = []\n",
    "artist_important = []\n",
    "\n",
    "important_features = []\n",
    "\n",
    "for i in range(50):\n",
    "    important_features.append((x_train.columns[sorted_idx[i]], feature_importance[sorted_idx[i]]))\n",
    "    \n",
    "    feat = x_train.columns[sorted_idx[i]]\n",
    "    importance = feature_importance[sorted_idx[i]]\n",
    "    \n",
    "    if feat in set(numerical_columns):\n",
    "        numerical_important.append((feat, importance))\n",
    "        \n",
    "    elif feat in set(top_artist_count_columns):\n",
    "        top_artist_count_important.append((feat, importance))\n",
    "        \n",
    "    elif feat in set(genre_columns):\n",
    "        genre_important.append((feat, importance))\n",
    "        \n",
    "    elif feat in set(title_columns):\n",
    "        title_important.append((feat, importance))\n",
    "        \n",
    "    elif feat in set(interaction_columns):\n",
    "        interaction_important.append((feat, importance))\n",
    "        \n",
    "    elif feat in set(artist_columns):\n",
    "        artist_important.append((feat, importance))\n",
    "    \n",
    "    \n",
    "important_features_50 = important_features[:50]\n",
    "\n",
    "important_features_df = pd.DataFrame(important_features_50, columns = ['Feature','Importance Percentage'])\n",
    "numerical_important_df = pd.DataFrame(numerical_important, columns = ['Feature','Importance Percentage'])\n",
    "top_artist_count_important_df = pd.DataFrame(top_artist_count_important, columns = ['Feature','Importance Percentage'])\n",
    "genre_important_df = pd.DataFrame(genre_important, columns = ['Feature','Importance Percentage'])\n",
    "title_important_df = pd.DataFrame(title_important, columns = ['Feature','Importance Percentage'])\n",
    "interaction_important_df = pd.DataFrame(interaction_important, columns = ['Feature','Importance Percentage'])\n",
    "artist_important_df = pd.DataFrame(artist_important, columns = ['Feature','Importance Percentage'])"
   ]
  },
  {
   "cell_type": "markdown",
   "metadata": {},
   "source": [
    "### Important Audio Features "
   ]
  },
  {
   "cell_type": "markdown",
   "metadata": {},
   "source": [
    "In general, the most important category of features was found to be the audio features. In fact, 24 out of the most important 50 were audio features. "
   ]
  },
  {
   "cell_type": "code",
   "execution_count": 17,
   "metadata": {
    "hide": true
   },
   "outputs": [
    {
     "data": {
      "text/html": [
       "<div>\n",
       "<style>\n",
       "    .dataframe thead tr:only-child th {\n",
       "        text-align: right;\n",
       "    }\n",
       "\n",
       "    .dataframe thead th {\n",
       "        text-align: left;\n",
       "    }\n",
       "\n",
       "    .dataframe tbody tr th {\n",
       "        vertical-align: top;\n",
       "    }\n",
       "</style>\n",
       "<table border=\"1\" class=\"dataframe\">\n",
       "  <thead>\n",
       "    <tr style=\"text-align: right;\">\n",
       "      <th>Feature</th>\n",
       "      <th>valence_mean</th>\n",
       "      <th>dance_mean</th>\n",
       "      <th>valence_std</th>\n",
       "      <th>speech_std</th>\n",
       "      <th>liveness_mean</th>\n",
       "      <th>loudness_std</th>\n",
       "      <th>speech_mean</th>\n",
       "      <th>mode_mean</th>\n",
       "      <th>acousticness_std</th>\n",
       "      <th>followers_std</th>\n",
       "      <th>tempo_std</th>\n",
       "      <th>instrumentalness_std</th>\n",
       "      <th>key_mean</th>\n",
       "      <th>time_mean</th>\n",
       "      <th>liveness_std</th>\n",
       "      <th>loudness_mean</th>\n",
       "      <th>dance_std</th>\n",
       "      <th>tempo_mean</th>\n",
       "      <th>energy_mean</th>\n",
       "      <th>key_std</th>\n",
       "      <th>acousticness_mean</th>\n",
       "      <th>followers_mean</th>\n",
       "      <th>energy_std</th>\n",
       "      <th>instrumentalness_mean</th>\n",
       "    </tr>\n",
       "  </thead>\n",
       "  <tbody>\n",
       "    <tr>\n",
       "      <th>Importance Percentage</th>\n",
       "      <td>100.0</td>\n",
       "      <td>92.459074</td>\n",
       "      <td>77.060993</td>\n",
       "      <td>56.463127</td>\n",
       "      <td>53.478693</td>\n",
       "      <td>47.417054</td>\n",
       "      <td>43.054002</td>\n",
       "      <td>40.359594</td>\n",
       "      <td>38.34399</td>\n",
       "      <td>38.3274</td>\n",
       "      <td>37.664597</td>\n",
       "      <td>35.477903</td>\n",
       "      <td>30.910104</td>\n",
       "      <td>30.734492</td>\n",
       "      <td>28.425508</td>\n",
       "      <td>28.27619</td>\n",
       "      <td>27.195735</td>\n",
       "      <td>26.276604</td>\n",
       "      <td>23.364516</td>\n",
       "      <td>21.360647</td>\n",
       "      <td>20.730889</td>\n",
       "      <td>20.210386</td>\n",
       "      <td>19.774391</td>\n",
       "      <td>11.737473</td>\n",
       "    </tr>\n",
       "  </tbody>\n",
       "</table>\n",
       "</div>"
      ],
      "text/plain": [
       "Feature                valence_mean  dance_mean  valence_std  speech_std  \\\n",
       "Importance Percentage         100.0   92.459074    77.060993   56.463127   \n",
       "\n",
       "Feature                liveness_mean  loudness_std  speech_mean  mode_mean  \\\n",
       "Importance Percentage      53.478693     47.417054    43.054002  40.359594   \n",
       "\n",
       "Feature                acousticness_std  followers_std  tempo_std  \\\n",
       "Importance Percentage          38.34399        38.3274  37.664597   \n",
       "\n",
       "Feature                instrumentalness_std   key_mean  time_mean  \\\n",
       "Importance Percentage             35.477903  30.910104  30.734492   \n",
       "\n",
       "Feature                liveness_std  loudness_mean  dance_std  tempo_mean  \\\n",
       "Importance Percentage     28.425508       28.27619  27.195735   26.276604   \n",
       "\n",
       "Feature                energy_mean    key_std  acousticness_mean  \\\n",
       "Importance Percentage    23.364516  21.360647          20.730889   \n",
       "\n",
       "Feature                followers_mean  energy_std  instrumentalness_mean  \n",
       "Importance Percentage       20.210386   19.774391              11.737473  "
      ]
     },
     "execution_count": 17,
     "metadata": {},
     "output_type": "execute_result"
    }
   ],
   "source": [
    "numerical_important_df.set_index('Feature').T"
   ]
  },
  {
   "cell_type": "markdown",
   "metadata": {},
   "source": [
    "Interestingly, the mean valence is shown to be the most important predictor. The valence of a song is defined by the mood of the song--whether it is a happy song (high valence) or a sad/angry song (low valence). We observe that both visually and with multiregression, valence is negatively correlated to playlist followers. Both the mean and the standard deviation are highly significant predictors, indicating that not only do people want to hear sad and depressing songs, but they prefer playlists that are mostly composed of consistent sad and depressing songs!\n",
    "\n",
    "The second most important predictor is the mean of danceability. Songs that are more danceable have greater tempo and  rhythm stability, beat strength, and overall regularity.\n",
    "\n",
    "Another important predictor iss the speech standard deviation and mean. We also observe in the multiregression inference that there is a negative correlation between speech and playlist popularity. This indicates that followers consistently prefer songs with less speech. "
   ]
  },
  {
   "cell_type": "markdown",
   "metadata": {},
   "source": [
    "### Important Genre Features"
   ]
  },
  {
   "cell_type": "code",
   "execution_count": 17,
   "metadata": {
    "collapsed": true,
    "hide": true
   },
   "outputs": [],
   "source": [
    "data_broad_genres = pd.read_csv('data/All_Data.csv')"
   ]
  },
  {
   "cell_type": "code",
   "execution_count": 18,
   "metadata": {
    "collapsed": true,
    "hide": true
   },
   "outputs": [],
   "source": [
    "genres_counts = pd.DataFrame(np.zeros((len(genre_columns),4)), \n",
    "                             columns=['Num_tracks','Mean_Follow','Total_Follow','Std_Follow'])\n",
    "genres_counts.index = genre_columns\n",
    "\n",
    "for pred in genre_columns:\n",
    "    \n",
    "    pred_cols = data[data[pred]==1]\n",
    "    follow = pred_cols['Followers']\n",
    "    mean_followers = np.mean(follow[follow>0])\n",
    "    total_followers = sum(follow)\n",
    "    \n",
    "    genres_counts['Num_tracks'][pred] = sum(data[pred])\n",
    "    genres_counts['Mean_Follow'][pred] = round(mean_followers)\n",
    "    genres_counts['Total_Follow'][pred] = round(total_followers)\n",
    "    genres_counts['Std_Follow'][pred]= np.std(follow[follow>0])\n",
    "\n",
    "genres_counts = genres_counts.sort_values(['Mean_Follow'], ascending=False)"
   ]
  },
  {
   "cell_type": "code",
   "execution_count": 19,
   "metadata": {
    "collapsed": true,
    "hide": true
   },
   "outputs": [],
   "source": [
    "popular_genres = pd.concat([genre_important_df.set_index('Feature'), genres_counts.loc[genre_important_df['Feature'].tolist()]],axis=1 )"
   ]
  },
  {
   "cell_type": "code",
   "execution_count": 20,
   "metadata": {
    "hide": true
   },
   "outputs": [
    {
     "data": {
      "text/html": [
       "<div>\n",
       "<style>\n",
       "    .dataframe thead tr:only-child th {\n",
       "        text-align: right;\n",
       "    }\n",
       "\n",
       "    .dataframe thead th {\n",
       "        text-align: left;\n",
       "    }\n",
       "\n",
       "    .dataframe tbody tr th {\n",
       "        vertical-align: top;\n",
       "    }\n",
       "</style>\n",
       "<table border=\"1\" class=\"dataframe\">\n",
       "  <thead>\n",
       "    <tr style=\"text-align: right;\">\n",
       "      <th></th>\n",
       "      <th>Importance Percentage</th>\n",
       "      <th>Num_tracks</th>\n",
       "      <th>Mean_Follow</th>\n",
       "      <th>Total_Follow</th>\n",
       "      <th>Std_Follow</th>\n",
       "    </tr>\n",
       "    <tr>\n",
       "      <th>Feature</th>\n",
       "      <th></th>\n",
       "      <th></th>\n",
       "      <th></th>\n",
       "      <th></th>\n",
       "      <th></th>\n",
       "    </tr>\n",
       "  </thead>\n",
       "  <tbody>\n",
       "    <tr>\n",
       "      <th>'hip house'</th>\n",
       "      <td>14.837564</td>\n",
       "      <td>35.0</td>\n",
       "      <td>394870.0</td>\n",
       "      <td>13820445.0</td>\n",
       "      <td>8.255246e+05</td>\n",
       "    </tr>\n",
       "    <tr>\n",
       "      <th>'dance-punk'</th>\n",
       "      <td>14.232088</td>\n",
       "      <td>384.0</td>\n",
       "      <td>240562.0</td>\n",
       "      <td>89970041.0</td>\n",
       "      <td>4.815128e+05</td>\n",
       "    </tr>\n",
       "    <tr>\n",
       "      <th>'hardcore hip hop'</th>\n",
       "      <td>12.197885</td>\n",
       "      <td>433.0</td>\n",
       "      <td>287570.0</td>\n",
       "      <td>121354445.0</td>\n",
       "      <td>1.001567e+06</td>\n",
       "    </tr>\n",
       "    <tr>\n",
       "      <th>'slow core'</th>\n",
       "      <td>10.253461</td>\n",
       "      <td>37.0</td>\n",
       "      <td>393312.0</td>\n",
       "      <td>14159226.0</td>\n",
       "      <td>6.365066e+05</td>\n",
       "    </tr>\n",
       "    <tr>\n",
       "      <th>'indie poptimism'</th>\n",
       "      <td>9.682095</td>\n",
       "      <td>771.0</td>\n",
       "      <td>261538.0</td>\n",
       "      <td>197199914.0</td>\n",
       "      <td>8.365860e+05</td>\n",
       "    </tr>\n",
       "    <tr>\n",
       "      <th>'movie tunes'</th>\n",
       "      <td>9.477833</td>\n",
       "      <td>203.0</td>\n",
       "      <td>306781.0</td>\n",
       "      <td>59822247.0</td>\n",
       "      <td>6.800909e+05</td>\n",
       "    </tr>\n",
       "    <tr>\n",
       "      <th>'escape room'</th>\n",
       "      <td>8.226294</td>\n",
       "      <td>521.0</td>\n",
       "      <td>233039.0</td>\n",
       "      <td>118616861.0</td>\n",
       "      <td>5.229733e+05</td>\n",
       "    </tr>\n",
       "    <tr>\n",
       "      <th>'compositional ambient'</th>\n",
       "      <td>8.218600</td>\n",
       "      <td>375.0</td>\n",
       "      <td>272666.0</td>\n",
       "      <td>100613579.0</td>\n",
       "      <td>5.892620e+05</td>\n",
       "    </tr>\n",
       "    <tr>\n",
       "      <th>'adult standards'</th>\n",
       "      <td>8.161076</td>\n",
       "      <td>476.0</td>\n",
       "      <td>251238.0</td>\n",
       "      <td>115569352.0</td>\n",
       "      <td>6.626870e+05</td>\n",
       "    </tr>\n",
       "    <tr>\n",
       "      <th>'brill building pop'</th>\n",
       "      <td>7.742838</td>\n",
       "      <td>72.0</td>\n",
       "      <td>252205.0</td>\n",
       "      <td>17654320.0</td>\n",
       "      <td>6.561112e+05</td>\n",
       "    </tr>\n",
       "  </tbody>\n",
       "</table>\n",
       "</div>"
      ],
      "text/plain": [
       "                         Importance Percentage  Num_tracks  Mean_Follow  \\\n",
       "Feature                                                                   \n",
       "'hip house'                          14.837564        35.0     394870.0   \n",
       " 'dance-punk'                        14.232088       384.0     240562.0   \n",
       " 'hardcore hip hop'                  12.197885       433.0     287570.0   \n",
       "'slow core'                          10.253461        37.0     393312.0   \n",
       " 'indie poptimism'                    9.682095       771.0     261538.0   \n",
       " 'movie tunes'                        9.477833       203.0     306781.0   \n",
       " 'escape room'                        8.226294       521.0     233039.0   \n",
       "'compositional ambient'               8.218600       375.0     272666.0   \n",
       "'adult standards'                     8.161076       476.0     251238.0   \n",
       "'brill building pop'                  7.742838        72.0     252205.0   \n",
       "\n",
       "                         Total_Follow    Std_Follow  \n",
       "Feature                                              \n",
       "'hip house'                13820445.0  8.255246e+05  \n",
       " 'dance-punk'              89970041.0  4.815128e+05  \n",
       " 'hardcore hip hop'       121354445.0  1.001567e+06  \n",
       "'slow core'                14159226.0  6.365066e+05  \n",
       " 'indie poptimism'        197199914.0  8.365860e+05  \n",
       " 'movie tunes'             59822247.0  6.800909e+05  \n",
       " 'escape room'            118616861.0  5.229733e+05  \n",
       "'compositional ambient'   100613579.0  5.892620e+05  \n",
       "'adult standards'         115569352.0  6.626870e+05  \n",
       "'brill building pop'       17654320.0  6.561112e+05  "
      ]
     },
     "execution_count": 20,
     "metadata": {},
     "output_type": "execute_result"
    }
   ],
   "source": [
    "popular_genres"
   ]
  },
  {
   "cell_type": "markdown",
   "metadata": {},
   "source": [
    "We can see from the table that siginifcant genres include compositional ambient, dance-punk, welsh rock, hardcore hip hop, hip house, adult standards, escape room, and slow core. \n",
    "\n",
    "These may not be the most common genres, in fact the number of tracks in each of these genres are all below 600. However, we do see that for all of these genres, the mean number of followers is significantly higher. The recently booming popularity of escape rooms is a possible cause of the popularity of escape room music. We notice that these genres, although not frequently featured in playlists, may have very loyal and consistent listeners.  "
   ]
  },
  {
   "cell_type": "markdown",
   "metadata": {},
   "source": [
    "### Important Title Features"
   ]
  },
  {
   "cell_type": "code",
   "execution_count": 22,
   "metadata": {
    "collapsed": true,
    "hide": true
   },
   "outputs": [],
   "source": [
    "color_bars = [\"#000000\", \"#062d14\",\"#0c5a27\",\"#12873b\",\"#18b44f\",\"#1ed760\",\"4be782\",\n",
    "              \"#78eda1\",\"#a5f3c0\",\"#d2f9e0\",\"#ffffff\"]"
   ]
  },
  {
   "cell_type": "code",
   "execution_count": 23,
   "metadata": {
    "hide": true
   },
   "outputs": [
    {
     "data": {
      "text/html": [
       "<iframe id=\"igraph\" scrolling=\"no\" style=\"border:none;\" seamless=\"seamless\" src=\"https://plot.ly/~tingnoble/31.embed\" height=\"525px\" width=\"100%\"></iframe>"
      ],
      "text/plain": [
       "<plotly.tools.PlotlyDisplay object>"
      ]
     },
     "execution_count": 23,
     "metadata": {},
     "output_type": "execute_result"
    }
   ],
   "source": [
    "trace0 = go.Bar(\n",
    "    x=title_important_df['Feature'],\n",
    "    y=title_important_df['Importance Percentage'],\n",
    "    marker=dict(\n",
    "        color=color_bars,\n",
    "        line=dict(\n",
    "            color='#ffffff',\n",
    "            width=1.5,\n",
    "        )\n",
    "    ),\n",
    "    opacity=0.6\n",
    ")\n",
    "\n",
    "data = [trace0]\n",
    "layout = go.Layout(\n",
    "    title='Important Title Features',\n",
    "    xaxis=dict(\n",
    "        title='Features',\n",
    "    ),\n",
    "    yaxis=dict(\n",
    "        title='Relative Importance (Percent)',\n",
    "        )\n",
    ")\n",
    "\n",
    "fig = go.Figure(data=data, layout=layout)\n",
    "py.iplot(fig, filename='Important Title Features')"
   ]
  },
  {
   "cell_type": "markdown",
   "metadata": {},
   "source": [
    "The most important titles include years in the 2000s. Titles with 1990s are also significant, although lesser in degree. It is reasonable that people search for recent songs more often. "
   ]
  },
  {
   "cell_type": "markdown",
   "metadata": {},
   "source": [
    "### Important Interaction Features"
   ]
  },
  {
   "cell_type": "code",
   "execution_count": 24,
   "metadata": {
    "hide": true
   },
   "outputs": [
    {
     "data": {
      "text/html": [
       "<iframe id=\"igraph\" scrolling=\"no\" style=\"border:none;\" seamless=\"seamless\" src=\"https://plot.ly/~tingnoble/33.embed\" height=\"525px\" width=\"100%\"></iframe>"
      ],
      "text/plain": [
       "<plotly.tools.PlotlyDisplay object>"
      ]
     },
     "execution_count": 24,
     "metadata": {},
     "output_type": "execute_result"
    }
   ],
   "source": [
    "trace0 = go.Bar(\n",
    "    x=interaction_important_df['Feature'],\n",
    "    y=interaction_important_df['Importance Percentage'],\n",
    "    marker=dict(\n",
    "        color=color_bars,\n",
    "        line=dict(\n",
    "            color='#ffffff',\n",
    "            width=1.5,\n",
    "        )\n",
    "    ),\n",
    "    opacity=0.6\n",
    ")\n",
    "\n",
    "data = [trace0]\n",
    "layout = go.Layout(\n",
    "    title='Important Interaction Features',\n",
    "    xaxis=dict(\n",
    "        title='Features',\n",
    "    ),\n",
    "    yaxis=dict(\n",
    "        title='Relative Importance (Percent)',\n",
    "        )\n",
    ")\n",
    "\n",
    "fig = go.Figure(data=data, layout=layout)\n",
    "py.iplot(fig, filename='Important Interaction Features')"
   ]
  },
  {
   "cell_type": "markdown",
   "metadata": {},
   "source": [
    "The most important interaction we see is how much liveness differs for songs in a track, for pop music. Liveness refers to whether the track is likely to be performed live. In general, we see that the more likely a track is recorded live, the less number of followers the track would have. This relationship is particularly critical for pop and dance music. \n",
    "\n",
    "We observe that acousticness is an important feature for several different genres: hip hop, house, acoustic, and r&b. \n",
    "\n",
    "Lastly, how much energy and key may differ for songs in rap playlists is also quite significant. "
   ]
  },
  {
   "cell_type": "markdown",
   "metadata": {},
   "source": [
    "### Important Artists "
   ]
  },
  {
   "cell_type": "code",
   "execution_count": 34,
   "metadata": {
    "collapsed": true
   },
   "outputs": [],
   "source": [
    "artist_followers_df = pd.read_csv('data/artist_level_EDA.csv')"
   ]
  },
  {
   "cell_type": "code",
   "execution_count": 35,
   "metadata": {
    "collapsed": true,
    "hide": true
   },
   "outputs": [],
   "source": [
    "highartist=artist_followers_df['artist'].value_counts()\n",
    "popular_artists=artist_important_df['Feature'].tolist()[2:]\n",
    "followers_popular_artists=[]\n",
    "for ele in popular_artists:\n",
    "    followers_popular_artists.append((ele,artist_followers_df[artist_followers_df.artist==ele]['playlist followers'].mean()))"
   ]
  },
  {
   "cell_type": "code",
   "execution_count": 40,
   "metadata": {
    "collapsed": true,
    "hide": true
   },
   "outputs": [],
   "source": [
    "followers_popular_artists\n",
    "artist_df = pd.DataFrame(followers_popular_artists, columns = ['Artist','Mean Followers']).set_index('Artist')\n",
    "artist_df = pd.concat([artist_important_df[2:].set_index('Feature'), artist_df], axis=1)"
   ]
  },
  {
   "cell_type": "code",
   "execution_count": 41,
   "metadata": {
    "hide": true
   },
   "outputs": [
    {
     "data": {
      "text/html": [
       "<div>\n",
       "<style>\n",
       "    .dataframe thead tr:only-child th {\n",
       "        text-align: right;\n",
       "    }\n",
       "\n",
       "    .dataframe thead th {\n",
       "        text-align: left;\n",
       "    }\n",
       "\n",
       "    .dataframe tbody tr th {\n",
       "        vertical-align: top;\n",
       "    }\n",
       "</style>\n",
       "<table border=\"1\" class=\"dataframe\">\n",
       "  <thead>\n",
       "    <tr style=\"text-align: right;\">\n",
       "      <th></th>\n",
       "      <th>Importance Percentage</th>\n",
       "      <th>Mean Followers</th>\n",
       "    </tr>\n",
       "  </thead>\n",
       "  <tbody>\n",
       "    <tr>\n",
       "      <th>Yo Gotti</th>\n",
       "      <td>17.104839</td>\n",
       "      <td>1.171835e+06</td>\n",
       "    </tr>\n",
       "    <tr>\n",
       "      <th>Post Malone</th>\n",
       "      <td>8.293600</td>\n",
       "      <td>1.380026e+06</td>\n",
       "    </tr>\n",
       "  </tbody>\n",
       "</table>\n",
       "</div>"
      ],
      "text/plain": [
       "             Importance Percentage  Mean Followers\n",
       "Yo Gotti                 17.104839    1.171835e+06\n",
       "Post Malone               8.293600    1.380026e+06"
      ]
     },
     "execution_count": 41,
     "metadata": {},
     "output_type": "execute_result"
    }
   ],
   "source": [
    "artist_df"
   ]
  },
  {
   "cell_type": "markdown",
   "metadata": {},
   "source": [
    "We observe that the most significant artists were Yo Gotti, Led Zeppelin, and Post Malone. They are all of artists of different genres: Yo Gotti is an American rapper, Led Zeppelin an English rock band, and Post Malone an American rapper/singer/songwriter/guitarist. They all have a large number of mean followers for playlists they are featured in. "
   ]
  },
  {
   "cell_type": "code",
   "execution_count": 42,
   "metadata": {
    "hide": true
   },
   "outputs": [
    {
     "data": {
      "text/html": [
       "<div>\n",
       "<style>\n",
       "    .dataframe thead tr:only-child th {\n",
       "        text-align: right;\n",
       "    }\n",
       "\n",
       "    .dataframe thead th {\n",
       "        text-align: left;\n",
       "    }\n",
       "\n",
       "    .dataframe tbody tr th {\n",
       "        vertical-align: top;\n",
       "    }\n",
       "</style>\n",
       "<table border=\"1\" class=\"dataframe\">\n",
       "  <thead>\n",
       "    <tr style=\"text-align: right;\">\n",
       "      <th></th>\n",
       "      <th>Feature</th>\n",
       "      <th>Importance Percentage</th>\n",
       "    </tr>\n",
       "  </thead>\n",
       "  <tbody>\n",
       "    <tr>\n",
       "      <th>0</th>\n",
       "      <td>popularity_std</td>\n",
       "      <td>71.277682</td>\n",
       "    </tr>\n",
       "    <tr>\n",
       "      <th>1</th>\n",
       "      <td>popularity_mean</td>\n",
       "      <td>36.864343</td>\n",
       "    </tr>\n",
       "  </tbody>\n",
       "</table>\n",
       "</div>"
      ],
      "text/plain": [
       "           Feature  Importance Percentage\n",
       "0   popularity_std              71.277682\n",
       "1  popularity_mean              36.864343"
      ]
     },
     "execution_count": 42,
     "metadata": {},
     "output_type": "execute_result"
    }
   ],
   "source": [
    "artist_important_df[0:2]"
   ]
  },
  {
   "cell_type": "markdown",
   "metadata": {},
   "source": [
    "Unsurprisingly, the popularity of the artist has a great significance on the popularity of the playlist. What is surprising is that the standard deviation of artist popularity songs has a greater significance than the mean of the popularity. This indicates that a playlist having consistent artist popularity will gain more followers. "
   ]
  },
  {
   "cell_type": "markdown",
   "metadata": {},
   "source": [
    "## Inference for Residuals"
   ]
  },
  {
   "cell_type": "code",
   "execution_count": 43,
   "metadata": {
    "collapsed": true,
    "hide": true
   },
   "outputs": [],
   "source": [
    "y_hat = estgb.predict(x_test)\n",
    "resid = y_test-y_hat"
   ]
  },
  {
   "cell_type": "code",
   "execution_count": 84,
   "metadata": {
    "collapsed": true,
    "hide": true
   },
   "outputs": [],
   "source": [
    "def residual_plot():\n",
    "\n",
    "    f,ax = plt.subplots(1,1,figsize=(10,8))\n",
    "\n",
    "    ax = sns.regplot(x=y_hat, y=resid, scatter_kws={'alpha':0.5, 's':50})\n",
    "    ax.plot([0,14],[0,0], '-.', c = green_col, linewidth = 1.5)\n",
    "    ax.set_xlabel('Fitted Values (Log Scale)')\n",
    "    ax.set_ylabel('Residual Values')\n",
    "    ax.set_title('Residual vs. Fitted Values Plot')\n",
    "    ax.set_xticklabels((4, 6, 8, 10, 12, 14), fontsize=12)\n",
    "    ax.set_yticklabels((-8, -6, -4, -2, 0, 2, 4, 6, 8), fontsize=12)"
   ]
  },
  {
   "cell_type": "code",
   "execution_count": 85,
   "metadata": {
    "hide": true
   },
   "outputs": [
    {
     "data": {
      "image/png": "[encoded data removed]",
      "text/plain": [
       "<matplotlib.figure.Figure at 0x11fc8e438>"
      ]
     },
     "metadata": {},
     "output_type": "display_data"
    }
   ],
   "source": [
    "residual_plot()"
   ]
  },
  {
   "cell_type": "markdown",
   "metadata": {},
   "source": [
    "The residuals plot above shows the difference between the predicted fitted values and the actual values, $\\hat{y}-y$. The plot shows a pattern that is similar to a diamond. We observe that they are very dense around 10 (in log scale). A possible cause of this pattern in the residuals plot is the distribution of the response (in log scale), which is slightly left skewed. This is shown below. Consequently, the residuals will be high around 10. We can also observe that the distribution of the fitted values is narrower than the true response. "
   ]
  },
  {
   "cell_type": "code",
   "execution_count": 96,
   "metadata": {
    "collapsed": true,
    "hide": true
   },
   "outputs": [],
   "source": [
    "def response_hist():\n",
    "\n",
    "    f,ax = plt.subplots(1,3,figsize=(20,6), sharex = True)\n",
    "\n",
    "    ax[0].hist(y_test, color = green_col)\n",
    "    ax[0].set_facecolor(white_col)\n",
    "    ax[0].grid(True, color = light_gray_col)\n",
    "    ax[0].set_title('True Values (Test)', fontsize = 20)\n",
    "    ax[0].set_xticklabels((2, 4, 6, 8, 10, 12, 14, 16), fontsize = 12)\n",
    "    ax[0].set_yticklabels((0, 5, 10, 15, 20, 25, 30, 35, 40), fontsize = 12)\n",
    "\n",
    "    ax[1].hist(y_hat, color = gray_col)\n",
    "    ax[1].set_facecolor(white_col)\n",
    "    ax[1].grid(True, color = light_gray_col)\n",
    "    ax[1].set_title('Fitted Values (Test)',fontsize = 20)\n",
    "    ax[1].set_xticklabels((2, 4, 6, 8, 10, 12, 14, 16), fontsize = 12)\n",
    "    ax[1].set_yticklabels((0, 5, 10, 15, 20, 25, 30, 35, 40), fontsize = 12)\n",
    "    \n",
    "    ax[2].hist(y_test, color = green_col, alpha = 0.7)\n",
    "    ax[2].hist(y_hat, color = gray_col, alpha = 0.7)\n",
    "    ax[2].set_facecolor(white_col)\n",
    "    ax[2].grid(True, color = light_gray_col)\n",
    "    ax[2].set_title('True and Fitted Values (Test)',fontsize = 20)\n",
    "    ax[2].set_xticklabels((2, 4, 6, 8, 10, 12, 14, 16), fontsize = 12)\n",
    "    ax[2].set_yticklabels((0, 5, 10, 15, 20, 25, 30, 35, 40), fontsize = 12)"
   ]
  },
  {
   "cell_type": "code",
   "execution_count": 97,
   "metadata": {
    "hide": true
   },
   "outputs": [
    {
     "data": {
      "image/png": "[encoded data removed]",
      "text/plain": [
       "<matplotlib.figure.Figure at 0x127522128>"
      ]
     },
     "metadata": {},
     "output_type": "display_data"
    }
   ],
   "source": [
    "response_hist()"
   ]
  },
  {
   "cell_type": "markdown",
   "metadata": {},
   "source": [
    "References:\n",
    "\n",
    "[1] Hastie, T., Tibshirani, R., & Friedman, J. H. (2001). The elements of statistical learning: Data mining, inference, and prediction. New York: Springer."
   ]
  }
 ],
 "metadata": {
  "celltoolbar": "Edit Metadata",
  "kernelspec": {
   "display_name": "python36",
   "language": "python",
   "name": "python36"
  },
  "language_info": {
   "codemirror_mode": {
    "name": "ipython",
    "version": 3
   },
   "file_extension": ".py",
   "mimetype": "text/x-python",
   "name": "python",
   "nbconvert_exporter": "python",
   "pygments_lexer": "ipython3",
   "version": "3.6.2"
  }
 },
 "nbformat": 4,
 "nbformat_minor": 2
}
