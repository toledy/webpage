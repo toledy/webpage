{
 "cells": [
  {
   "cell_type": "code",
   "execution_count": 148,
   "metadata": {
    "collapsed": true,
    "hide": true
   },
   "outputs": [],
   "source": [
    "import numpy as np\n",
    "import pandas as pd\n",
    "import matplotlib.pyplot as plt\n",
    "import seaborn as sns\n",
    "import statsmodels.api as sm\n",
    "from sklearn.metrics import r2_score\n",
    "from sklearn.linear_model import LinearRegression\n",
    "from sklearn.preprocessing import Imputer\n",
    "from sklearn.linear_model import LassoCV,RidgeCV\n",
    "from sklearn.ensemble import RandomForestRegressor\n",
    "from sklearn.preprocessing import PolynomialFeatures\n",
    "%matplotlib inline\n",
    "import warnings\n",
    "warnings.filterwarnings(\"ignore\")\n",
    "pd.set_option('display.max_columns', 200)\n",
    "import math\n",
    "import plotly\n",
    "import plotly.plotly as py\n",
    "import plotly.graph_objs as go\n",
    "plotly.__version__\n",
    "plotly.tools.set_credentials_file(username='tingnoble', api_key='4zOe1ds7duZr15VxaRBp')"
   ]
  },
  {
   "cell_type": "code",
   "execution_count": 106,
   "metadata": {
    "collapsed": true,
    "hide": true
   },
   "outputs": [],
   "source": [
    "# Read-in the full data set\n",
    "data = pd.read_csv('data/Final_Dataframe.csv')\n",
    "data = data.drop([\"Unnamed: 0\"], axis=1)"
   ]
  },
  {
   "cell_type": "code",
   "execution_count": 5,
   "metadata": {
    "collapsed": true,
    "hide": true
   },
   "outputs": [],
   "source": [
    "## train, test split##\n",
    "\n",
    "# A train/test split is constructed where 90% of the subsample is \n",
    "# the train data set and 10% the test data set.\n",
    "\n",
    "# Set train and test sizes\n",
    "train_size = 0.9\n",
    "test_size = 1-train_size\n",
    "\n",
    "# Function to return random train and test sets\n",
    "def data_splitter(df, train, validate=False, seed=9001):\n",
    "    \n",
    "    if validate:\n",
    "        np.random.seed(seed)\n",
    "        perm = np.random.permutation(df.index)\n",
    "        m = len(df)\n",
    "        train_end = int(train * m)\n",
    "        validate_end = int(validate * m) + train_end\n",
    "        train = df.ix[perm[:train_end]]\n",
    "        validate = df.ix[perm[train_end:validate_end]]\n",
    "        test = df.ix[perm[validate_end:]]\n",
    "        return train, validate, test\n",
    "    else:\n",
    "        np.random.seed(seed)\n",
    "        perm = np.random.permutation(df.index)\n",
    "        m = len(df)\n",
    "        train_end = int(train * m)\n",
    "        train = df.ix[perm[:train_end]]\n",
    "        test = df.ix[perm[train_end:]]\n",
    "        return train, test"
   ]
  },
  {
   "cell_type": "code",
   "execution_count": 7,
   "metadata": {
    "collapsed": true,
    "hide": true
   },
   "outputs": [],
   "source": [
    "# Create train and test dataframes from subsample\n",
    "train_df, test_df = data_splitter(data, train_size)"
   ]
  },
  {
   "cell_type": "code",
   "execution_count": 8,
   "metadata": {
    "collapsed": true,
    "hide": true
   },
   "outputs": [],
   "source": [
    "# Median imputation of missing values\n",
    "imp = Imputer(missing_values='NaN', strategy='median', axis=1)\n",
    "train_df = pd.DataFrame(imp.fit_transform(train_df), columns=data.columns)\n",
    "test_df = pd.DataFrame(imp.transform(test_df), columns=data.columns)\n",
    "\n",
    "train_df = train_df[train_df['Followers'] != 0]\n",
    "test_df = test_df[test_df['Followers'] != 0]\n",
    "\n",
    "# Final step: create y_train/x_train and y_test/x_test dataframes\n",
    "\n",
    "# Initialize the training data\n",
    "y_train = np.log(train_df['Followers'])\n",
    "x_train = train_df.drop('Followers', axis=1)\n",
    "\n",
    "# Initialize the testing data\n",
    "y_test = np.log(test_df['Followers'])\n",
    "x_test = test_df.drop('Followers', axis=1)"
   ]
  },
  {
   "cell_type": "markdown",
   "metadata": {},
   "source": [
    "## Baseline Models "
   ]
  },
  {
   "cell_type": "markdown",
   "metadata": {},
   "source": [
    "In this section, our goal is to examine the baseline performance of simple regression models on the test set. We would use these baseline test set $R^2$ score as a reference for building more complex models. The models included in this section are mostly multi-linear regression models with different subset of predictors and possible polynomial/interaction terms. PCA and Lasso/Ridge are explored here as well. \n",
    "\n",
    "We choose to start with linear regression because of its high interpretability and low computational compexity. We can easily interpret the results of regression coeffcients by holding all other predictors constant and observing how a one unit increase in the specified predictor leads to a change in units indicated by the coefficent in the response variables. Linear regression also has a closed form solution for coefficients which reduces computational complexity and promotes efficiency.\n",
    "\n",
    "Linear regression has the following assumptions: \n",
    "* There is a linear relationship between response variables and predictors\n",
    "* Residuals are independent\n",
    "* Residuals are normally distributed\n",
    "* Residuals has constant variance \n",
    "\n",
    "To evaluate baseline models, we use the metric $R^2$, which is the proportion of overall variability of $Y$ explained by the model. We do note that $R^2$ has the tendency to overfit as it will always go up for the training set when we include more predictors."
   ]
  },
  {
   "cell_type": "markdown",
   "metadata": {},
   "source": [
    "### Part (a) Multi-Linear Regression Model with All Predictors"
   ]
  },
  {
   "cell_type": "markdown",
   "metadata": {},
   "source": [
    "As the first step, we fit a multi-linear regression with all predictors that we have. This model would not neccessarily perform well because of the sheer number of predictors (949 in total). However, we want to conduct a sanity check through this model to make sure that prediction power is reasonable.\n",
    "\n",
    "The test $R^2$ score for multi-linear regression model with all predictors is -2.7797. Our prediction does a worse predcition job than the mean of response varaibles. This is evidence suggesting that we are overfitting our model with too many predictors. Therefore, going forward, we would like to fit a regression model with a subset of predictors in this model."
   ]
  },
  {
   "cell_type": "code",
   "execution_count": 159,
   "metadata": {
    "collapsed": true,
    "hide": true
   },
   "outputs": [],
   "source": [
    "X=sm.add_constant(x_train)\n",
    "X_test=sm.add_constant(x_test)\n",
    "model=sm.OLS(y_train,X)\n",
    "results=model.fit()\n",
    "r2_test_a=r2_score(y_test,results.predict(X_test))"
   ]
  },
  {
   "cell_type": "code",
   "execution_count": 158,
   "metadata": {
    "hide": true
   },
   "outputs": [
    {
     "name": "stdout",
     "output_type": "stream",
     "text": [
      "For Multi-Linear Regression with All Terms:\n",
      "R2 Score (Training) = 0.7656\n",
      "R2 Score (Test) = -2.7797\n"
     ]
    }
   ],
   "source": [
    "print(\"For Multi-Linear Regression with All Terms:\")\n",
    "print(\"R2 Score (Training) = {:.4f}\".format(r2_score(y_train,results.predict(X))))\n",
    "print(\"R2 Score (Test) = {:.4f}\".format(r2_test_a))"
   ]
  },
  {
   "cell_type": "code",
   "execution_count": 150,
   "metadata": {
    "collapsed": true,
    "hide": true
   },
   "outputs": [],
   "source": [
    "figure1 = pd.DataFrame({\"p value\": results.pvalues, \"coef\": results.params})\n",
    "figure1 = figure1.drop(figure1.index[[0]])\n",
    "figure1 = figure1[figure1['p value'] < 0.05]\n",
    "figure1_10 = figure1.sort_values(by='p value', ascending=True).head(10)"
   ]
  },
  {
   "cell_type": "code",
   "execution_count": 151,
   "metadata": {
    "collapsed": true,
    "hide": true
   },
   "outputs": [],
   "source": [
    "color_bars = [\"#000000\", \"#062d14\",\"#0c5a27\",\"#12873b\",\"#18b44f\",\"#1ed760\",\"4be782\",\n",
    "              \"#78eda1\",\"#a5f3c0\",\"#d2f9e0\",\"#ffffff\"]"
   ]
  },
  {
   "cell_type": "code",
   "execution_count": 154,
   "metadata": {
    "hide": true
   },
   "outputs": [
    {
     "data": {
      "text/html": [
       "<iframe id=\"igraph\" scrolling=\"no\" style=\"border:none;\" seamless=\"seamless\" src=\"https://plot.ly/~tingnoble/7.embed\" height=\"525px\" width=\"100%\"></iframe>"
      ],
      "text/plain": [
       "<plotly.tools.PlotlyDisplay object>"
      ]
     },
     "execution_count": 154,
     "metadata": {},
     "output_type": "execute_result"
    }
   ],
   "source": [
    "trace1 = go.Bar(\n",
    "    x=figure1_10.index,\n",
    "    y=figure1_10['coef'],\n",
    "    marker=dict(\n",
    "        color=color_bars,\n",
    "        line=dict(\n",
    "            color='#ffffff',\n",
    "            width=1.5,\n",
    "        )\n",
    "    ),\n",
    "    opacity=0.6\n",
    ")\n",
    "\n",
    "data = [trace1]\n",
    "layout = go.Layout(\n",
    "    title='Multi-Linear Regression (All Predictors) Top 10 Significant Predictors',\n",
    "    xaxis=dict(\n",
    "        title='Predictor',\n",
    "    ),\n",
    "    yaxis=dict(\n",
    "        title='Coefficient',\n",
    "        )\n",
    ")\n",
    "\n",
    "fig = go.Figure(data=data, layout=layout)\n",
    "py.iplot(fig, filename='Multi-Linear Regression (All Predictors) Top 10 Significant Predictors')"
   ]
  },
  {
   "cell_type": "markdown",
   "metadata": {},
   "source": [
    "###  Part (b) Multi-Linear Regression Model with Top Artists Predictors"
   ]
  },
  {
   "cell_type": "markdown",
   "metadata": {},
   "source": [
    "In our prelimnary EDA anlaysis, we believe that top artists would be a good predictor for the success of a playlist. Therefore, here, we fit two models in part (b) and (c) that only include predictors related artists. In part (b), we use the dummy variables of top 30 artists as predictors. As a note, for part (b), top artist are those who appear most often in playlists with 350,000+ followers. With more than 350,000 followers, a playlist will beat 80% of playlists in terms of followers. \n",
    "\n",
    "Our regression generates a test $R^2$ score of 0.0174, which is much better than -2.7797 in part (a). Therefore, there is good reason to consider these predictors in future model estimation.\n",
    "\n",
    "From the regression summary table, we obtain the list of significant top 30 artist predictors:\n",
    "* 'Galantis', 'Post Malone', 'Yo Gotti', 'Ellie Goulding'"
   ]
  },
  {
   "cell_type": "code",
   "execution_count": 28,
   "metadata": {
    "collapsed": true,
    "hide": true
   },
   "outputs": [],
   "source": [
    "top_30_artist_col=['Lil Wayne', 'Van Morrison', 'Galantis',\n",
    "       'Wiz Khalifa', 'Rihanna', 'Post Malone', 'Axwell /\\ Ingrosso',\n",
    "       'Young Thug', 'JAY Z', 'A$AP Rocky', 'Yo Gotti', 'Chance The Rapper',\n",
    "       'Led Zeppelin', 'Otis Redding', '21 Savage', 'Deorro', 'Elton John',\n",
    "       'SZA', 'Ty Dolla $ign', 'Ryan Adams', 'Birdy', 'Miguel', 'Niall Horan',\n",
    "       'Ellie Goulding', 'Commodores', 'Radiohead', 'SYML', 'First Aid Kit',\n",
    "       'Lord Huron']\n",
    "\n",
    "x_train_art=x_train[top_30_artist_col]\n",
    "x_test_art=x_test[top_30_artist_col]\n",
    "\n",
    "X1=sm.add_constant(x_train_art)\n",
    "X2=sm.add_constant(x_test_art)\n",
    "model2=sm.OLS(y_train,X1)\n",
    "results2=model2.fit()"
   ]
  },
  {
   "cell_type": "code",
   "execution_count": 29,
   "metadata": {
    "hide": true
   },
   "outputs": [
    {
     "name": "stdout",
     "output_type": "stream",
     "text": [
      "For Multi-Linear Regression with Top 30 Artist Predictors:\n",
      "R2 Score (Training) = 0.0617\n",
      "R2 Score (Test) = 0.0174\n"
     ]
    }
   ],
   "source": [
    "print(\"For Multi-Linear Regression with Top 30 Artist Predictors:\")\n",
    "print(\"R2 Score (Training) = {:.4f}\".format(r2_score(y_train,results2.predict(X1))))\n",
    "print(\"R2 Score (Test) = {:.4f}\".format(r2_score(y_test,results2.predict(X2))))"
   ]
  },
  {
   "cell_type": "code",
   "execution_count": 86,
   "metadata": {
    "collapsed": true,
    "hide": true
   },
   "outputs": [],
   "source": [
    "figure2 = pd.DataFrame({\"p value\": results2.pvalues, \"coef\": results2.params})\n",
    "figure2 = figure2.drop(figure2.index[[0]])\n",
    "figure2 = figure2[figure2['p value'] < 0.05]\n",
    "figure2_10 = figure2.sort_values(by='p value', ascending=True).head(10)"
   ]
  },
  {
   "cell_type": "code",
   "execution_count": 155,
   "metadata": {
    "hide": true
   },
   "outputs": [
    {
     "data": {
      "text/html": [
       "<iframe id=\"igraph\" scrolling=\"no\" style=\"border:none;\" seamless=\"seamless\" src=\"https://plot.ly/~tingnoble/9.embed\" height=\"525px\" width=\"100%\"></iframe>"
      ],
      "text/plain": [
       "<plotly.tools.PlotlyDisplay object>"
      ]
     },
     "execution_count": 155,
     "metadata": {},
     "output_type": "execute_result"
    }
   ],
   "source": [
    "trace0 = go.Bar(\n",
    "    x=figure2_10.index,\n",
    "    y=figure2_10['coef'],\n",
    "    marker=dict(\n",
    "        color=color_bars,\n",
    "        line=dict(\n",
    "            color='#ffffff',\n",
    "            width=1.5,\n",
    "        )\n",
    "    ),\n",
    "    opacity=0.6\n",
    ")\n",
    "\n",
    "data = [trace0]\n",
    "layout = go.Layout(\n",
    "    title='Multi-Linear Regression (Top 30 Artist Predictors) Significant Predictors',\n",
    "    xaxis=dict(\n",
    "        title='Predictor',\n",
    "    ),\n",
    "    yaxis=dict(\n",
    "        title='Coefficient',\n",
    "        )\n",
    ")\n",
    "\n",
    "fig = go.Figure(data=data, layout=layout)\n",
    "py.iplot(fig, filename='Multi-Linear Regression (Top 30 Artist Predictors) Significant Predictors')"
   ]
  },
  {
   "cell_type": "markdown",
   "metadata": {},
   "source": [
    "###  Part (c) Multi-Linear Regression Model with Top Artists Counts Predictors"
   ]
  },
  {
   "cell_type": "markdown",
   "metadata": {},
   "source": [
    "We continue to evaluate artist predictors in part (c). Here, top artists are defined differently from part (b).We first sum up the total number of followers for playlists that include an artist. Then, we rank the artists basing on the aggregated playlist followers. For part (c), the predictors are the number of top 10/10-20/20-30/30-40/40-50 artists that a playlist has.\n",
    "\n",
    "From the regression result, we observe that $R^2$ training result is 0.0126 and the test result is -0.0312. The significant predictors includes only \"top_30_40\". It seems that part (c) $R^2$ test score are lower than that in part (b), indicating that part (b) artist predictors has more power in predicting playlist followers than predictors in part (c)."
   ]
  },
  {
   "cell_type": "code",
   "execution_count": 90,
   "metadata": {
    "collapsed": true,
    "hide": true
   },
   "outputs": [],
   "source": [
    "top_artist_count_columns = [\"top_0_10\", \"top_10_20\", \"top_20_30\", \"top_30_40\", \"top_40_50\"]\n",
    "x_train_art_count=x_train[top_artist_count_columns]\n",
    "x_test_art_count=x_test[top_artist_count_columns]\n",
    "\n",
    "X3=sm.add_constant(x_train_art_count)\n",
    "X4=sm.add_constant(x_test_art_count)\n",
    "model3=sm.OLS(y_train,X3)\n",
    "results3=model3.fit()"
   ]
  },
  {
   "cell_type": "code",
   "execution_count": 92,
   "metadata": {
    "hide": true
   },
   "outputs": [
    {
     "name": "stdout",
     "output_type": "stream",
     "text": [
      "For Multi-Linear Regression with Top Artist Count Predictors:\n",
      "R2 Score (Training) = 0.0126\n",
      "R2 Score (Test) = -0.0312\n"
     ]
    },
    {
     "data": {
      "text/html": [
       "<table class=\"simpletable\">\n",
       "<caption>OLS Regression Results</caption>\n",
       "<tr>\n",
       "  <th>Dep. Variable:</th>        <td>Followers</td>    <th>  R-squared:         </th> <td>   0.013</td>\n",
       "</tr>\n",
       "<tr>\n",
       "  <th>Model:</th>                   <td>OLS</td>       <th>  Adj. R-squared:    </th> <td>   0.009</td>\n",
       "</tr>\n",
       "<tr>\n",
       "  <th>Method:</th>             <td>Least Squares</td>  <th>  F-statistic:       </th> <td>   3.204</td>\n",
       "</tr>\n",
       "<tr>\n",
       "  <th>Date:</th>             <td>Thu, 07 Dec 2017</td> <th>  Prob (F-statistic):</th>  <td>0.00702</td>\n",
       "</tr>\n",
       "<tr>\n",
       "  <th>Time:</th>                 <td>14:37:36</td>     <th>  Log-Likelihood:    </th> <td> -3166.5</td>\n",
       "</tr>\n",
       "<tr>\n",
       "  <th>No. Observations:</th>      <td>  1257</td>      <th>  AIC:               </th> <td>   6345.</td>\n",
       "</tr>\n",
       "<tr>\n",
       "  <th>Df Residuals:</th>          <td>  1251</td>      <th>  BIC:               </th> <td>   6376.</td>\n",
       "</tr>\n",
       "<tr>\n",
       "  <th>Df Model:</th>              <td>     5</td>      <th>                     </th>     <td> </td>   \n",
       "</tr>\n",
       "<tr>\n",
       "  <th>Covariance Type:</th>      <td>nonrobust</td>    <th>                     </th>     <td> </td>   \n",
       "</tr>\n",
       "</table>\n",
       "<table class=\"simpletable\">\n",
       "<tr>\n",
       "      <td></td>         <th>coef</th>     <th>std err</th>      <th>t</th>      <th>P>|t|</th>  <th>[0.025</th>    <th>0.975]</th>  \n",
       "</tr>\n",
       "<tr>\n",
       "  <th>const</th>     <td>    9.6438</td> <td>    0.097</td> <td>   99.900</td> <td> 0.000</td> <td>    9.454</td> <td>    9.833</td>\n",
       "</tr>\n",
       "<tr>\n",
       "  <th>top_0_10</th>  <td>    0.1075</td> <td>    0.274</td> <td>    0.392</td> <td> 0.695</td> <td>   -0.431</td> <td>    0.646</td>\n",
       "</tr>\n",
       "<tr>\n",
       "  <th>top_10_20</th> <td>    0.2819</td> <td>    0.358</td> <td>    0.788</td> <td> 0.431</td> <td>   -0.420</td> <td>    0.984</td>\n",
       "</tr>\n",
       "<tr>\n",
       "  <th>top_20_30</th> <td>   -0.1965</td> <td>    0.280</td> <td>   -0.702</td> <td> 0.483</td> <td>   -0.745</td> <td>    0.352</td>\n",
       "</tr>\n",
       "<tr>\n",
       "  <th>top_30_40</th> <td>    0.7624</td> <td>    0.273</td> <td>    2.789</td> <td> 0.005</td> <td>    0.226</td> <td>    1.299</td>\n",
       "</tr>\n",
       "<tr>\n",
       "  <th>top_40_50</th> <td>    0.7486</td> <td>    0.321</td> <td>    2.330</td> <td> 0.020</td> <td>    0.118</td> <td>    1.379</td>\n",
       "</tr>\n",
       "</table>\n",
       "<table class=\"simpletable\">\n",
       "<tr>\n",
       "  <th>Omnibus:</th>       <td>79.718</td> <th>  Durbin-Watson:     </th> <td>   1.945</td>\n",
       "</tr>\n",
       "<tr>\n",
       "  <th>Prob(Omnibus):</th> <td> 0.000</td> <th>  Jarque-Bera (JB):  </th> <td>  83.686</td>\n",
       "</tr>\n",
       "<tr>\n",
       "  <th>Skew:</th>          <td>-0.595</td> <th>  Prob(JB):          </th> <td>6.73e-19</td>\n",
       "</tr>\n",
       "<tr>\n",
       "  <th>Kurtosis:</th>      <td> 2.574</td> <th>  Cond. No.          </th> <td>    4.32</td>\n",
       "</tr>\n",
       "</table>"
      ],
      "text/plain": [
       "<class 'statsmodels.iolib.summary.Summary'>\n",
       "\"\"\"\n",
       "                            OLS Regression Results                            \n",
       "==============================================================================\n",
       "Dep. Variable:              Followers   R-squared:                       0.013\n",
       "Model:                            OLS   Adj. R-squared:                  0.009\n",
       "Method:                 Least Squares   F-statistic:                     3.204\n",
       "Date:                Thu, 07 Dec 2017   Prob (F-statistic):            0.00702\n",
       "Time:                        14:37:36   Log-Likelihood:                -3166.5\n",
       "No. Observations:                1257   AIC:                             6345.\n",
       "Df Residuals:                    1251   BIC:                             6376.\n",
       "Df Model:                           5                                         \n",
       "Covariance Type:            nonrobust                                         \n",
       "==============================================================================\n",
       "                 coef    std err          t      P>|t|      [0.025      0.975]\n",
       "------------------------------------------------------------------------------\n",
       "const          9.6438      0.097     99.900      0.000       9.454       9.833\n",
       "top_0_10       0.1075      0.274      0.392      0.695      -0.431       0.646\n",
       "top_10_20      0.2819      0.358      0.788      0.431      -0.420       0.984\n",
       "top_20_30     -0.1965      0.280     -0.702      0.483      -0.745       0.352\n",
       "top_30_40      0.7624      0.273      2.789      0.005       0.226       1.299\n",
       "top_40_50      0.7486      0.321      2.330      0.020       0.118       1.379\n",
       "==============================================================================\n",
       "Omnibus:                       79.718   Durbin-Watson:                   1.945\n",
       "Prob(Omnibus):                  0.000   Jarque-Bera (JB):               83.686\n",
       "Skew:                          -0.595   Prob(JB):                     6.73e-19\n",
       "Kurtosis:                       2.574   Cond. No.                         4.32\n",
       "==============================================================================\n",
       "\n",
       "Warnings:\n",
       "[1] Standard Errors assume that the covariance matrix of the errors is correctly specified.\n",
       "\"\"\""
      ]
     },
     "execution_count": 92,
     "metadata": {},
     "output_type": "execute_result"
    }
   ],
   "source": [
    "print(\"For Multi-Linear Regression with Top Artist Count Predictors:\")\n",
    "print(\"R2 Score (Training) = {:.4f}\".format(r2_score(y_train,results3.predict(X3))))\n",
    "print(\"R2 Score (Test) = {:.4f}\".format(r2_score(y_test,results3.predict(X4))))\n",
    "results3.summary()"
   ]
  },
  {
   "cell_type": "markdown",
   "metadata": {},
   "source": [
    "###  Part (d) Multi-Linear Regression Model with Genre Predictors"
   ]
  },
  {
   "cell_type": "markdown",
   "metadata": {},
   "source": [
    "In our prelimnary EDA anlaysis, we also believe that genres would be a good predictor for playlist followers. Therefore, we fit a regression model with only genre predictors. Here，each predictors is a categorical variable indicating whether the playlist belongs to a specified genre.\n",
    "\n",
    "When we use all of the genre predictors, we see that training $R^2$ score is 0.5975 and test $R^2$ score is -3.7847. This again is the result of overfitting since we have 865 genre columns. Therefore, we fit another regression model with only significant genre predictors from the full genre regression model. This time, we have a training $R^2$ score of 0.0923 and test $R^2$ score of 0.0071. The number of significant genre predictors is 54.\n",
    "\n",
    "Therefore, a subset of genre predictors could still be important and should be considered for building future models."
   ]
  },
  {
   "cell_type": "code",
   "execution_count": 107,
   "metadata": {
    "collapsed": true,
    "hide": true
   },
   "outputs": [],
   "source": [
    "genre_columns = []\n",
    "\n",
    "for i in data.columns:\n",
    "    if (i[0].isalpha()==False):\n",
    "        genre_columns.append(i)"
   ]
  },
  {
   "cell_type": "code",
   "execution_count": 108,
   "metadata": {
    "collapsed": true,
    "hide": true
   },
   "outputs": [],
   "source": [
    "x_train_genre=x_train[genre_columns]\n",
    "x_test_genre=x_test[genre_columns]\n",
    "\n",
    "X5=sm.add_constant(x_train_genre)\n",
    "X6=sm.add_constant(x_test_genre)\n",
    "model4=sm.OLS(y_train,X5)\n",
    "results4=model4.fit()"
   ]
  },
  {
   "cell_type": "code",
   "execution_count": 112,
   "metadata": {
    "hide": true
   },
   "outputs": [
    {
     "name": "stdout",
     "output_type": "stream",
     "text": [
      "For Multi-Linear Regression with All Genre Predictors:\n",
      "R2 Score (Training) = 0.5975\n",
      "R2 Score (Test) = -3.7847\n",
      "Number of Genre Predictors = 865\n"
     ]
    }
   ],
   "source": [
    "print(\"For Multi-Linear Regression with All Genre Predictors:\")\n",
    "print(\"R2 Score (Training) = {:.4f}\".format(r2_score(y_train,results4.predict(X5))))\n",
    "print(\"R2 Score (Test) = {:.4f}\".format(r2_score(y_test,results4.predict(X6))))\n",
    "print(\"Number of Genre Predictors = {}\".format(len(genre_columns)))"
   ]
  },
  {
   "cell_type": "code",
   "execution_count": 114,
   "metadata": {
    "collapsed": true,
    "hide": true
   },
   "outputs": [],
   "source": [
    "figure4 = pd.DataFrame({\"p value\": results4.pvalues, \"coef\": results4.params})\n",
    "figure4 = figure4.drop(figure4.index[[0]])\n",
    "figure4 = figure4[figure4['p value'] < 0.05]\n",
    "figure4_10 = figure4.sort_values(by='p value', ascending=True).head(10)"
   ]
  },
  {
   "cell_type": "code",
   "execution_count": 156,
   "metadata": {
    "hide": true
   },
   "outputs": [
    {
     "data": {
      "text/html": [
       "<iframe id=\"igraph\" scrolling=\"no\" style=\"border:none;\" seamless=\"seamless\" src=\"https://plot.ly/~tingnoble/11.embed\" height=\"525px\" width=\"100%\"></iframe>"
      ],
      "text/plain": [
       "<plotly.tools.PlotlyDisplay object>"
      ]
     },
     "execution_count": 156,
     "metadata": {},
     "output_type": "execute_result"
    }
   ],
   "source": [
    "trace0 = go.Bar(\n",
    "    x=figure4_10.index,\n",
    "    y=figure4_10['coef'],\n",
    "    marker=dict(\n",
    "        color=color_bars,\n",
    "        line=dict(\n",
    "            color='#ffffff',\n",
    "            width=1.5,\n",
    "        )\n",
    "    ),\n",
    "    opacity=0.6\n",
    ")\n",
    "\n",
    "data = [trace0]\n",
    "layout = go.Layout(\n",
    "    title='Multi-Linear Regression (Genre Predictors) Top 10 Significant Predictors',\n",
    "    xaxis=dict(\n",
    "        title='Predictor',\n",
    "    ),\n",
    "    yaxis=dict(\n",
    "        title='Coefficient',\n",
    "        )\n",
    ")\n",
    "\n",
    "fig = go.Figure(data=data, layout=layout)\n",
    "py.iplot(fig, filename='Multi-Linear Regression (Genre Predictors) Top 10 Significant Predictors')"
   ]
  },
  {
   "cell_type": "code",
   "execution_count": 116,
   "metadata": {
    "collapsed": true,
    "hide": true
   },
   "outputs": [],
   "source": [
    "sig_genre=results4.pvalues[results4.pvalues < 0.05].index[1:55]\n",
    "x_train_genre=x_train[sig_genre]\n",
    "x_test_genre=x_test[sig_genre]\n",
    "\n",
    "X9=sm.add_constant(x_train_genre)\n",
    "X10=sm.add_constant(x_test_genre)\n",
    "model9=sm.OLS(y_train,X9)\n",
    "results9=model9.fit()"
   ]
  },
  {
   "cell_type": "code",
   "execution_count": 117,
   "metadata": {
    "hide": true
   },
   "outputs": [
    {
     "name": "stdout",
     "output_type": "stream",
     "text": [
      "For Multi-Linear Regression with Significant Genre Predictors:\n",
      "R2 Score (Training) = 0.0923\n",
      "R2 Score (Test) = 0.0071\n",
      "Number of Genre Predictors = 54\n"
     ]
    }
   ],
   "source": [
    "print(\"For Multi-Linear Regression with Significant Genre Predictors:\")\n",
    "print(\"R2 Score (Training) = {:.4f}\".format(r2_score(y_train,results9.predict(X9))))\n",
    "print(\"R2 Score (Test) = {:.4f}\".format(r2_score(y_test,results9.predict(X10))))\n",
    "print(\"Number of Genre Predictors = {}\".format(len(sig_genre)))"
   ]
  },
  {
   "cell_type": "markdown",
   "metadata": {},
   "source": [
    "### Part (e) Multi-Linear Regression with Signifcant Predictors from part (a)"
   ]
  },
  {
   "cell_type": "markdown",
   "metadata": {},
   "source": [
    "Previously in part (a), our model includes all predictors and thus tend towards overfitting. In part (e), we fit a model with siginificant predictors from model in part (a) to reduce overfitting. We have a total of 49 predictors (cut down from 949 originally).\n",
    "\n",
    "Test $R^2$ score goes up to 0.0826, which is the best $R^2$ score we have achieved so far. This indicates that our previous model indeed suffers from overfitting."
   ]
  },
  {
   "cell_type": "code",
   "execution_count": 94,
   "metadata": {
    "collapsed": true,
    "hide": true
   },
   "outputs": [],
   "source": [
    "#fit a multilinear regression model with significant predictors\n",
    "sig_preds=results.pvalues[results.pvalues < 0.05].index\n",
    "x_train2 = x_train[sig_preds]\n",
    "x_test2 = x_test[sig_preds]\n",
    "\n",
    "X7=sm.add_constant(x_train2)\n",
    "X8=sm.add_constant(x_test2)\n",
    "model5=sm.OLS(y_train,X7)\n",
    "results5=model5.fit()\n",
    "r2_test_e=r2_score(y_test,results5.predict(X8))"
   ]
  },
  {
   "cell_type": "code",
   "execution_count": 118,
   "metadata": {
    "hide": true
   },
   "outputs": [
    {
     "name": "stdout",
     "output_type": "stream",
     "text": [
      "For Multi-Linear Regression with Significant Predictors from part (a):\n",
      "R2 Score (Training) = 0.2229\n",
      "R2 Score (Test) = 0.0826\n"
     ]
    }
   ],
   "source": [
    "print(\"For Multi-Linear Regression with Significant Predictors from part (a):\")\n",
    "print(\"R2 Score (Training) = {:.4f}\".format(r2_score(y_train, results5.predict(X7))))\n",
    "print(\"R2 Score (Test) = {:.4f}\".format(r2_test_e))"
   ]
  },
  {
   "cell_type": "markdown",
   "metadata": {},
   "source": [
    "### Part (f) Bootstrapping for 10% Predictors"
   ]
  },
  {
   "cell_type": "markdown",
   "metadata": {},
   "source": [
    "From previous parts, we observe that a smaller subset of original predictors may perform better in terms of test set prediction. Therefore, in part (f), we randomly choose 10% of predictors and fit a regression model. We do 500 iterations and record the corresponding $R^2$ test score and the associated predictors.\n",
    "\n",
    "We achieve a $R^2$ test score of 0.2246. However,since predictors are being randomly chosen, this result could come from chance alone and may not be very robust."
   ]
  },
  {
   "cell_type": "code",
   "execution_count": 130,
   "metadata": {
    "collapsed": true,
    "hide": true
   },
   "outputs": [],
   "source": [
    "##bootstrapping for10% predictors\n",
    "r2_test=[]\n",
    "pred=[]\n",
    "for i in range(500):\n",
    "    train_col=[]\n",
    "    while len(train_col)==0:\n",
    "        for ele in x_train.columns:\n",
    "            u=np.random.uniform(0,1)\n",
    "            if u>0.9:\n",
    "                if ele!='Followers':\n",
    "                    train_col.append(ele)\n",
    "    pred.append(train_col)\n",
    "    x_train1 = x_train[train_col]\n",
    "    x_test1 = x_test[train_col]\n",
    "    multi2 =LinearRegression(fit_intercept=True)# no need to add constant when doing it this way\n",
    "    multi2.fit(x_train1, y_train)\n",
    "    r2_test.append(multi2.score(x_test1, y_test))"
   ]
  },
  {
   "cell_type": "code",
   "execution_count": 131,
   "metadata": {
    "collapsed": true,
    "hide": true
   },
   "outputs": [],
   "source": [
    "def findLargest(r2):\n",
    "    largest=r2[0]\n",
    "    count=0\n",
    "    for i in range(len(r2)):\n",
    "        if r2[i]>largest:\n",
    "            largest=r2[i]\n",
    "            count=i\n",
    "    return count"
   ]
  },
  {
   "cell_type": "code",
   "execution_count": 157,
   "metadata": {
    "hide": true
   },
   "outputs": [
    {
     "name": "stdout",
     "output_type": "stream",
     "text": [
      "After Bootstrapping for 10% of predictors, Best R2 Score (Test) = 0.2246\n",
      "The Associated Predictors are :['acousticness_std', 'dance_mean', 'key_std', 'mode_mean', 'valence_mean', 'popularity_mean', 'popularity_std', 'top_30_40', \" 'alternative roots rock'\", \" 'art rock'\", \" 'austindie'\", \" 'boston rock'\", \" 'canadian pop'\", \" 'catstep'\", \" 'ccm'\", \" 'celtic rock'\", \" 'chillhop'\", \" 'classic funk rock'\", \" 'cool jazz'\", \" 'deep talent show'\", \" 'deep tech house'\", \" 'detroit techno'\", \" 'escape room'\", \" 'filmi'\", \" 'filter house'\", \" 'garage rock'\", \" 'german indie'\", \" 'glitch'\", \" 'indie poptimism'\", \" 'jazz'\", \" 'jump blues'\", \" 'memphis blues'\", \" 'neo soul'\", \" 'new romantic'\", \" 'noise punk'\", \" 'ok indie'\", \" 'power pop'\", \" 'progressive house'\", \" 'rockabilly'\", \" 'soundtrack'\", \" 'symphonic rock'\", \" 'teen pop'\", \" 'thrash core'\", \" 'urban contemporary'\", \" 'vegan straight edge'\", \" 'worship'\", \"'alternative americana'\", \"'art rock'\", \"'aussietronica'\", \"'baroque'\", \"'bay area indie'\", \"'bluegrass'\", \"'brass band'\", \"'britpop'\", \"'bubblegum dance'\", \"'chamber pop'\", \"'compositional ambient'\", \"'contemporary jazz'\", \"'dance pop'\", \"'deep big room'\", \"'deep contemporary country'\", \"'deep euro house'\", \"'deep swedish indie pop'\", \"'djent'\", \"'freak folk'\", \"'halloween'\", \"'indie garage rock'\", \"'indie pop'\", \"'indie poptimism'\", \"'japanese city pop'\", \"'lift kit'\", \"'lowercase'\", \"'melodic metalcore'\", \"'post-teen pop'\", \"'uk drill'\", \"'underground hip hop'\", \"'vancouver indie'\", \"'vapor soul'\", 'Yo Gotti', 'Chance The Rapper', 'Str_2000s', 'Str_1980s', 'Str_1960s']\n"
     ]
    }
   ],
   "source": [
    "print(\"After Bootstrapping for 10% of predictors, Best R2 Score (Test) = {:.4f}\".format(r2_test[findLargest(r2_test)]))\n",
    "print('The Associated Predictors are :{}'.format(pred[findLargest(r2_test)]))"
   ]
  },
  {
   "cell_type": "markdown",
   "metadata": {},
   "source": [
    "### Part (g) Principle Component Analysis"
   ]
  },
  {
   "cell_type": "markdown",
   "metadata": {},
   "source": [
    "Principle Component Analysis (PCA) is another way to reduce the number of predictors. Each component is a linear combination of all 949 orginal predictors. The components are ordered in such a way so that the amount of captured observed variance descreases. In part (g), linear regression is performed on the principal components of the PCA transformation. We attempt different numbers of PCA components from 1 to 100 and choose the optimal number of PCA components according to test $R^2$ score. \n",
    "\n",
    "We achieve the best $R^2$ test score of 0.1307 with 30 PCA components. Although we gain a higher test $R^2$ score and also have less predictors, we lose interpretability. We cannot pinpoint how a change in one predictor will change the response varibable because each component is a linear combination of all original columns."
   ]
  },
  {
   "cell_type": "code",
   "execution_count": 133,
   "metadata": {
    "collapsed": true,
    "hide": true
   },
   "outputs": [],
   "source": [
    "from sklearn.decomposition import PCA\n",
    "r2_test_pca=[]\n",
    "for i in range(1,100):\n",
    "    pca = PCA(n_components=i)\n",
    "    pca.fit(x_train)\n",
    "    x_train_pca = pca.transform(x_train)\n",
    "    x_test_pca = pca.transform(x_test)\n",
    "    pca_regression_model = LinearRegression(fit_intercept=True)\n",
    "    pca_regression_model.fit(x_train_pca, y_train)\n",
    "    r2_test_pca.append(pca_regression_model.score(x_test_pca, y_test))"
   ]
  },
  {
   "cell_type": "code",
   "execution_count": 146,
   "metadata": {
    "hide": true
   },
   "outputs": [
    {
     "name": "stdout",
     "output_type": "stream",
     "text": [
      "After PCA, Best R2 Score (Test) = 0.1307\n",
      "The Optimal Number of Components = 30\n"
     ]
    },
    {
     "data": {
      "image/png": "[encoded data removed]",
      "text/plain": [
       "<matplotlib.figure.Figure at 0x11b6de9e8>"
      ]
     },
     "metadata": {},
     "output_type": "display_data"
    }
   ],
   "source": [
    "print(\"After PCA, Best R2 Score (Test) = {:.4f}\".format(r2_test_pca[findLargest(r2_test_pca)]))\n",
    "print(\"The Optimal Number of Components = {}\".format(findLargest(r2_test_pca)+1))\n",
    "green_col = np.divide([30,215,96],255)\n",
    "n=[ele for ele in range(1,100)]\n",
    "fig, ax = plt.subplots(1, 1, figsize = (10, 8))\n",
    "ax.scatter(n,r2_test_pca, color=green_col, alpha=0.8)\n",
    "ax.set_title(\"PCA test performace\")\n",
    "ax.set_xlabel(\"Number of PCA components\")\n",
    "ax.set_ylabel(\"R2 Score (Test)\");"
   ]
  },
  {
   "cell_type": "markdown",
   "metadata": {},
   "source": [
    "### Part (h) Lasso and Ridge"
   ]
  },
  {
   "cell_type": "markdown",
   "metadata": {},
   "source": [
    "Lasso and Ridge regularizations are also methods to penalize overly complex models. To penalize coefficients that have large magnitudes, Lasso and ridge include the magnitude of the cofficients in the loss functions. Specifically, Lasso minimizes the following function:\n",
    "\n",
    "$$\\sum_{i=1}^n (Y_i-\\sum_{j=1}^p X_{ij}\\beta_j)^2 + \\lambda \\sum_{j=1}^p |\\beta_j|$$\n",
    "\n",
    "Ridge minimizes the following function:\n",
    "\n",
    "$$\\sum_{i=1}^n (Y_i-\\sum_{j=1}^p X_{ij}\\beta_j)^2 + \\lambda \\sum_{j=1}^p (\\beta_j)^2$$\n",
    "\n",
    "In part (h), we fit Ridge and Lasso with cross validation and with lamda ranging from 1e^-5 to 10^5."
   ]
  },
  {
   "cell_type": "markdown",
   "metadata": {},
   "source": [
    "Lasso Regularization:"
   ]
  },
  {
   "cell_type": "code",
   "execution_count": 142,
   "metadata": {
    "hide": true
   },
   "outputs": [
    {
     "data": {
      "text/plain": [
       "LassoCV(alphas=[1e-05, 0.0001, 0.001, 0.01, 0.1, 1, 10, 100, 1000, 10000],\n",
       "    copy_X=True, cv=None, eps=0.001, fit_intercept=True, max_iter=1000,\n",
       "    n_alphas=100, n_jobs=1, normalize=False, positive=False,\n",
       "    precompute='auto', random_state=None, selection='cyclic', tol=0.0001,\n",
       "    verbose=False)"
      ]
     },
     "execution_count": 142,
     "metadata": {},
     "output_type": "execute_result"
    }
   ],
   "source": [
    "#lasso\n",
    "lambda_list=[pow(10,i) for i in range(-5,5)]\n",
    "lasso_regression = LassoCV(alphas=lambda_list, fit_intercept=True)\n",
    "lasso_regression.fit(x_train, y_train)"
   ]
  },
  {
   "cell_type": "markdown",
   "metadata": {},
   "source": [
    "Ridge Regularization:"
   ]
  },
  {
   "cell_type": "code",
   "execution_count": 143,
   "metadata": {
    "hide": true
   },
   "outputs": [
    {
     "data": {
      "text/plain": [
       "RidgeCV(alphas=[1e-05, 0.0001, 0.001, 0.01, 0.1, 1, 10, 100, 1000, 10000],\n",
       "    cv=10, fit_intercept=True, gcv_mode=None, normalize=True, scoring=None,\n",
       "    store_cv_values=False)"
      ]
     },
     "execution_count": 143,
     "metadata": {},
     "output_type": "execute_result"
    }
   ],
   "source": [
    "#ridge\n",
    "ridge_regression = RidgeCV(cv=10,alphas=lambda_list, fit_intercept=True, normalize=True)\n",
    "ridge_regression.fit(x_train, y_train)"
   ]
  },
  {
   "cell_type": "code",
   "execution_count": 144,
   "metadata": {
    "hide": true
   },
   "outputs": [
    {
     "name": "stdout",
     "output_type": "stream",
     "text": [
      "With Lasso Regularization, R2 Score (Test) = 0.1094\n",
      "With Ridge Regularization, R2 Score (Test) = 0.0959\n"
     ]
    }
   ],
   "source": [
    "print(\"With Lasso Regularization, R2 Score (Test) = {:.4f}\".format(lasso_regression.score(x_test, y_test)))\n",
    "print(\"With Ridge Regularization, R2 Score (Test) = {:.4f}\".format(ridge_regression.score(x_test, y_test)))"
   ]
  },
  {
   "cell_type": "markdown",
   "metadata": {},
   "source": [
    "## Summary of Baseline Models"
   ]
  },
  {
   "cell_type": "markdown",
   "metadata": {},
   "source": [
    "Since we have 949 predictors in our original data, we encounter the problem of overfitting when constructing regression models. Therefore, for baseline models, we focus on selecting a subgroup of predictors that perform well in terms of $R^2$ test score. By using only the significant predictors from the full model, test $R^2$ score improves significantly (from -2.7 to 0.8). PCA gives us an $R^2$ score of 0.1307. Lasso gives up 0.1094 and Ridge gives us 0.0959. In addition, we should note that iteratively choosing 10% of predictors gives us the best baseline $R^2$ metric (0.2246). However, this model is not robust and tend toward overfitting since we do not methodologically choose the predictors. Still, we could use 0.2246 as a reference when evaluating our future models. In summary, the most robust and predictive baseline model is PCA with $R^2$ score of 0.1307. We may use 0.2246 as baseline $R^2$ test metric. "
   ]
  }
 ],
 "metadata": {
  "celltoolbar": "Edit Metadata",
  "kernelspec": {
   "display_name": "python36",
   "language": "python",
   "name": "python36"
  },
  "language_info": {
   "codemirror_mode": {
    "name": "ipython",
    "version": 3
   },
   "file_extension": ".py",
   "mimetype": "text/x-python",
   "name": "python",
   "nbconvert_exporter": "python",
   "pygments_lexer": "ipython3",
   "version": "3.6.2"
  }
 },
 "nbformat": 4,
 "nbformat_minor": 2
}
