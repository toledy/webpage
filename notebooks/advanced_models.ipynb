{
 "cells": [
  {
   "cell_type": "markdown",
   "metadata": {},
   "source": [
    "**Strategy of Fitting Advanced Models**<br/> \n",
    "\n",
    "1) **Data Pre-Processing**: After reading in the dataframe, we first split the training/test data by (90%-10% split) due to the small size of the dataset. Then,we standardize the numerical columns, and finally we check for any missing data and imput accordingly. \n",
    "\n",
    "2) **Model Score Function**: for the simplicity of model summary, we will create a model scoring function encompassing the following 6 metrics <br/> \n",
    "- $R^2$ (R Squared)\n",
    "- $EVar$ (Explained Variance Score)\n",
    "- $MAE$ (Mean Absolute Error)\n",
    "- $MSE$ (Mean Squared Error)\n",
    "- $MSLE$ (Mean Squared Log Error)\n",
    "- $MEAE$ (Median Absolute Error)\n",
    "\n",
    "3) **Model Fitting**: Here, we will fit 9 different advanced regressors on the training data and then predict using the test data\n",
    "- Gradient Boosting Regressor\n",
    "- Random Forest Regressor\n",
    "- Huber Regressor\n",
    "- Elastic Net\n",
    "- SVR\n",
    "- Neural Network\n",
    "- Adaboost Regressor\n",
    "- Bagging Regressor\n",
    "- Extra Trees Regressor\n",
    "\n",
    "4) **Model Summary**: After fitting all the models, we will present 3 summary tables based on training score, test score and qualitative metrics for the models\n",
    "\n",
    "5) **Cross Validation**: Based on the summary, we will further fine-tune the parameters on the best model using cross validation"
   ]
  },
  {
   "cell_type": "code",
   "execution_count": 1,
   "metadata": {
    "collapsed": true,
    "hide": true
   },
   "outputs": [],
   "source": [
    "# Import Basic Packages\n",
    "import numpy as np\n",
    "import pandas as pd\n",
    "import matplotlib.pyplot as plt\n",
    "import seaborn as sns\n",
    "from sklearn.preprocessing import Imputer\n",
    "from sklearn.preprocessing import PolynomialFeatures\n",
    "%matplotlib inline\n",
    "import warnings\n",
    "warnings.filterwarnings(\"ignore\")\n",
    "pd.set_option('display.max_columns', 200)\n",
    "from sklearn.preprocessing import MinMaxScaler,StandardScaler\n",
    "import sklearn.metrics as metrics\n",
    "from sklearn.model_selection import cross_val_score\n",
    "from sklearn import tree\n",
    "from operator import itemgetter\n",
    "from statistics import mode\n",
    "from sklearn.model_selection import learning_curve\n",
    "from sklearn.model_selection import KFold\n",
    "from itertools import product\n",
    "from collections import OrderedDict\n",
    "from IPython.display import display, Math, Latex\n",
    "import plotly\n",
    "import plotly.plotly as py\n",
    "import plotly.graph_objs as go\n",
    "plotly.__version__\n",
    "plotly.tools.set_credentials_file(username='tingnoble', api_key='4zOe1ds7duZr15VxaRBp')"
   ]
  },
  {
   "cell_type": "code",
   "execution_count": 2,
   "metadata": {
    "collapsed": true,
    "hide": true
   },
   "outputs": [],
   "source": [
    "# Import Regression Packages\n",
    "from sklearn.ensemble import GradientBoostingRegressor,AdaBoostRegressor,RandomForestRegressor,ExtraTreesRegressor,BaggingRegressor\n",
    "from sklearn.linear_model import LinearRegression,HuberRegressor,ElasticNet,LassoCV,RidgeCV,PassiveAggressiveRegressor,SGDRegressor\n",
    "from sklearn.svm import SVR\n",
    "from sklearn.neural_network import MLPRegressor\n",
    "from sklearn.grid_search import GridSearchCV\n",
    "from sklearn.metrics import explained_variance_score,mean_absolute_error,mean_squared_error,mean_squared_log_error,median_absolute_error"
   ]
  },
  {
   "cell_type": "code",
   "execution_count": 3,
   "metadata": {
    "collapsed": true,
    "hide": true
   },
   "outputs": [],
   "source": [
    "# Set color and fonts\n",
    "green_col = np.divide([30,215,96],255)\n",
    "black_col = [0,0,0]\n",
    "gray_col = np.divide([150,150,150],255)\n",
    "light_gray_col = np.divide([236,235,232],255)\n",
    "white_col =  np.divide([255,255,255],255)\n",
    "med_gray_col = np.divide([80,80,80],255)\n",
    "\n",
    "colors = [green_col, black_col, gray_col, light_gray_col, white_col]\n",
    "\n",
    "afont = {'fontname':'AppleGothic'}\n",
    "hfont = {'fontname':'Helvetica'}\n",
    "ifont = {'fontname': 'Impact'}\n",
    "arfont = {'fontname': 'Arial'}\n",
    "ofont = {'fontname': 'Osaka'}\n",
    "sfont = {'fontname': 'STHeiti'}\n",
    "hirafont = {'fontname': 'Hiragino Kaku Gothic ProN'}"
   ]
  },
  {
   "cell_type": "markdown",
   "metadata": {},
   "source": [
    "## Data Pre-Processing"
   ]
  },
  {
   "cell_type": "markdown",
   "metadata": {},
   "source": [
    "After reading in the dataframe, we will pre-process the data in four steps: \n",
    "- A training/test split is constructed where **90%** of the subsample is the **training** data and **10%** is the **test** data\n",
    "- Locate the missing columns in the dataframe and proceed with **median-based imputation**\n",
    "- After imputation, we **standardize** the numerical columns with training mean and standard deviation \n",
    "- Lastly, we **log-transform** the response variable 'No. of Followers' to make it more aligned to the Normality assumption"
   ]
  },
  {
   "cell_type": "code",
   "execution_count": 4,
   "metadata": {
    "collapsed": true,
    "hide": true
   },
   "outputs": [],
   "source": [
    "# Read-in the full data set\n",
    "data = pd.read_csv('data/Final_Dataframe.csv')"
   ]
  },
  {
   "cell_type": "code",
   "execution_count": 5,
   "metadata": {
    "collapsed": true,
    "hide": true
   },
   "outputs": [],
   "source": [
    "# Drop name column\n",
    "data = data.drop(\"Unnamed: 0\", axis=1)"
   ]
  },
  {
   "cell_type": "code",
   "execution_count": 6,
   "metadata": {
    "collapsed": true,
    "hide": true
   },
   "outputs": [],
   "source": [
    "### Section 1.1 Training/Test Data Split"
   ]
  },
  {
   "cell_type": "code",
   "execution_count": 7,
   "metadata": {
    "collapsed": true,
    "hide": true
   },
   "outputs": [],
   "source": [
    "# A train/test split is constructed where 90% of the subsample is \n",
    "# the train data set and 10% the test data set.\n",
    "\n",
    "# Set train and test sizes\n",
    "train_size = 0.9\n",
    "test_size = 1-train_size\n",
    "\n",
    "# Function to return random train and test sets\n",
    "def data_splitter(df, train, validate=False, seed=9001):\n",
    "    \n",
    "    if validate:\n",
    "        np.random.seed(seed)\n",
    "        perm = np.random.permutation(df.index)\n",
    "        m = len(df)\n",
    "        train_end = int(train * m)\n",
    "        validate_end = int(validate * m) + train_end\n",
    "        train = df.ix[perm[:train_end]]\n",
    "        validate = df.ix[perm[train_end:validate_end]]\n",
    "        test = df.ix[perm[validate_end:]]\n",
    "        return train, validate, test\n",
    "    else:\n",
    "        np.random.seed(seed)\n",
    "        perm = np.random.permutation(df.index)\n",
    "        m = len(df)\n",
    "        train_end = int(train * m)\n",
    "        train = df.ix[perm[:train_end]]\n",
    "        test = df.ix[perm[train_end:]]\n",
    "        return train, test"
   ]
  },
  {
   "cell_type": "code",
   "execution_count": 8,
   "metadata": {
    "collapsed": true,
    "hide": true
   },
   "outputs": [],
   "source": [
    "# Create train and test dataframes from subsample\n",
    "train_df, test_df = data_splitter(data, train_size)"
   ]
  },
  {
   "cell_type": "code",
   "execution_count": 9,
   "metadata": {
    "collapsed": true,
    "hide": true
   },
   "outputs": [],
   "source": [
    "### Section 1.2 Imputation"
   ]
  },
  {
   "cell_type": "code",
   "execution_count": 10,
   "metadata": {
    "collapsed": true,
    "hide": true
   },
   "outputs": [],
   "source": [
    "# Find Missing Columns\n",
    "null_vals = train_df.isnull().sum()\n",
    "missing_vals = null_vals[null_vals > 0].index.tolist() "
   ]
  },
  {
   "cell_type": "code",
   "execution_count": 11,
   "metadata": {
    "collapsed": true,
    "hide": true
   },
   "outputs": [],
   "source": [
    "#### Method 1: KNN-Based Imputation"
   ]
  },
  {
   "cell_type": "code",
   "execution_count": 12,
   "metadata": {
    "collapsed": true,
    "hide": true
   },
   "outputs": [],
   "source": [
    "# Import KNN Regression Imputer\n",
    "# from fancyimpute import KNN\n",
    "\n",
    "# Use 3 nearest rows to fill missing observations\n",
    "# train_df[missing_vals] = KNN(k=3).complete(train_df[missing_vals])\n",
    "\n",
    "# Use 3 nearest rows to fill missing observations\n",
    "# test_df[missing_vals] = KNN(k=3).complete(test_df[missing_vals])"
   ]
  },
  {
   "cell_type": "code",
   "execution_count": 13,
   "metadata": {
    "collapsed": true,
    "hide": true
   },
   "outputs": [],
   "source": [
    "#### Method 2: Median-Based Imputation"
   ]
  },
  {
   "cell_type": "code",
   "execution_count": 14,
   "metadata": {
    "collapsed": true,
    "hide": true
   },
   "outputs": [],
   "source": [
    "# Median imputation of missing values\n",
    "imp = Imputer(missing_values='NaN', strategy='median', axis=1)\n",
    "train_df = pd.DataFrame(imp.fit_transform(train_df), columns=data.columns)\n",
    "test_df = pd.DataFrame(imp.transform(test_df), columns=data.columns)"
   ]
  },
  {
   "cell_type": "code",
   "execution_count": 15,
   "metadata": {
    "collapsed": true,
    "hide": true
   },
   "outputs": [],
   "source": [
    "# Split training and test data\n",
    "train_df = train_df[train_df['Followers'] != 0]\n",
    "test_df = test_df[test_df['Followers'] != 0]"
   ]
  },
  {
   "cell_type": "code",
   "execution_count": 16,
   "metadata": {
    "collapsed": true,
    "hide": true
   },
   "outputs": [],
   "source": [
    "### Section 1.3 Standardization"
   ]
  },
  {
   "cell_type": "code",
   "execution_count": 17,
   "metadata": {
    "collapsed": true,
    "hide": true
   },
   "outputs": [],
   "source": [
    "# List all numerical columns to be used for classification\n",
    "numerical_columns = ['acousticness_mean','acousticness_std','dance_mean','dance_std',\\\n",
    "                    'energy_mean','energy_std','instrumentalness_mean','instrumentalness_std',\\\n",
    "                    'key_mean','key_std','liveness_mean','liveness_std','loudness_mean',\\\n",
    "                    'loudness_std','mode_mean','mode_std','speech_mean','speech_std',\\\n",
    "                    'tempo_mean','tempo_std','valence_mean','valence_std','followers_mean',\\\n",
    "                    'followers_std','popularity_mean','popularity_std',\\\n",
    "                    'house_acousticness_mean', 'hip hop_acousticness_std','pop_liveness_std', \\\n",
    "                     'dance_liveness_std', 'r&b_acousticness_std','rap_energy_std', 'rap_key_std',\\\n",
    "                     'acoustic_acousticness_std','acoustic_acousticness_mean', 'acoustic_energy_std',\\\n",
    "                     'acoustic_key_std']"
   ]
  },
  {
   "cell_type": "code",
   "execution_count": 18,
   "metadata": {
    "collapsed": true,
    "hide": true
   },
   "outputs": [],
   "source": [
    "# The numerical columns are standardized next\n",
    "mean = train_df[numerical_columns].mean()\n",
    "std = train_df[numerical_columns].std()\n",
    "\n",
    "train_df[numerical_columns] = (train_df[numerical_columns] - mean)/std\n",
    "test_df[numerical_columns] = (test_df[numerical_columns] - mean)/std"
   ]
  },
  {
   "cell_type": "code",
   "execution_count": 19,
   "metadata": {
    "collapsed": true,
    "hide": true
   },
   "outputs": [],
   "source": [
    "### Section 1.4 Transformation"
   ]
  },
  {
   "cell_type": "code",
   "execution_count": 20,
   "metadata": {
    "collapsed": true,
    "hide": true
   },
   "outputs": [],
   "source": [
    "# Final step: create y_train/x_train and y_test/x_test dataframes\n",
    "\n",
    "# Initialize the training data\n",
    "y_train = np.log(train_df['Followers'])\n",
    "x_train = train_df.drop('Followers', axis=1)\n",
    "\n",
    "# Initialize the testing data\n",
    "y_test = np.log(test_df['Followers'])\n",
    "x_test = test_df.drop('Followers', axis=1)"
   ]
  },
  {
   "cell_type": "markdown",
   "metadata": {},
   "source": [
    "## Model Score Function"
   ]
  },
  {
   "cell_type": "markdown",
   "metadata": {},
   "source": [
    "Here, we choose 6 metrics to evaluate our models: \n",
    "\n",
    "1) **$R^2$ - R Squared** = measures how well future datasets are likely to be predicted by the model. The score ranges from negative (because the model can be arbitrarily worse) to a best possible value of 1.0. Usually, the bigger the $R^2$, the better the model. Yet we do acknowledge the tedency of over-fitting with $R^2$ as with more predictors, it will only remain constant or increase for the training set.\n",
    "\n",
    "$$R^2(y, \\hat{y}) = 1 - \\frac{\\sum_{i=0}^{n-1}(y_i-\\hat{y}_i)^2)}{\\sum_{i=0}^{n-1}(y_i-\\bar{y})^2}, n = \\text{sample size}$$\n",
    "\n",
    "\n",
    "2) **$EVar$ - Explained Variance Score** = measures how good the model explains the variance in the response variable. The score ranges from a minimum of 0 to a maximum of 1.0. Similar to $R^2$, the higher the score, the better the model.\n",
    "\n",
    "$$EVar(y, \\hat{y}) = 1 - \\frac{\\text{Var}(y - \\hat{y})}{\\text{Var}(y)}$$\n",
    "\n",
    "\n",
    "3) **$MAE$ - Mean Absolute Error** = computes the expected value of the absolute error or the $l1$ loss function. For all the error functions, the smaller the error, the better the model.\n",
    "\n",
    "$$MAE(y, \\hat{y}) = \\frac{1}{n} \\sum_{i=0}^{n-1} |y_i-\\hat{y}_i| $$\n",
    "\n",
    "\n",
    "4) **$MSE$ - Mean Squared Error** = computes the expected value of the squared error\n",
    "\n",
    "$$MSE(y, \\hat{y}) = \\frac{1}{n} \\sum_{i=0}^{n-1} (y_i-\\hat{y}_i)^2 $$\n",
    "\n",
    "\n",
    "5) **$MSLE$ - Mean Squared Log Error** = computes the expected value of the squared logarithmic error. This would probably be the most appropriate metric to evalute our models as we log-transformed our response variable - number of followers for the playlist. \n",
    "\n",
    "$$MSLE(y, \\hat{y}) = \\frac{1}{n} \\sum_{i=0}^{n-1} [\\ln(1+y_i)-\\ln(1+\\hat{y}_i)]^2$$\n",
    "\n",
    "\n",
    "6) **$MEAE$ - Median Absolute Error** = computes the loss function by using the median of all absolute differences between the actual values and the predicted values. This metric is robust to outliers. \n",
    "\n",
    "$$MEAE(y, \\hat{y}) = \\text{median}(|y_1-\\hat{y}_1|, \\cdots, |y_n-\\hat{y}_n|)$$\n",
    "\n",
    "The key metrics given the parameters of our pre-processing are 1) $R^2$ and 5) $MSLE$, which will be the most important basis of comparison for the 9 advanced models."
   ]
  },
  {
   "cell_type": "code",
   "execution_count": 21,
   "metadata": {
    "collapsed": true
   },
   "outputs": [],
   "source": [
    "# Define score for regression model\n",
    "def expected_score1(model, x, y):\n",
    "    R2 = 0\n",
    "    EVar = 0\n",
    "    MAE = 0\n",
    "    MSE = 0\n",
    "    MSLE = 0\n",
    "    MEAE = 0\n",
    "\n",
    "    R2 += model.score(x, y)\n",
    "    EVar += explained_variance_score(y, model.predict(x))\n",
    "    MAE += mean_absolute_error(y, model.predict(x))\n",
    "    MSE += mean_squared_error(y, model.predict(x))\n",
    "    MSLE += mean_squared_log_error(y, model.predict(x))\n",
    "    MEAE += median_absolute_error(y, model.predict(x))\n",
    "\n",
    "    return pd.Series([R2 / 100., \n",
    "                      EVar / 100., \n",
    "                      MAE / 100., \n",
    "                      MSE / 100.,\n",
    "                      MSLE / 100.,\n",
    "                      MEAE / 100.],\n",
    "                      index = ['R2', 'EVar', 'MAE', 'MSE', 'MSLE', 'MEAE'])\n",
    "\n",
    "score = lambda model, x, y: pd.Series([model.score(x, y), \n",
    "                                       explained_variance_score(y, model.predict(x)),\n",
    "                                       mean_absolute_error(y, model.predict(x)),\n",
    "                                       mean_squared_error(y, model.predict(x)),\n",
    "                                       mean_squared_log_error(y, model.predict(x)),\n",
    "                                       median_absolute_error(y, model.predict(x))], \n",
    "                                      index=['R2', 'EVar', 'MAE', 'MSE', 'MSLE', 'MEAE'])"
   ]
  },
  {
   "cell_type": "markdown",
   "metadata": {},
   "source": [
    "## Model Fitting"
   ]
  },
  {
   "cell_type": "markdown",
   "metadata": {},
   "source": [
    "### Gradient Boosting Regressor"
   ]
  },
  {
   "cell_type": "markdown",
   "metadata": {},
   "source": [
    "According to Ben Gorman, if Linear Regression were a Toyota Camry, the Gradient Boosting Regressor would easily be a UH-60 Blackhawk Helicopter.\n",
    "\n",
    "Gradient Boosting Regressor is an ensemble machine learning procedure that fits new models consecutively to provide a more reliable estimate of the response variable. It constructs new base-learners to be correlated with the negative gradient of the loss function: 1) least square regression (ls), 2) least absolute deviation (lad), 3) huber (a combination of ls and lad), 4) quantile - which allows for quantile regression. The choice of the loss function allows for great flexibility in Gradient Boosting.The best error function is huber for our model based on trial and error / cross-validation. \n",
    "\n",
    "The principle behind this procedure is to adopt a slow learning approach where we fit a regression tree to the residuals from the model rather than the actual response variable. We then add this new regression tree to update the residuals. The base learner here could be small regression trees and we slowly improve them in areas that they do not perform well. \n",
    "\n",
    "The main tuning parameters are the number of splits in each tree ($d$) - which controls the complexity of boosting, the number of trees ($B$) - which can overfit if too big, and the shrinkage parameber ($\\lambda$).\n",
    "\n",
    "A simplified algorithm of boosting is described here (James, Witten, Hastie, and Tibshirani, 2013): \n",
    "\n",
    "**Step 1**. Set $\\hat{f}(x) = 0$ and $r_i = y_i$ for all $i$ in the training set\n",
    "\n",
    "**Step 2**. For $b = 1, 2, \\cdots, B$, repeat the following steps: \n",
    "\n",
    "(a) Fit a regression tree $\\hat{f}_b$ with $d$ splits to the training data $(X, r)$\n",
    "\n",
    "(b) Update $\\hat{f}$ by adding in a shrunken version of the new regression tree \n",
    "$$\\hat{f}(x) \\leftarrow \\hat{f}(x) + \\lambda \\hat{f}_b(x)$$\n",
    "\n",
    "(c) Update the residuals \n",
    "$$r_i \\leftarrow r_i - \\lambda \\hat{f}_b(x_i)$$\n",
    "\n",
    "**Step 3**. We finally output the boosted model\n",
    "$$\\hat{f}(x) = \\sum_{b=1}^b \\lambda \\hat{f}_b(x) $$"
   ]
  },
  {
   "cell_type": "code",
   "execution_count": 22,
   "metadata": {
    "hide": true
   },
   "outputs": [
    {
     "data": {
      "text/plain": [
       "GradientBoostingRegressor(alpha=0.99, criterion='friedman_mse', init=None,\n",
       "             learning_rate=0.03, loss='huber', max_depth=5,\n",
       "             max_features='auto', max_leaf_nodes=None,\n",
       "             min_impurity_decrease=0.0, min_impurity_split=None,\n",
       "             min_samples_leaf=1, min_samples_split=2,\n",
       "             min_weight_fraction_leaf=0.0, n_estimators=200,\n",
       "             presort='auto', random_state=None, subsample=1.0, verbose=0,\n",
       "             warm_start=False)"
      ]
     },
     "execution_count": 22,
     "metadata": {},
     "output_type": "execute_result"
    }
   ],
   "source": [
    "# GradientBoostingRegressor\n",
    "estgb = GradientBoostingRegressor(alpha=0.99, loss='huber', max_depth=5, learning_rate=0.03, \n",
    "                                  n_estimators=200, max_features='auto')\n",
    "estgb.fit(x_train, y_train)"
   ]
  },
  {
   "cell_type": "code",
   "execution_count": 23,
   "metadata": {
    "collapsed": true,
    "hide": true
   },
   "outputs": [],
   "source": [
    "estgb_training = score(estgb, x_train, y_train)"
   ]
  },
  {
   "cell_type": "code",
   "execution_count": 24,
   "metadata": {
    "collapsed": true,
    "hide": true
   },
   "outputs": [],
   "source": [
    "estgb_test = score(estgb, x_test, y_test)"
   ]
  },
  {
   "cell_type": "code",
   "execution_count": 25,
   "metadata": {
    "collapsed": true,
    "hide": true
   },
   "outputs": [],
   "source": [
    "features = x_train.columns\n",
    "importances = estgb.feature_importances_\n",
    "estgb_feature_df = pd.DataFrame({'features': features, 'importances': importances})\n",
    "estgb_feature_ranking = estgb_feature_df.sort_values('importances', axis=0, ascending=False).head(10)"
   ]
  },
  {
   "cell_type": "code",
   "execution_count": 26,
   "metadata": {
    "collapsed": true,
    "hide": true
   },
   "outputs": [],
   "source": [
    "color_bars = [\"#000000\", \"#062d14\",\"#0c5a27\",\"#12873b\",\"#18b44f\",\"#1ed760\",\"4be782\",\n",
    "              \"#78eda1\",\"#a5f3c0\",\"#d2f9e0\",\"#ffffff\"]"
   ]
  },
  {
   "cell_type": "code",
   "execution_count": 27,
   "metadata": {
    "hide": true
   },
   "outputs": [
    {
     "data": {
      "text/html": [
       "<iframe id=\"igraph\" scrolling=\"no\" style=\"border:none;\" seamless=\"seamless\" src=\"https://plot.ly/~tingnoble/19.embed\" height=\"525px\" width=\"100%\"></iframe>"
      ],
      "text/plain": [
       "<plotly.tools.PlotlyDisplay object>"
      ]
     },
     "execution_count": 27,
     "metadata": {},
     "output_type": "execute_result"
    }
   ],
   "source": [
    "trace0 = go.Bar(\n",
    "    x=estgb_feature_ranking['features'],\n",
    "    y=estgb_feature_ranking['importances'],\n",
    "    marker=dict(\n",
    "        color=color_bars,\n",
    "        line=dict(\n",
    "            color='#ffffff',\n",
    "            width=1.5,\n",
    "        )\n",
    "    ),\n",
    "    opacity=0.6\n",
    ")\n",
    "\n",
    "data = [trace0]\n",
    "layout = go.Layout(\n",
    "    title='Gradient Boosting Regressor Top 10 Features',\n",
    "    xaxis=dict(\n",
    "        title='Features',\n",
    "    ),\n",
    "    yaxis=dict(\n",
    "        title='Relative Importance',\n",
    "        )\n",
    ")\n",
    "\n",
    "fig = go.Figure(data=data, layout=layout)\n",
    "py.iplot(fig, filename='Gradient Boosting Regressor Top 10 Features')"
   ]
  },
  {
   "cell_type": "markdown",
   "metadata": {
    "collapsed": true,
    "hide": true
   },
   "source": [
    "### Random Forest Regressor"
   ]
  },
  {
   "cell_type": "markdown",
   "metadata": {},
   "source": [
    "Random Forest Regressor is another commonly used machine learning method that incorporates different regression trees. We bootstrap the training samples, which are used to build an ensemble of full regression trees. Each time a split in a tree is considered, we randomly select a subset of predictors (typically set as $m = \\sqrt{p}$ of the full set of $p$ predictors. Finally, we average the predictors. This is an improvement to bagging (which takes the full set of predictors $m=p$) because by allowing only a random subset of predictors, Random Forest effectively decorrelates the regression trees. \n",
    "\n",
    "In comparison to Boosting in which weak learners (high bias, low variance) are used as base learners, which are then modelled sequentially to minimize bias, Random Forest models fully grown decision trees (low bias, high variance) in parallel and aims to reduce variance. In this way, Random Forest effectively limits the chances of over-fitting whereas boosting sometimes does overfit."
   ]
  },
  {
   "cell_type": "code",
   "execution_count": 28,
   "metadata": {
    "hide": true
   },
   "outputs": [
    {
     "data": {
      "text/plain": [
       "RandomForestRegressor(bootstrap=True, criterion='mse', max_depth=15,\n",
       "           max_features='auto', max_leaf_nodes=None,\n",
       "           min_impurity_decrease=0.0, min_impurity_split=None,\n",
       "           min_samples_leaf=2, min_samples_split=2,\n",
       "           min_weight_fraction_leaf=0.0, n_estimators=200, n_jobs=1,\n",
       "           oob_score=False, random_state=2, verbose=0, warm_start=False)"
      ]
     },
     "execution_count": 28,
     "metadata": {},
     "output_type": "execute_result"
    }
   ],
   "source": [
    "# RandomForestRegressor\n",
    "rfrg = RandomForestRegressor(n_estimators=200, max_depth=15, max_features='auto', min_samples_leaf=2, random_state=2)\n",
    "rfrg.fit(x_train, y_train)"
   ]
  },
  {
   "cell_type": "code",
   "execution_count": 29,
   "metadata": {
    "collapsed": true,
    "hide": true
   },
   "outputs": [],
   "source": [
    "rfrg_training = score(rfrg, x_train, y_train)"
   ]
  },
  {
   "cell_type": "code",
   "execution_count": 30,
   "metadata": {
    "collapsed": true,
    "hide": true
   },
   "outputs": [],
   "source": [
    "rfrg_test = score(rfrg, x_test, y_test)"
   ]
  },
  {
   "cell_type": "code",
   "execution_count": 31,
   "metadata": {
    "collapsed": true,
    "hide": true
   },
   "outputs": [],
   "source": [
    "features = x_train.columns\n",
    "importances = rfrg.feature_importances_\n",
    "rfrg_feature_df = pd.DataFrame({'features': features, 'importances': importances})\n",
    "rfrg_feature_ranking = rfrg_feature_df.sort_values('importances', axis=0, ascending=False).head(10)"
   ]
  },
  {
   "cell_type": "code",
   "execution_count": 32,
   "metadata": {
    "hide": true
   },
   "outputs": [
    {
     "data": {
      "text/html": [
       "<iframe id=\"igraph\" scrolling=\"no\" style=\"border:none;\" seamless=\"seamless\" src=\"https://plot.ly/~tingnoble/23.embed\" height=\"525px\" width=\"100%\"></iframe>"
      ],
      "text/plain": [
       "<plotly.tools.PlotlyDisplay object>"
      ]
     },
     "execution_count": 32,
     "metadata": {},
     "output_type": "execute_result"
    }
   ],
   "source": [
    "trace0 = go.Bar(\n",
    "    x=rfrg_feature_ranking['features'],\n",
    "    y=rfrg_feature_ranking['importances'],\n",
    "    marker=dict(\n",
    "        color=color_bars,\n",
    "        line=dict(\n",
    "            color='#ffffff',\n",
    "            width=1.5,\n",
    "        )\n",
    "    ),\n",
    "    opacity=0.6\n",
    ")\n",
    "\n",
    "data = [trace0]\n",
    "layout = go.Layout(\n",
    "    title='Random Forest Regressor Top 10 Features',\n",
    "    xaxis=dict(\n",
    "        title='Features',\n",
    "    ),\n",
    "    yaxis=dict(\n",
    "        title='Relative Importance',\n",
    "        range=[0, 0.07],\n",
    "        )\n",
    ")\n",
    "\n",
    "fig = go.Figure(data=data, layout=layout)\n",
    "py.iplot(fig, filename='Random Forest Regressor Top 10 Features')"
   ]
  },
  {
   "cell_type": "markdown",
   "metadata": {
    "collapsed": true,
    "hide": true
   },
   "source": [
    "### Huber Regressor"
   ]
  },
  {
   "cell_type": "code",
   "execution_count": 44,
   "metadata": {
    "hide": true
   },
   "outputs": [
    {
     "data": {
      "text/plain": [
       "HuberRegressor(alpha=10000, epsilon=1.0, fit_intercept=True, max_iter=100,\n",
       "        tol=1e-05, warm_start=False)"
      ]
     },
     "execution_count": 44,
     "metadata": {},
     "output_type": "execute_result"
    }
   ],
   "source": [
    "# HuberRegressor\n",
    "hubrg = HuberRegressor(max_iter=100, epsilon=1.0, alpha=10000)\n",
    "hubrg.fit(x_train, y_train)"
   ]
  },
  {
   "cell_type": "code",
   "execution_count": 45,
   "metadata": {
    "collapsed": true,
    "hide": true
   },
   "outputs": [],
   "source": [
    "hubrg_training = score(hubrg, x_train, y_train)"
   ]
  },
  {
   "cell_type": "code",
   "execution_count": 46,
   "metadata": {
    "collapsed": true,
    "hide": true
   },
   "outputs": [],
   "source": [
    "hubrg_test = score(hubrg, x_test, y_test)"
   ]
  },
  {
   "cell_type": "markdown",
   "metadata": {},
   "source": [
    "### Elastic Net"
   ]
  },
  {
   "cell_type": "code",
   "execution_count": 47,
   "metadata": {
    "hide": true
   },
   "outputs": [
    {
     "data": {
      "text/plain": [
       "ElasticNet(alpha=0.05, copy_X=True, fit_intercept=True, l1_ratio=1.0,\n",
       "      max_iter=1000, normalize=False, positive=False, precompute=False,\n",
       "      random_state=None, selection='cyclic', tol=0.0001, warm_start=False)"
      ]
     },
     "execution_count": 47,
     "metadata": {},
     "output_type": "execute_result"
    }
   ],
   "source": [
    "# ElasticNet\n",
    "elarg = ElasticNet(max_iter=1000, alpha=0.05, l1_ratio=1.0)\n",
    "elarg.fit(x_train, y_train)"
   ]
  },
  {
   "cell_type": "code",
   "execution_count": 48,
   "metadata": {
    "collapsed": true,
    "hide": true
   },
   "outputs": [],
   "source": [
    "elarg_training = score(elarg, x_train, y_train)"
   ]
  },
  {
   "cell_type": "code",
   "execution_count": 49,
   "metadata": {
    "collapsed": true,
    "hide": true
   },
   "outputs": [],
   "source": [
    "elarg_test = score(elarg, x_test, y_test)"
   ]
  },
  {
   "cell_type": "markdown",
   "metadata": {},
   "source": [
    "### SVR"
   ]
  },
  {
   "cell_type": "code",
   "execution_count": 50,
   "metadata": {
    "hide": true
   },
   "outputs": [
    {
     "data": {
      "text/plain": [
       "SVR(C=10.0, cache_size=200, coef0=0.0, degree=3, epsilon=2.0, gamma='auto',\n",
       "  kernel='rbf', max_iter=-1, shrinking=True, tol=0.001, verbose=False)"
      ]
     },
     "execution_count": 50,
     "metadata": {},
     "output_type": "execute_result"
    }
   ],
   "source": [
    "# SVR\n",
    "svrrg = SVR(kernel='rbf', C=10.0, epsilon=2.0)\n",
    "svrrg.fit(x_train, y_train)"
   ]
  },
  {
   "cell_type": "code",
   "execution_count": 51,
   "metadata": {
    "collapsed": true,
    "hide": true
   },
   "outputs": [],
   "source": [
    "svrrg_training = score(svrrg, x_train, y_train)"
   ]
  },
  {
   "cell_type": "code",
   "execution_count": 52,
   "metadata": {
    "collapsed": true,
    "hide": true
   },
   "outputs": [],
   "source": [
    "svrrg_test = score(svrrg, x_test, y_test)"
   ]
  },
  {
   "cell_type": "markdown",
   "metadata": {},
   "source": [
    "### Neural Network"
   ]
  },
  {
   "cell_type": "code",
   "execution_count": 53,
   "metadata": {
    "hide": true
   },
   "outputs": [
    {
     "data": {
      "text/plain": [
       "MLPRegressor(activation='relu', alpha=1e-06, batch_size='auto', beta_1=0.9,\n",
       "       beta_2=0.999, early_stopping=False, epsilon=1e-08,\n",
       "       hidden_layer_sizes=(100,), learning_rate='constant',\n",
       "       learning_rate_init=0.001, max_iter=200, momentum=0.9,\n",
       "       nesterovs_momentum=True, power_t=0.5, random_state=None,\n",
       "       shuffle=True, solver='adam', tol=0.0001, validation_fraction=0.1,\n",
       "       verbose=False, warm_start=False)"
      ]
     },
     "execution_count": 53,
     "metadata": {},
     "output_type": "execute_result"
    }
   ],
   "source": [
    "# Neural Network\n",
    "mlprg = MLPRegressor(alpha=0.000001)\n",
    "mlprg.fit(x_train, y_train)"
   ]
  },
  {
   "cell_type": "code",
   "execution_count": 54,
   "metadata": {
    "collapsed": true,
    "hide": true
   },
   "outputs": [],
   "source": [
    "mlprg_training = score(mlprg, x_train, y_train)"
   ]
  },
  {
   "cell_type": "code",
   "execution_count": 55,
   "metadata": {
    "collapsed": true,
    "hide": true
   },
   "outputs": [],
   "source": [
    "mlprg_test = score(mlprg, x_test, y_test)"
   ]
  },
  {
   "cell_type": "markdown",
   "metadata": {},
   "source": [
    "### Adaboost Regressor"
   ]
  },
  {
   "cell_type": "code",
   "execution_count": 35,
   "metadata": {
    "collapsed": true,
    "hide": true
   },
   "outputs": [],
   "source": [
    "# Base Estimator\n",
    "estgb_small = GradientBoostingRegressor(alpha=0.95, loss='huber', max_depth=3, learning_rate=0.01, \n",
    "                                        n_estimators=200, max_features='auto')"
   ]
  },
  {
   "cell_type": "code",
   "execution_count": 36,
   "metadata": {
    "hide": true
   },
   "outputs": [
    {
     "data": {
      "text/plain": [
       "AdaBoostRegressor(base_estimator=GradientBoostingRegressor(alpha=0.95, criterion='friedman_mse', init=None,\n",
       "             learning_rate=0.01, loss='huber', max_depth=3,\n",
       "             max_features='auto', max_leaf_nodes=None,\n",
       "             min_impurity_decrease=0.0, min_impurity_split=None,\n",
       "             min_samples_leaf=1, min_samples_split=2,\n",
       "             min_weight_fraction_leaf=0.0, n_estimators=200,\n",
       "             presort='auto', random_state=None, subsample=1.0, verbose=0,\n",
       "             warm_start=False),\n",
       "         learning_rate=0.04, loss='exponential', n_estimators=200,\n",
       "         random_state=None)"
      ]
     },
     "execution_count": 36,
     "metadata": {},
     "output_type": "execute_result"
    }
   ],
   "source": [
    "# Adaboost Regressor\n",
    "adarg = AdaBoostRegressor(base_estimator=estgb_small, loss='exponential', learning_rate=0.04, n_estimators=200)\n",
    "adarg.fit(x_train, y_train)"
   ]
  },
  {
   "cell_type": "code",
   "execution_count": 37,
   "metadata": {
    "collapsed": true,
    "hide": true
   },
   "outputs": [],
   "source": [
    "adarg_training = score(adarg, x_train, y_train)"
   ]
  },
  {
   "cell_type": "code",
   "execution_count": 38,
   "metadata": {
    "collapsed": true,
    "hide": true
   },
   "outputs": [],
   "source": [
    "adarg_test = score(adarg, x_test, y_test)"
   ]
  },
  {
   "cell_type": "code",
   "execution_count": 39,
   "metadata": {
    "collapsed": true,
    "hide": true
   },
   "outputs": [],
   "source": [
    "features = x_train.columns\n",
    "importances = adarg.feature_importances_\n",
    "adarg_feature_df = pd.DataFrame({'features': features, 'importances': importances})\n",
    "adarg_feature_ranking = adarg_feature_df.sort_values('importances', axis=0, ascending=False).head(10)"
   ]
  },
  {
   "cell_type": "code",
   "execution_count": 40,
   "metadata": {
    "hide": true
   },
   "outputs": [
    {
     "data": {
      "text/html": [
       "<iframe id=\"igraph\" scrolling=\"no\" style=\"border:none;\" seamless=\"seamless\" src=\"https://plot.ly/~tingnoble/35.embed\" height=\"525px\" width=\"100%\"></iframe>"
      ],
      "text/plain": [
       "<plotly.tools.PlotlyDisplay object>"
      ]
     },
     "execution_count": 40,
     "metadata": {},
     "output_type": "execute_result"
    }
   ],
   "source": [
    "trace0 = go.Bar(\n",
    "    x=adarg_feature_ranking['features'],\n",
    "    y=adarg_feature_ranking['importances'],\n",
    "    marker=dict(\n",
    "        color=color_bars,\n",
    "        line=dict(\n",
    "            color='#ffffff',\n",
    "            width=1.5,\n",
    "        )\n",
    "    ),\n",
    "    opacity=0.6\n",
    ")\n",
    "\n",
    "data = [trace0]\n",
    "layout = go.Layout(\n",
    "    title='AdaBoost Regressor Top 10 Features',\n",
    "    xaxis=dict(\n",
    "        title='Features',\n",
    "    ),\n",
    "    yaxis=dict(\n",
    "        title='Relative Importance',\n",
    "        range=[0, 0.07],\n",
    "        )\n",
    ")\n",
    "\n",
    "fig = go.Figure(data=data, layout=layout)\n",
    "py.iplot(fig, filename='AdaBoost Regressor Top 10 Features')"
   ]
  },
  {
   "cell_type": "markdown",
   "metadata": {},
   "source": [
    "### Bagging Regressor"
   ]
  },
  {
   "cell_type": "code",
   "execution_count": 60,
   "metadata": {
    "hide": true
   },
   "outputs": [
    {
     "data": {
      "text/plain": [
       "BaggingRegressor(base_estimator=GradientBoostingRegressor(alpha=0.95, criterion='friedman_mse', init=None,\n",
       "             learning_rate=0.01, loss='huber', max_depth=3,\n",
       "             max_features='auto', max_leaf_nodes=None,\n",
       "             min_impurity_decrease=0.0, min_impurity_split=None,\n",
       "             min_samples_leaf=1, min_samples_split=2,\n",
       "             min_weight_fraction_leaf=0.0, n_estimators=200,\n",
       "             presort='auto', random_state=None, subsample=1.0, verbose=0,\n",
       "             warm_start=False),\n",
       "         bootstrap=True, bootstrap_features=False, max_features=1.0,\n",
       "         max_samples=1.0, n_estimators=10, n_jobs=1, oob_score=False,\n",
       "         random_state=None, verbose=0, warm_start=False)"
      ]
     },
     "execution_count": 60,
     "metadata": {},
     "output_type": "execute_result"
    }
   ],
   "source": [
    "# Base Estimator\n",
    "bagrg = BaggingRegressor(base_estimator=estgb_small, n_estimators=10, max_samples=1.0, max_features=1.0)\n",
    "bagrg.fit(x_train, y_train)"
   ]
  },
  {
   "cell_type": "code",
   "execution_count": 61,
   "metadata": {
    "collapsed": true,
    "hide": true
   },
   "outputs": [],
   "source": [
    "# Bagging Regressor\n",
    "bagrg_training = score(bagrg, x_train, y_train)"
   ]
  },
  {
   "cell_type": "code",
   "execution_count": 62,
   "metadata": {
    "collapsed": true,
    "hide": true
   },
   "outputs": [],
   "source": [
    "bagrg_test = score(bagrg, x_test, y_test)"
   ]
  },
  {
   "cell_type": "markdown",
   "metadata": {},
   "source": [
    "### Extra Trees Regressor"
   ]
  },
  {
   "cell_type": "code",
   "execution_count": 63,
   "metadata": {
    "hide": true
   },
   "outputs": [
    {
     "data": {
      "text/plain": [
       "ExtraTreesRegressor(bootstrap=False, criterion='mse', max_depth=15,\n",
       "          max_features='auto', max_leaf_nodes=None,\n",
       "          min_impurity_decrease=0.0, min_impurity_split=None,\n",
       "          min_samples_leaf=1, min_samples_split=2,\n",
       "          min_weight_fraction_leaf=0.0, n_estimators=100, n_jobs=1,\n",
       "          oob_score=False, random_state=None, verbose=0, warm_start=False)"
      ]
     },
     "execution_count": 63,
     "metadata": {},
     "output_type": "execute_result"
    }
   ],
   "source": [
    "# Extra Trees Estimator\n",
    "etreerg = ExtraTreesRegressor(n_estimators=100, criterion='mse', max_depth=15, max_features='auto')\n",
    "etreerg.fit(x_train, y_train)"
   ]
  },
  {
   "cell_type": "code",
   "execution_count": 64,
   "metadata": {
    "collapsed": true,
    "hide": true
   },
   "outputs": [],
   "source": [
    "etreerg_training = score(etreerg, x_train, y_train)"
   ]
  },
  {
   "cell_type": "code",
   "execution_count": 65,
   "metadata": {
    "collapsed": true,
    "hide": true
   },
   "outputs": [],
   "source": [
    "etreerg_test = score(etreerg, x_test, y_test)"
   ]
  },
  {
   "cell_type": "markdown",
   "metadata": {},
   "source": [
    "## Model Summary"
   ]
  },
  {
   "cell_type": "markdown",
   "metadata": {},
   "source": [
    "### Training Data"
   ]
  },
  {
   "cell_type": "markdown",
   "metadata": {},
   "source": [
    "**Insights**\n",
    "- Based on the training data summary, **Extra Trees Regressor** best explains training data, followed by **Random Forest Regressor**, and **Gradient Boosting Regressor**\n",
    "- However, we need to bear in mind that too-good a fit on the training data suggests over-fitting - that is, the model has high variance and does not generalize the trends well (because fitted too well to the noise). This is unsurprising as just like classification trees, regression trees have the tendency to over-fit\n",
    "- We could also easily eliminate **Huber Regressor**, **Neural Network** because of their terrible performance on the training data and they might not be a good fit for the Spotify data"
   ]
  },
  {
   "cell_type": "code",
   "execution_count": 179,
   "metadata": {
    "hide": true,
    "scrolled": true
   },
   "outputs": [
    {
     "name": "stdout",
     "output_type": "stream",
     "text": [
      "Training Scores:\n"
     ]
    },
    {
     "data": {
      "text/html": [
       "<div>\n",
       "<style>\n",
       "    .dataframe thead tr:only-child th {\n",
       "        text-align: right;\n",
       "    }\n",
       "\n",
       "    .dataframe thead th {\n",
       "        text-align: left;\n",
       "    }\n",
       "\n",
       "    .dataframe tbody tr th {\n",
       "        vertical-align: top;\n",
       "    }\n",
       "</style>\n",
       "<table border=\"1\" class=\"dataframe\">\n",
       "  <thead>\n",
       "    <tr style=\"text-align: right;\">\n",
       "      <th></th>\n",
       "      <th>1. Gradient Boosting</th>\n",
       "      <th>2. Random Forest</th>\n",
       "      <th>3. Huber</th>\n",
       "      <th>4. Elastic Net</th>\n",
       "      <th>5. SVR</th>\n",
       "      <th>6. Neural Network</th>\n",
       "      <th>7. Adaboost</th>\n",
       "      <th>8. Bagging</th>\n",
       "      <th>9. Extra Trees</th>\n",
       "    </tr>\n",
       "  </thead>\n",
       "  <tbody>\n",
       "    <tr>\n",
       "      <th>R2</th>\n",
       "      <td>0.736802</td>\n",
       "      <td>0.849933</td>\n",
       "      <td>-10.140200</td>\n",
       "      <td>0.235608</td>\n",
       "      <td>0.316403</td>\n",
       "      <td>-1.250388</td>\n",
       "      <td>0.334077</td>\n",
       "      <td>0.248881</td>\n",
       "      <td>0.919044</td>\n",
       "    </tr>\n",
       "    <tr>\n",
       "      <th>EVar</th>\n",
       "      <td>0.736812</td>\n",
       "      <td>0.849968</td>\n",
       "      <td>-0.366807</td>\n",
       "      <td>0.235608</td>\n",
       "      <td>0.318354</td>\n",
       "      <td>-0.782976</td>\n",
       "      <td>0.339111</td>\n",
       "      <td>0.251695</td>\n",
       "      <td>0.919044</td>\n",
       "    </tr>\n",
       "    <tr>\n",
       "      <th>MAE</th>\n",
       "      <td>1.216138</td>\n",
       "      <td>0.924503</td>\n",
       "      <td>9.558437</td>\n",
       "      <td>2.126171</td>\n",
       "      <td>2.015300</td>\n",
       "      <td>3.631153</td>\n",
       "      <td>2.067943</td>\n",
       "      <td>2.119796</td>\n",
       "      <td>0.611329</td>\n",
       "    </tr>\n",
       "    <tr>\n",
       "      <th>MSE</th>\n",
       "      <td>2.406400</td>\n",
       "      <td>1.372049</td>\n",
       "      <td>101.854169</td>\n",
       "      <td>6.988793</td>\n",
       "      <td>6.250089</td>\n",
       "      <td>20.575162</td>\n",
       "      <td>6.088492</td>\n",
       "      <td>6.867435</td>\n",
       "      <td>0.740172</td>\n",
       "    </tr>\n",
       "    <tr>\n",
       "      <th>MSLE</th>\n",
       "      <td>0.034869</td>\n",
       "      <td>0.025533</td>\n",
       "      <td>5.343244</td>\n",
       "      <td>0.094997</td>\n",
       "      <td>0.090284</td>\n",
       "      <td>0.346028</td>\n",
       "      <td>0.082981</td>\n",
       "      <td>0.097215</td>\n",
       "      <td>0.007881</td>\n",
       "    </tr>\n",
       "    <tr>\n",
       "      <th>MEAE</th>\n",
       "      <td>0.993349</td>\n",
       "      <td>0.778746</td>\n",
       "      <td>10.386407</td>\n",
       "      <td>1.803829</td>\n",
       "      <td>1.988947</td>\n",
       "      <td>3.070110</td>\n",
       "      <td>1.918677</td>\n",
       "      <td>1.819704</td>\n",
       "      <td>0.433278</td>\n",
       "    </tr>\n",
       "  </tbody>\n",
       "</table>\n",
       "</div>"
      ],
      "text/plain": [
       "      1. Gradient Boosting  2. Random Forest    3. Huber  4. Elastic Net  \\\n",
       "R2                0.736802          0.849933  -10.140200        0.235608   \n",
       "EVar              0.736812          0.849968   -0.366807        0.235608   \n",
       "MAE               1.216138          0.924503    9.558437        2.126171   \n",
       "MSE               2.406400          1.372049  101.854169        6.988793   \n",
       "MSLE              0.034869          0.025533    5.343244        0.094997   \n",
       "MEAE              0.993349          0.778746   10.386407        1.803829   \n",
       "\n",
       "        5. SVR  6. Neural Network  7. Adaboost  8. Bagging  9. Extra Trees  \n",
       "R2    0.316403          -1.250388     0.334077    0.248881        0.919044  \n",
       "EVar  0.318354          -0.782976     0.339111    0.251695        0.919044  \n",
       "MAE   2.015300           3.631153     2.067943    2.119796        0.611329  \n",
       "MSE   6.250089          20.575162     6.088492    6.867435        0.740172  \n",
       "MSLE  0.090284           0.346028     0.082981    0.097215        0.007881  \n",
       "MEAE  1.988947           3.070110     1.918677    1.819704        0.433278  "
      ]
     },
     "execution_count": 179,
     "metadata": {},
     "output_type": "execute_result"
    }
   ],
   "source": [
    "# Training Summary (Absolute Scores)\n",
    "training_scores = pd.DataFrame({'1. Gradient Boosting': estgb_training,\n",
    "                                '2. Random Forest': rfrg_training,\n",
    "                                '3. Huber': hubrg_training,\n",
    "                                '4. Elastic Net': elarg_training,\n",
    "                                '5. SVR': svrrg_training,\n",
    "                                '6. Neural Network': mlprg_training, \n",
    "                                '7. Adaboost': adarg_training,\n",
    "                                '8. Bagging': bagrg_training,\n",
    "                                '9. Extra Trees': etreerg_training})\n",
    "print ('Training Scores:')\n",
    "training_scores"
   ]
  },
  {
   "cell_type": "code",
   "execution_count": 180,
   "metadata": {
    "hide": true
   },
   "outputs": [
    {
     "name": "stdout",
     "output_type": "stream",
     "text": [
      "Training Scores Ranking:\n"
     ]
    },
    {
     "data": {
      "text/html": [
       "<div>\n",
       "<style>\n",
       "    .dataframe thead tr:only-child th {\n",
       "        text-align: right;\n",
       "    }\n",
       "\n",
       "    .dataframe thead th {\n",
       "        text-align: left;\n",
       "    }\n",
       "\n",
       "    .dataframe tbody tr th {\n",
       "        vertical-align: top;\n",
       "    }\n",
       "</style>\n",
       "<table border=\"1\" class=\"dataframe\">\n",
       "  <thead>\n",
       "    <tr style=\"text-align: right;\">\n",
       "      <th></th>\n",
       "      <th>1. Gradient Boosting</th>\n",
       "      <th>2. Random Forest</th>\n",
       "      <th>3. Huber</th>\n",
       "      <th>4. Elastic Net</th>\n",
       "      <th>5. SVR</th>\n",
       "      <th>6. Neural Network</th>\n",
       "      <th>7. Adaboost</th>\n",
       "      <th>8. Bagging</th>\n",
       "      <th>9. Extra Trees</th>\n",
       "    </tr>\n",
       "    <tr>\n",
       "      <th></th>\n",
       "      <th></th>\n",
       "      <th></th>\n",
       "      <th></th>\n",
       "      <th></th>\n",
       "      <th></th>\n",
       "      <th></th>\n",
       "      <th></th>\n",
       "      <th></th>\n",
       "      <th></th>\n",
       "    </tr>\n",
       "  </thead>\n",
       "  <tbody>\n",
       "    <tr>\n",
       "      <th>R2</th>\n",
       "      <td>3.0</td>\n",
       "      <td>2.0</td>\n",
       "      <td>9.0</td>\n",
       "      <td>7.0</td>\n",
       "      <td>5.0</td>\n",
       "      <td>8.0</td>\n",
       "      <td>4.0</td>\n",
       "      <td>6.0</td>\n",
       "      <td>1.0</td>\n",
       "    </tr>\n",
       "    <tr>\n",
       "      <th>EVar</th>\n",
       "      <td>3.0</td>\n",
       "      <td>2.0</td>\n",
       "      <td>8.0</td>\n",
       "      <td>7.0</td>\n",
       "      <td>5.0</td>\n",
       "      <td>9.0</td>\n",
       "      <td>4.0</td>\n",
       "      <td>6.0</td>\n",
       "      <td>1.0</td>\n",
       "    </tr>\n",
       "    <tr>\n",
       "      <th>MAE</th>\n",
       "      <td>3.0</td>\n",
       "      <td>2.0</td>\n",
       "      <td>9.0</td>\n",
       "      <td>7.0</td>\n",
       "      <td>4.0</td>\n",
       "      <td>8.0</td>\n",
       "      <td>5.0</td>\n",
       "      <td>6.0</td>\n",
       "      <td>1.0</td>\n",
       "    </tr>\n",
       "    <tr>\n",
       "      <th>MSE</th>\n",
       "      <td>3.0</td>\n",
       "      <td>2.0</td>\n",
       "      <td>9.0</td>\n",
       "      <td>7.0</td>\n",
       "      <td>5.0</td>\n",
       "      <td>8.0</td>\n",
       "      <td>4.0</td>\n",
       "      <td>6.0</td>\n",
       "      <td>1.0</td>\n",
       "    </tr>\n",
       "    <tr>\n",
       "      <th>MSLE</th>\n",
       "      <td>3.0</td>\n",
       "      <td>2.0</td>\n",
       "      <td>9.0</td>\n",
       "      <td>6.0</td>\n",
       "      <td>5.0</td>\n",
       "      <td>8.0</td>\n",
       "      <td>4.0</td>\n",
       "      <td>7.0</td>\n",
       "      <td>1.0</td>\n",
       "    </tr>\n",
       "    <tr>\n",
       "      <th>MEAE</th>\n",
       "      <td>3.0</td>\n",
       "      <td>2.0</td>\n",
       "      <td>9.0</td>\n",
       "      <td>4.0</td>\n",
       "      <td>7.0</td>\n",
       "      <td>8.0</td>\n",
       "      <td>6.0</td>\n",
       "      <td>5.0</td>\n",
       "      <td>1.0</td>\n",
       "    </tr>\n",
       "  </tbody>\n",
       "</table>\n",
       "</div>"
      ],
      "text/plain": [
       "      1. Gradient Boosting  2. Random Forest  3. Huber  4. Elastic Net  \\\n",
       "                                                                         \n",
       "R2                     3.0               2.0       9.0             7.0   \n",
       "EVar                   3.0               2.0       8.0             7.0   \n",
       "MAE                    3.0               2.0       9.0             7.0   \n",
       "MSE                    3.0               2.0       9.0             7.0   \n",
       "MSLE                   3.0               2.0       9.0             6.0   \n",
       "MEAE                   3.0               2.0       9.0             4.0   \n",
       "\n",
       "      5. SVR  6. Neural Network  7. Adaboost  8. Bagging  9. Extra Trees  \n",
       "                                                                          \n",
       "R2       5.0                8.0          4.0         6.0             1.0  \n",
       "EVar     5.0                9.0          4.0         6.0             1.0  \n",
       "MAE      4.0                8.0          5.0         6.0             1.0  \n",
       "MSE      5.0                8.0          4.0         6.0             1.0  \n",
       "MSLE     5.0                8.0          4.0         7.0             1.0  \n",
       "MEAE     7.0                8.0          6.0         5.0             1.0  "
      ]
     },
     "execution_count": 180,
     "metadata": {},
     "output_type": "execute_result"
    }
   ],
   "source": [
    "# Training Summary (Ranking)\n",
    "a = training_scores[0:2].rank(1, ascending=False, method='first').reset_index()\n",
    "b = training_scores[2:6].rank(1, ascending=True, method='first').reset_index()\n",
    "training_ranking = a.merge(b, how = 'outer').set_index('index')\n",
    "training_ranking.index.names = ['']\n",
    "print ('Training Scores Ranking:')\n",
    "training_ranking"
   ]
  },
  {
   "cell_type": "markdown",
   "metadata": {},
   "source": [
    "### Test Data"
   ]
  },
  {
   "cell_type": "markdown",
   "metadata": {},
   "source": [
    "**Insights**\n",
    "- In terms of the test data, the top 3 performers are **Gradient Boosting Regressor**, **Random Forest Regressor**, and **Adaboost Regressor** if we focus on $R^2$ and $MSLE$\n",
    "\n",
    "- The parameters in the **Gradient Boosting Regressor** could be further fine-tuned to enhance its performance in the cross-validation section\n",
    "\n",
    "- Our results closely resemble the empirical results by Rich Caruana and Alexandru Niculescu-Mizil's analysis in ***An Empirical Comparison of Supervised Learning Algorithms Using Different Performance Metrics (2005)*** which concluded that boosted trees were the best learning algorithm, closely followed by Random Forest\n",
    "\n",
    "- While we do note that **Gradient Boosting Regressor** has superior performance by 3% absolute points higher than **Random Forest Regressor**, we also need to acknowledge the apparent advantages of using the **Random Forest Regressor** as it naturally handles categorical predictor variables, it is relatively time efficient even for larger datasets, we don't have to assume anything about the underlying population distribution, it fits non-linear interactions well, it also selects variables automatically. And most importantly, Random Forest has only one hyper-parameter that we need to set - the number of features to select at each node, compared to Gradient Boosting which has several hyperparameters that we need to fine-tune in cross-validation. "
   ]
  },
  {
   "cell_type": "code",
   "execution_count": 181,
   "metadata": {
    "hide": true
   },
   "outputs": [
    {
     "name": "stdout",
     "output_type": "stream",
     "text": [
      "Test Scores:\n"
     ]
    },
    {
     "data": {
      "text/html": [
       "<div>\n",
       "<style>\n",
       "    .dataframe thead tr:only-child th {\n",
       "        text-align: right;\n",
       "    }\n",
       "\n",
       "    .dataframe thead th {\n",
       "        text-align: left;\n",
       "    }\n",
       "\n",
       "    .dataframe tbody tr th {\n",
       "        vertical-align: top;\n",
       "    }\n",
       "</style>\n",
       "<table border=\"1\" class=\"dataframe\">\n",
       "  <thead>\n",
       "    <tr style=\"text-align: right;\">\n",
       "      <th></th>\n",
       "      <th>1. Gradient Boosting</th>\n",
       "      <th>2. Random Forest</th>\n",
       "      <th>3. Huber</th>\n",
       "      <th>4. Elastic Net</th>\n",
       "      <th>5. SVR</th>\n",
       "      <th>6. Neural Network</th>\n",
       "      <th>7. Adaboost</th>\n",
       "      <th>8. Bagging</th>\n",
       "      <th>9. Extra Trees</th>\n",
       "    </tr>\n",
       "  </thead>\n",
       "  <tbody>\n",
       "    <tr>\n",
       "      <th>R2</th>\n",
       "      <td>0.364040</td>\n",
       "      <td>0.335447</td>\n",
       "      <td>-10.592332</td>\n",
       "      <td>0.252289</td>\n",
       "      <td>0.148519</td>\n",
       "      <td>-1.922166</td>\n",
       "      <td>0.251908</td>\n",
       "      <td>0.216170</td>\n",
       "      <td>0.115049</td>\n",
       "    </tr>\n",
       "    <tr>\n",
       "      <th>EVar</th>\n",
       "      <td>0.364041</td>\n",
       "      <td>0.336090</td>\n",
       "      <td>-0.096876</td>\n",
       "      <td>0.254182</td>\n",
       "      <td>0.151558</td>\n",
       "      <td>-1.353871</td>\n",
       "      <td>0.253246</td>\n",
       "      <td>0.225546</td>\n",
       "      <td>0.115100</td>\n",
       "    </tr>\n",
       "    <tr>\n",
       "      <th>MAE</th>\n",
       "      <td>1.868775</td>\n",
       "      <td>1.906521</td>\n",
       "      <td>9.485701</td>\n",
       "      <td>2.021368</td>\n",
       "      <td>2.135076</td>\n",
       "      <td>4.055117</td>\n",
       "      <td>2.065463</td>\n",
       "      <td>2.024350</td>\n",
       "      <td>2.136890</td>\n",
       "    </tr>\n",
       "    <tr>\n",
       "      <th>MSE</th>\n",
       "      <td>5.440345</td>\n",
       "      <td>5.684945</td>\n",
       "      <td>99.167105</td>\n",
       "      <td>6.396325</td>\n",
       "      <td>7.284031</td>\n",
       "      <td>24.997796</td>\n",
       "      <td>6.399582</td>\n",
       "      <td>6.705308</td>\n",
       "      <td>7.570352</td>\n",
       "    </tr>\n",
       "    <tr>\n",
       "      <th>MSLE</th>\n",
       "      <td>0.076427</td>\n",
       "      <td>0.085219</td>\n",
       "      <td>5.374158</td>\n",
       "      <td>0.097137</td>\n",
       "      <td>0.110722</td>\n",
       "      <td>0.457958</td>\n",
       "      <td>0.094543</td>\n",
       "      <td>0.102952</td>\n",
       "      <td>0.102324</td>\n",
       "    </tr>\n",
       "    <tr>\n",
       "      <th>MEAE</th>\n",
       "      <td>1.595252</td>\n",
       "      <td>1.588612</td>\n",
       "      <td>9.923143</td>\n",
       "      <td>1.710858</td>\n",
       "      <td>1.880958</td>\n",
       "      <td>3.540511</td>\n",
       "      <td>1.928455</td>\n",
       "      <td>1.713208</td>\n",
       "      <td>1.593460</td>\n",
       "    </tr>\n",
       "  </tbody>\n",
       "</table>\n",
       "</div>"
      ],
      "text/plain": [
       "      1. Gradient Boosting  2. Random Forest   3. Huber  4. Elastic Net  \\\n",
       "R2                0.364040          0.335447 -10.592332        0.252289   \n",
       "EVar              0.364041          0.336090  -0.096876        0.254182   \n",
       "MAE               1.868775          1.906521   9.485701        2.021368   \n",
       "MSE               5.440345          5.684945  99.167105        6.396325   \n",
       "MSLE              0.076427          0.085219   5.374158        0.097137   \n",
       "MEAE              1.595252          1.588612   9.923143        1.710858   \n",
       "\n",
       "        5. SVR  6. Neural Network  7. Adaboost  8. Bagging  9. Extra Trees  \n",
       "R2    0.148519          -1.922166     0.251908    0.216170        0.115049  \n",
       "EVar  0.151558          -1.353871     0.253246    0.225546        0.115100  \n",
       "MAE   2.135076           4.055117     2.065463    2.024350        2.136890  \n",
       "MSE   7.284031          24.997796     6.399582    6.705308        7.570352  \n",
       "MSLE  0.110722           0.457958     0.094543    0.102952        0.102324  \n",
       "MEAE  1.880958           3.540511     1.928455    1.713208        1.593460  "
      ]
     },
     "execution_count": 181,
     "metadata": {},
     "output_type": "execute_result"
    }
   ],
   "source": [
    "# Test Summary (Absolute Scores)\n",
    "test_scores = pd.DataFrame({'1. Gradient Boosting': estgb_test,\n",
    "                            '2. Random Forest': rfrg_test,\n",
    "                            '3. Huber': hubrg_test,\n",
    "                            '4. Elastic Net': elarg_test,\n",
    "                            '5. SVR': svrrg_test,\n",
    "                            '6. Neural Network': mlprg_test, \n",
    "                            '7. Adaboost': adarg_test,\n",
    "                            '8. Bagging': bagrg_test,\n",
    "                            '9. Extra Trees': etreerg_test})\n",
    "print ('Test Scores:')\n",
    "test_scores"
   ]
  },
  {
   "cell_type": "code",
   "execution_count": 182,
   "metadata": {
    "hide": true
   },
   "outputs": [
    {
     "name": "stdout",
     "output_type": "stream",
     "text": [
      "Test Scores Ranking:\n"
     ]
    },
    {
     "data": {
      "text/html": [
       "<div>\n",
       "<style>\n",
       "    .dataframe thead tr:only-child th {\n",
       "        text-align: right;\n",
       "    }\n",
       "\n",
       "    .dataframe thead th {\n",
       "        text-align: left;\n",
       "    }\n",
       "\n",
       "    .dataframe tbody tr th {\n",
       "        vertical-align: top;\n",
       "    }\n",
       "</style>\n",
       "<table border=\"1\" class=\"dataframe\">\n",
       "  <thead>\n",
       "    <tr style=\"text-align: right;\">\n",
       "      <th></th>\n",
       "      <th>1. Gradient Boosting</th>\n",
       "      <th>2. Random Forest</th>\n",
       "      <th>3. Huber</th>\n",
       "      <th>4. Elastic Net</th>\n",
       "      <th>5. SVR</th>\n",
       "      <th>6. Neural Network</th>\n",
       "      <th>7. Adaboost</th>\n",
       "      <th>8. Bagging</th>\n",
       "      <th>9. Extra Trees</th>\n",
       "    </tr>\n",
       "    <tr>\n",
       "      <th></th>\n",
       "      <th></th>\n",
       "      <th></th>\n",
       "      <th></th>\n",
       "      <th></th>\n",
       "      <th></th>\n",
       "      <th></th>\n",
       "      <th></th>\n",
       "      <th></th>\n",
       "      <th></th>\n",
       "    </tr>\n",
       "  </thead>\n",
       "  <tbody>\n",
       "    <tr>\n",
       "      <th>R2</th>\n",
       "      <td>1.0</td>\n",
       "      <td>2.0</td>\n",
       "      <td>9.0</td>\n",
       "      <td>3.0</td>\n",
       "      <td>6.0</td>\n",
       "      <td>8.0</td>\n",
       "      <td>4.0</td>\n",
       "      <td>5.0</td>\n",
       "      <td>7.0</td>\n",
       "    </tr>\n",
       "    <tr>\n",
       "      <th>EVar</th>\n",
       "      <td>1.0</td>\n",
       "      <td>2.0</td>\n",
       "      <td>8.0</td>\n",
       "      <td>3.0</td>\n",
       "      <td>6.0</td>\n",
       "      <td>9.0</td>\n",
       "      <td>4.0</td>\n",
       "      <td>5.0</td>\n",
       "      <td>7.0</td>\n",
       "    </tr>\n",
       "    <tr>\n",
       "      <th>MAE</th>\n",
       "      <td>1.0</td>\n",
       "      <td>2.0</td>\n",
       "      <td>9.0</td>\n",
       "      <td>3.0</td>\n",
       "      <td>6.0</td>\n",
       "      <td>8.0</td>\n",
       "      <td>5.0</td>\n",
       "      <td>4.0</td>\n",
       "      <td>7.0</td>\n",
       "    </tr>\n",
       "    <tr>\n",
       "      <th>MSE</th>\n",
       "      <td>1.0</td>\n",
       "      <td>2.0</td>\n",
       "      <td>9.0</td>\n",
       "      <td>3.0</td>\n",
       "      <td>6.0</td>\n",
       "      <td>8.0</td>\n",
       "      <td>4.0</td>\n",
       "      <td>5.0</td>\n",
       "      <td>7.0</td>\n",
       "    </tr>\n",
       "    <tr>\n",
       "      <th>MSLE</th>\n",
       "      <td>1.0</td>\n",
       "      <td>2.0</td>\n",
       "      <td>9.0</td>\n",
       "      <td>4.0</td>\n",
       "      <td>7.0</td>\n",
       "      <td>8.0</td>\n",
       "      <td>3.0</td>\n",
       "      <td>6.0</td>\n",
       "      <td>5.0</td>\n",
       "    </tr>\n",
       "    <tr>\n",
       "      <th>MEAE</th>\n",
       "      <td>3.0</td>\n",
       "      <td>1.0</td>\n",
       "      <td>9.0</td>\n",
       "      <td>4.0</td>\n",
       "      <td>6.0</td>\n",
       "      <td>8.0</td>\n",
       "      <td>7.0</td>\n",
       "      <td>5.0</td>\n",
       "      <td>2.0</td>\n",
       "    </tr>\n",
       "  </tbody>\n",
       "</table>\n",
       "</div>"
      ],
      "text/plain": [
       "      1. Gradient Boosting  2. Random Forest  3. Huber  4. Elastic Net  \\\n",
       "                                                                         \n",
       "R2                     1.0               2.0       9.0             3.0   \n",
       "EVar                   1.0               2.0       8.0             3.0   \n",
       "MAE                    1.0               2.0       9.0             3.0   \n",
       "MSE                    1.0               2.0       9.0             3.0   \n",
       "MSLE                   1.0               2.0       9.0             4.0   \n",
       "MEAE                   3.0               1.0       9.0             4.0   \n",
       "\n",
       "      5. SVR  6. Neural Network  7. Adaboost  8. Bagging  9. Extra Trees  \n",
       "                                                                          \n",
       "R2       6.0                8.0          4.0         5.0             7.0  \n",
       "EVar     6.0                9.0          4.0         5.0             7.0  \n",
       "MAE      6.0                8.0          5.0         4.0             7.0  \n",
       "MSE      6.0                8.0          4.0         5.0             7.0  \n",
       "MSLE     7.0                8.0          3.0         6.0             5.0  \n",
       "MEAE     6.0                8.0          7.0         5.0             2.0  "
      ]
     },
     "execution_count": 182,
     "metadata": {},
     "output_type": "execute_result"
    }
   ],
   "source": [
    "# Test Summary (Ranking)\n",
    "a = test_scores[0:2].rank(1, ascending=False, method='first').reset_index()\n",
    "b = test_scores[2:6].rank(1, ascending=True, method='first').reset_index()\n",
    "test_ranking = a.merge(b, how = 'outer').set_index('index')\n",
    "test_ranking.index.names = ['']\n",
    "print ('Test Scores Ranking:')\n",
    "test_ranking"
   ]
  },
  {
   "cell_type": "markdown",
   "metadata": {},
   "source": [
    "## Cross Validation"
   ]
  },
  {
   "cell_type": "markdown",
   "metadata": {},
   "source": [
    "In the last section we will assess the accuracy (bias) and precision (residual error) of the **1. Gradient Boosting Regressor**. The idea of cross validation is that we divide our training dataset into 5 random parts, the training set (4 parts) is used to estimate the model, the validation set (1 part) is used to check the predictive capability and refine the model. The test set is only used once to estimate the model's true error. In this way, we can fine-tune our ensemble models' parameters to ensure a more statistically robust model. "
   ]
  },
  {
   "cell_type": "code",
   "execution_count": 183,
   "metadata": {
    "collapsed": true
   },
   "outputs": [],
   "source": [
    "grid = {'max_depth': [5, 10],\n",
    "        'learning_rate': [0.03, 0.07, 0.10], \n",
    "        'n_estimators': [50, 100, 200], \n",
    "        'loss': ['ls', 'huber'],\n",
    "        'alpha': [0.7, 0.9, 0.99], \n",
    "        'max_features': ['sqrt', 'auto', 'log2']}"
   ]
  },
  {
   "cell_type": "code",
   "execution_count": 184,
   "metadata": {},
   "outputs": [
    {
     "data": {
      "text/plain": [
       "GridSearchCV(cv=5, error_score='raise',\n",
       "       estimator=GradientBoostingRegressor(alpha=0.9, criterion='friedman_mse', init=None,\n",
       "             learning_rate=0.1, loss='ls', max_depth=3, max_features=None,\n",
       "             max_leaf_nodes=None, min_impurity_decrease=0.0,\n",
       "             min_impurity_split=None, min_samples_leaf=1,\n",
       "             min_samples_split=2, min_weight_fraction_leaf=0.0,\n",
       "             n_estimators=100, presort='auto', random_state=None,\n",
       "             subsample=1.0, verbose=0, warm_start=False),\n",
       "       fit_params={}, iid=True, n_jobs=-1,\n",
       "       param_grid={'max_depth': [5, 10], 'learning_rate': [0.03, 0.07, 0.1], 'n_estimators': [50, 100, 200], 'loss': ['ls', 'huber'], 'alpha': [0.7, 0.9, 0.99], 'max_features': ['sqrt', 'auto', 'log2']},\n",
       "       pre_dispatch='2*n_jobs', refit=True, scoring=None, verbose=0)"
      ]
     },
     "execution_count": 184,
     "metadata": {},
     "output_type": "execute_result"
    }
   ],
   "source": [
    "# Create a classifier object with the classifier and parameter candidates\n",
    "clf = GridSearchCV(estimator=GradientBoostingRegressor(), param_grid=grid, n_jobs=-1, cv=5)\n",
    "clf.fit(x_train, y_train)"
   ]
  },
  {
   "cell_type": "markdown",
   "metadata": {},
   "source": [
    "Cross-Validated Model"
   ]
  },
  {
   "cell_type": "code",
   "execution_count": 185,
   "metadata": {},
   "outputs": [
    {
     "data": {
      "text/plain": [
       "R2      0.363502\n",
       "EVar    0.363517\n",
       "MAE     1.871419\n",
       "MSE     5.444946\n",
       "MSLE    0.076121\n",
       "MEAE    1.605702\n",
       "dtype: float64"
      ]
     },
     "execution_count": 185,
     "metadata": {},
     "output_type": "execute_result"
    }
   ],
   "source": [
    "clf_test = score(clf, x_test, y_test)\n",
    "clf_test"
   ]
  },
  {
   "cell_type": "code",
   "execution_count": 186,
   "metadata": {
    "hide": true,
    "scrolled": true
   },
   "outputs": [
    {
     "name": "stdout",
     "output_type": "stream",
     "text": [
      "Best Estimator Parameters\n",
      "loss: huber\n",
      "max_depth: 5\n",
      "n_estimators: 200\n",
      "learning rate: 0.0\n",
      "alpha: 1.0\n",
      "max_features: auto\n"
     ]
    }
   ],
   "source": [
    "print (\"Best Estimator Parameters\")\n",
    "print (\"loss:\", clf.best_estimator_.loss)\n",
    "print (\"max_depth: %d\" %clf.best_estimator_.max_depth)\n",
    "print (\"n_estimators: %d\" %clf.best_estimator_.n_estimators)\n",
    "print (\"learning rate: %.1f\" %clf.best_estimator_.learning_rate)\n",
    "print (\"alpha: %.1f\" %clf.best_estimator_.alpha)\n",
    "print (\"max_features:\", clf.best_estimator_.max_features)\n",
    "# print (\"min_samples_leaf:\", clf.best_estimator_.min_samples_leaf)"
   ]
  }
 ],
 "metadata": {
  "celltoolbar": "Edit Metadata",
  "kernelspec": {
   "display_name": "Python 3",
   "language": "python",
   "name": "python3"
  },
  "language_info": {
   "codemirror_mode": {
    "name": "ipython",
    "version": 3
   },
   "file_extension": ".py",
   "mimetype": "text/x-python",
   "name": "python",
   "nbconvert_exporter": "python",
   "pygments_lexer": "ipython3",
   "version": "3.6.1"
  }
 },
 "nbformat": 4,
 "nbformat_minor": 2
}
